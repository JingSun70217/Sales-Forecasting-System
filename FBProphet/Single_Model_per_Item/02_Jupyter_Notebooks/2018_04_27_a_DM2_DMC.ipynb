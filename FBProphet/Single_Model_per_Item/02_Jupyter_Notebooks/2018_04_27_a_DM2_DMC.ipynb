{
 "cells": [
  {
   "cell_type": "markdown",
   "metadata": {},
   "source": [
    "## DM2 DMC | Facebook Prophet Baselines: A Single Model for each Item"
   ]
  },
  {
   "cell_type": "markdown",
   "metadata": {},
   "source": [
    "Let's just use the sales numbers of each single item to produce a very basic forecast."
   ]
  },
  {
   "cell_type": "markdown",
   "metadata": {},
   "source": [
    "### ToDos:"
   ]
  },
  {
   "cell_type": "markdown",
   "metadata": {},
   "source": [
    "* Finish evaluation part\n",
    "* Verify that predictions are the right ones in the list"
   ]
  },
  {
   "cell_type": "markdown",
   "metadata": {},
   "source": [
    "### Imports"
   ]
  },
  {
   "cell_type": "code",
   "execution_count": 1,
   "metadata": {},
   "outputs": [],
   "source": [
    "import pandas as pd\n",
    "import numpy as np\n",
    "from fbprophet import Prophet\n",
    "import logging\n",
    "import csv\n",
    "import pickle"
   ]
  },
  {
   "cell_type": "markdown",
   "metadata": {},
   "source": [
    "### Settings"
   ]
  },
  {
   "cell_type": "code",
   "execution_count": 2,
   "metadata": {},
   "outputs": [],
   "source": [
    "read_write_prophet_forecasts = 'r'"
   ]
  },
  {
   "cell_type": "code",
   "execution_count": 3,
   "metadata": {},
   "outputs": [],
   "source": [
    "read_write_prophet_fitted_models = 'r'"
   ]
  },
  {
   "cell_type": "markdown",
   "metadata": {},
   "source": [
    "### Directories"
   ]
  },
  {
   "cell_type": "code",
   "execution_count": 4,
   "metadata": {},
   "outputs": [],
   "source": [
    "input_file = 'C:/Users/JulianWeller/Desktop/2018_04_23_a_DM2_DMC_FB_Prophet_Date_Item.xlsx'"
   ]
  },
  {
   "cell_type": "code",
   "execution_count": 5,
   "metadata": {},
   "outputs": [],
   "source": [
    "test_data_directory = 'C:/Users/JulianWeller/OneDrive - Julian Weller/01_MMDS/03_Semester/04_A_6_Data Mining II/03_DMC/02_Test_Data/DMC_2018_test/'"
   ]
  },
  {
   "cell_type": "code",
   "execution_count": 6,
   "metadata": {},
   "outputs": [],
   "source": [
    "dump_directory = 'C:/Users/JulianWeller/Desktop/DM2_DMC_Working_Directory/'"
   ]
  },
  {
   "cell_type": "markdown",
   "metadata": {},
   "source": [
    "### Loading the Data"
   ]
  },
  {
   "cell_type": "code",
   "execution_count": 7,
   "metadata": {},
   "outputs": [],
   "source": [
    "df = pd.read_excel(input_file)"
   ]
  },
  {
   "cell_type": "markdown",
   "metadata": {},
   "source": [
    "Let's split into train and test data (test data is not used, as there is test data provided by the chair):"
   ]
  },
  {
   "cell_type": "code",
   "execution_count": 8,
   "metadata": {},
   "outputs": [],
   "source": [
    "df_train = df.drop(df.tail(31).index)"
   ]
  },
  {
   "cell_type": "code",
   "execution_count": 9,
   "metadata": {},
   "outputs": [
    {
     "data": {
      "text/html": [
       "<div>\n",
       "<style>\n",
       "    .dataframe thead tr:only-child th {\n",
       "        text-align: right;\n",
       "    }\n",
       "\n",
       "    .dataframe thead th {\n",
       "        text-align: left;\n",
       "    }\n",
       "\n",
       "    .dataframe tbody tr th {\n",
       "        vertical-align: top;\n",
       "    }\n",
       "</style>\n",
       "<table border=\"1\" class=\"dataframe\">\n",
       "  <thead>\n",
       "    <tr style=\"text-align: right;\">\n",
       "      <th></th>\n",
       "      <th>ds</th>\n",
       "      <th>10000XL ( 158-170 )</th>\n",
       "      <th>10001L</th>\n",
       "      <th>100033 (35-38 )</th>\n",
       "      <th>100034 ( 39-42 )</th>\n",
       "      <th>100035 ( 43-46 )</th>\n",
       "      <th>10006XL</th>\n",
       "      <th>10008XL</th>\n",
       "      <th>10013L</th>\n",
       "      <th>10013M</th>\n",
       "      <th>...</th>\n",
       "      <th>2286946</th>\n",
       "      <th>2286947</th>\n",
       "      <th>2286947,5</th>\n",
       "      <th>22872M ( 140-152 )</th>\n",
       "      <th>22873L</th>\n",
       "      <th>228782XL</th>\n",
       "      <th>22878L</th>\n",
       "      <th>22878M</th>\n",
       "      <th>22878XL</th>\n",
       "      <th>22881S</th>\n",
       "    </tr>\n",
       "  </thead>\n",
       "  <tbody>\n",
       "    <tr>\n",
       "      <th>87</th>\n",
       "      <td>2017-12-27</td>\n",
       "      <td>0</td>\n",
       "      <td>0</td>\n",
       "      <td>0</td>\n",
       "      <td>0</td>\n",
       "      <td>0</td>\n",
       "      <td>0</td>\n",
       "      <td>0</td>\n",
       "      <td>0</td>\n",
       "      <td>0</td>\n",
       "      <td>...</td>\n",
       "      <td>0</td>\n",
       "      <td>0</td>\n",
       "      <td>0</td>\n",
       "      <td>0</td>\n",
       "      <td>0</td>\n",
       "      <td>0</td>\n",
       "      <td>0</td>\n",
       "      <td>0</td>\n",
       "      <td>0</td>\n",
       "      <td>10</td>\n",
       "    </tr>\n",
       "    <tr>\n",
       "      <th>88</th>\n",
       "      <td>2017-12-28</td>\n",
       "      <td>0</td>\n",
       "      <td>0</td>\n",
       "      <td>0</td>\n",
       "      <td>0</td>\n",
       "      <td>0</td>\n",
       "      <td>0</td>\n",
       "      <td>0</td>\n",
       "      <td>0</td>\n",
       "      <td>0</td>\n",
       "      <td>...</td>\n",
       "      <td>0</td>\n",
       "      <td>0</td>\n",
       "      <td>10</td>\n",
       "      <td>0</td>\n",
       "      <td>0</td>\n",
       "      <td>10</td>\n",
       "      <td>30</td>\n",
       "      <td>10</td>\n",
       "      <td>20</td>\n",
       "      <td>0</td>\n",
       "    </tr>\n",
       "    <tr>\n",
       "      <th>89</th>\n",
       "      <td>2017-12-29</td>\n",
       "      <td>0</td>\n",
       "      <td>0</td>\n",
       "      <td>0</td>\n",
       "      <td>0</td>\n",
       "      <td>0</td>\n",
       "      <td>0</td>\n",
       "      <td>0</td>\n",
       "      <td>0</td>\n",
       "      <td>0</td>\n",
       "      <td>...</td>\n",
       "      <td>0</td>\n",
       "      <td>0</td>\n",
       "      <td>0</td>\n",
       "      <td>0</td>\n",
       "      <td>0</td>\n",
       "      <td>0</td>\n",
       "      <td>0</td>\n",
       "      <td>0</td>\n",
       "      <td>0</td>\n",
       "      <td>0</td>\n",
       "    </tr>\n",
       "    <tr>\n",
       "      <th>90</th>\n",
       "      <td>2017-12-30</td>\n",
       "      <td>0</td>\n",
       "      <td>0</td>\n",
       "      <td>0</td>\n",
       "      <td>0</td>\n",
       "      <td>0</td>\n",
       "      <td>0</td>\n",
       "      <td>0</td>\n",
       "      <td>0</td>\n",
       "      <td>0</td>\n",
       "      <td>...</td>\n",
       "      <td>0</td>\n",
       "      <td>0</td>\n",
       "      <td>0</td>\n",
       "      <td>0</td>\n",
       "      <td>0</td>\n",
       "      <td>0</td>\n",
       "      <td>0</td>\n",
       "      <td>0</td>\n",
       "      <td>0</td>\n",
       "      <td>0</td>\n",
       "    </tr>\n",
       "    <tr>\n",
       "      <th>91</th>\n",
       "      <td>2017-12-31</td>\n",
       "      <td>0</td>\n",
       "      <td>0</td>\n",
       "      <td>0</td>\n",
       "      <td>0</td>\n",
       "      <td>0</td>\n",
       "      <td>0</td>\n",
       "      <td>0</td>\n",
       "      <td>0</td>\n",
       "      <td>0</td>\n",
       "      <td>...</td>\n",
       "      <td>0</td>\n",
       "      <td>0</td>\n",
       "      <td>0</td>\n",
       "      <td>30</td>\n",
       "      <td>0</td>\n",
       "      <td>0</td>\n",
       "      <td>0</td>\n",
       "      <td>0</td>\n",
       "      <td>0</td>\n",
       "      <td>10</td>\n",
       "    </tr>\n",
       "  </tbody>\n",
       "</table>\n",
       "<p>5 rows × 12825 columns</p>\n",
       "</div>"
      ],
      "text/plain": [
       "            ds  10000XL ( 158-170 )  10001L  100033 (35-38 )  \\\n",
       "87  2017-12-27                    0       0                0   \n",
       "88  2017-12-28                    0       0                0   \n",
       "89  2017-12-29                    0       0                0   \n",
       "90  2017-12-30                    0       0                0   \n",
       "91  2017-12-31                    0       0                0   \n",
       "\n",
       "    100034 ( 39-42 )  100035 ( 43-46 )  10006XL  10008XL  10013L  10013M  \\\n",
       "87                 0                 0        0        0       0       0   \n",
       "88                 0                 0        0        0       0       0   \n",
       "89                 0                 0        0        0       0       0   \n",
       "90                 0                 0        0        0       0       0   \n",
       "91                 0                 0        0        0       0       0   \n",
       "\n",
       "     ...    2286946  2286947  2286947,5  22872M ( 140-152 )  22873L  228782XL  \\\n",
       "87   ...          0        0          0                   0       0         0   \n",
       "88   ...          0        0         10                   0       0        10   \n",
       "89   ...          0        0          0                   0       0         0   \n",
       "90   ...          0        0          0                   0       0         0   \n",
       "91   ...          0        0          0                  30       0         0   \n",
       "\n",
       "    22878L  22878M  22878XL  22881S  \n",
       "87       0       0        0      10  \n",
       "88      30      10       20       0  \n",
       "89       0       0        0       0  \n",
       "90       0       0        0       0  \n",
       "91       0       0        0      10  \n",
       "\n",
       "[5 rows x 12825 columns]"
      ]
     },
     "execution_count": 9,
     "metadata": {},
     "output_type": "execute_result"
    }
   ],
   "source": [
    "df_train.tail()"
   ]
  },
  {
   "cell_type": "markdown",
   "metadata": {},
   "source": [
    "Not used, but here's the January data:"
   ]
  },
  {
   "cell_type": "code",
   "execution_count": 10,
   "metadata": {},
   "outputs": [],
   "source": [
    "df_test = df.drop(df.head(92).index)"
   ]
  },
  {
   "cell_type": "code",
   "execution_count": 11,
   "metadata": {},
   "outputs": [
    {
     "data": {
      "text/html": [
       "<div>\n",
       "<style>\n",
       "    .dataframe thead tr:only-child th {\n",
       "        text-align: right;\n",
       "    }\n",
       "\n",
       "    .dataframe thead th {\n",
       "        text-align: left;\n",
       "    }\n",
       "\n",
       "    .dataframe tbody tr th {\n",
       "        vertical-align: top;\n",
       "    }\n",
       "</style>\n",
       "<table border=\"1\" class=\"dataframe\">\n",
       "  <thead>\n",
       "    <tr style=\"text-align: right;\">\n",
       "      <th></th>\n",
       "      <th>ds</th>\n",
       "      <th>10000XL ( 158-170 )</th>\n",
       "      <th>10001L</th>\n",
       "      <th>100033 (35-38 )</th>\n",
       "      <th>100034 ( 39-42 )</th>\n",
       "      <th>100035 ( 43-46 )</th>\n",
       "      <th>10006XL</th>\n",
       "      <th>10008XL</th>\n",
       "      <th>10013L</th>\n",
       "      <th>10013M</th>\n",
       "      <th>...</th>\n",
       "      <th>2286946</th>\n",
       "      <th>2286947</th>\n",
       "      <th>2286947,5</th>\n",
       "      <th>22872M ( 140-152 )</th>\n",
       "      <th>22873L</th>\n",
       "      <th>228782XL</th>\n",
       "      <th>22878L</th>\n",
       "      <th>22878M</th>\n",
       "      <th>22878XL</th>\n",
       "      <th>22881S</th>\n",
       "    </tr>\n",
       "  </thead>\n",
       "  <tbody>\n",
       "    <tr>\n",
       "      <th>92</th>\n",
       "      <td>2018-01-01</td>\n",
       "      <td>0</td>\n",
       "      <td>0</td>\n",
       "      <td>0</td>\n",
       "      <td>0</td>\n",
       "      <td>0</td>\n",
       "      <td>0</td>\n",
       "      <td>0</td>\n",
       "      <td>0</td>\n",
       "      <td>0</td>\n",
       "      <td>...</td>\n",
       "      <td>0</td>\n",
       "      <td>0</td>\n",
       "      <td>0</td>\n",
       "      <td>0</td>\n",
       "      <td>0</td>\n",
       "      <td>0</td>\n",
       "      <td>0</td>\n",
       "      <td>10</td>\n",
       "      <td>0</td>\n",
       "      <td>0</td>\n",
       "    </tr>\n",
       "    <tr>\n",
       "      <th>93</th>\n",
       "      <td>2018-01-02</td>\n",
       "      <td>0</td>\n",
       "      <td>0</td>\n",
       "      <td>0</td>\n",
       "      <td>0</td>\n",
       "      <td>0</td>\n",
       "      <td>0</td>\n",
       "      <td>0</td>\n",
       "      <td>0</td>\n",
       "      <td>0</td>\n",
       "      <td>...</td>\n",
       "      <td>0</td>\n",
       "      <td>0</td>\n",
       "      <td>0</td>\n",
       "      <td>0</td>\n",
       "      <td>0</td>\n",
       "      <td>10</td>\n",
       "      <td>0</td>\n",
       "      <td>0</td>\n",
       "      <td>0</td>\n",
       "      <td>10</td>\n",
       "    </tr>\n",
       "    <tr>\n",
       "      <th>94</th>\n",
       "      <td>2018-01-03</td>\n",
       "      <td>0</td>\n",
       "      <td>0</td>\n",
       "      <td>0</td>\n",
       "      <td>0</td>\n",
       "      <td>0</td>\n",
       "      <td>0</td>\n",
       "      <td>0</td>\n",
       "      <td>0</td>\n",
       "      <td>0</td>\n",
       "      <td>...</td>\n",
       "      <td>0</td>\n",
       "      <td>0</td>\n",
       "      <td>0</td>\n",
       "      <td>0</td>\n",
       "      <td>0</td>\n",
       "      <td>0</td>\n",
       "      <td>0</td>\n",
       "      <td>0</td>\n",
       "      <td>0</td>\n",
       "      <td>0</td>\n",
       "    </tr>\n",
       "    <tr>\n",
       "      <th>95</th>\n",
       "      <td>2018-01-04</td>\n",
       "      <td>0</td>\n",
       "      <td>0</td>\n",
       "      <td>0</td>\n",
       "      <td>0</td>\n",
       "      <td>0</td>\n",
       "      <td>0</td>\n",
       "      <td>0</td>\n",
       "      <td>0</td>\n",
       "      <td>0</td>\n",
       "      <td>...</td>\n",
       "      <td>0</td>\n",
       "      <td>0</td>\n",
       "      <td>0</td>\n",
       "      <td>0</td>\n",
       "      <td>0</td>\n",
       "      <td>0</td>\n",
       "      <td>0</td>\n",
       "      <td>0</td>\n",
       "      <td>0</td>\n",
       "      <td>0</td>\n",
       "    </tr>\n",
       "    <tr>\n",
       "      <th>96</th>\n",
       "      <td>2018-01-05</td>\n",
       "      <td>0</td>\n",
       "      <td>0</td>\n",
       "      <td>0</td>\n",
       "      <td>0</td>\n",
       "      <td>0</td>\n",
       "      <td>0</td>\n",
       "      <td>0</td>\n",
       "      <td>0</td>\n",
       "      <td>0</td>\n",
       "      <td>...</td>\n",
       "      <td>0</td>\n",
       "      <td>0</td>\n",
       "      <td>0</td>\n",
       "      <td>0</td>\n",
       "      <td>0</td>\n",
       "      <td>0</td>\n",
       "      <td>0</td>\n",
       "      <td>0</td>\n",
       "      <td>0</td>\n",
       "      <td>0</td>\n",
       "    </tr>\n",
       "  </tbody>\n",
       "</table>\n",
       "<p>5 rows × 12825 columns</p>\n",
       "</div>"
      ],
      "text/plain": [
       "            ds  10000XL ( 158-170 )  10001L  100033 (35-38 )  \\\n",
       "92  2018-01-01                    0       0                0   \n",
       "93  2018-01-02                    0       0                0   \n",
       "94  2018-01-03                    0       0                0   \n",
       "95  2018-01-04                    0       0                0   \n",
       "96  2018-01-05                    0       0                0   \n",
       "\n",
       "    100034 ( 39-42 )  100035 ( 43-46 )  10006XL  10008XL  10013L  10013M  \\\n",
       "92                 0                 0        0        0       0       0   \n",
       "93                 0                 0        0        0       0       0   \n",
       "94                 0                 0        0        0       0       0   \n",
       "95                 0                 0        0        0       0       0   \n",
       "96                 0                 0        0        0       0       0   \n",
       "\n",
       "     ...    2286946  2286947  2286947,5  22872M ( 140-152 )  22873L  228782XL  \\\n",
       "92   ...          0        0          0                   0       0         0   \n",
       "93   ...          0        0          0                   0       0        10   \n",
       "94   ...          0        0          0                   0       0         0   \n",
       "95   ...          0        0          0                   0       0         0   \n",
       "96   ...          0        0          0                   0       0         0   \n",
       "\n",
       "    22878L  22878M  22878XL  22881S  \n",
       "92       0      10        0       0  \n",
       "93       0       0        0      10  \n",
       "94       0       0        0       0  \n",
       "95       0       0        0       0  \n",
       "96       0       0        0       0  \n",
       "\n",
       "[5 rows x 12825 columns]"
      ]
     },
     "execution_count": 11,
     "metadata": {},
     "output_type": "execute_result"
    }
   ],
   "source": [
    "df_test.head()"
   ]
  },
  {
   "cell_type": "markdown",
   "metadata": {},
   "source": [
    "Let's create that 'ds' column FB prophet always needs:"
   ]
  },
  {
   "cell_type": "code",
   "execution_count": 12,
   "metadata": {},
   "outputs": [],
   "source": [
    "df_ds = df_train.iloc[:,[0]]"
   ]
  },
  {
   "cell_type": "code",
   "execution_count": 13,
   "metadata": {},
   "outputs": [
    {
     "data": {
      "text/html": [
       "<div>\n",
       "<style>\n",
       "    .dataframe thead tr:only-child th {\n",
       "        text-align: right;\n",
       "    }\n",
       "\n",
       "    .dataframe thead th {\n",
       "        text-align: left;\n",
       "    }\n",
       "\n",
       "    .dataframe tbody tr th {\n",
       "        vertical-align: top;\n",
       "    }\n",
       "</style>\n",
       "<table border=\"1\" class=\"dataframe\">\n",
       "  <thead>\n",
       "    <tr style=\"text-align: right;\">\n",
       "      <th></th>\n",
       "      <th>ds</th>\n",
       "    </tr>\n",
       "  </thead>\n",
       "  <tbody>\n",
       "    <tr>\n",
       "      <th>0</th>\n",
       "      <td>2017-10-01</td>\n",
       "    </tr>\n",
       "    <tr>\n",
       "      <th>1</th>\n",
       "      <td>2017-10-02</td>\n",
       "    </tr>\n",
       "    <tr>\n",
       "      <th>2</th>\n",
       "      <td>2017-10-03</td>\n",
       "    </tr>\n",
       "    <tr>\n",
       "      <th>3</th>\n",
       "      <td>2017-10-04</td>\n",
       "    </tr>\n",
       "    <tr>\n",
       "      <th>4</th>\n",
       "      <td>2017-10-05</td>\n",
       "    </tr>\n",
       "  </tbody>\n",
       "</table>\n",
       "</div>"
      ],
      "text/plain": [
       "           ds\n",
       "0  2017-10-01\n",
       "1  2017-10-02\n",
       "2  2017-10-03\n",
       "3  2017-10-04\n",
       "4  2017-10-05"
      ]
     },
     "execution_count": 13,
     "metadata": {},
     "output_type": "execute_result"
    }
   ],
   "source": [
    "df_ds.head()"
   ]
  },
  {
   "cell_type": "markdown",
   "metadata": {},
   "source": [
    "Let's create a list of dataframes where each such dataframe contains a 'ds' and a 'y' column so that we can easily give it to the prophet and ask for predictions:"
   ]
  },
  {
   "cell_type": "code",
   "execution_count": 14,
   "metadata": {},
   "outputs": [],
   "source": [
    "list_of_dataframes = []"
   ]
  },
  {
   "cell_type": "markdown",
   "metadata": {},
   "source": [
    "And let's keep track of the item keys:"
   ]
  },
  {
   "cell_type": "code",
   "execution_count": 15,
   "metadata": {},
   "outputs": [],
   "source": [
    "list_of_item_keys = []"
   ]
  },
  {
   "cell_type": "code",
   "execution_count": 16,
   "metadata": {},
   "outputs": [],
   "source": [
    "for i in range(1, 12825):\n",
    "    df_to_be_appended = df_ds.join(df_train.iloc[:,[i]])\n",
    "    \n",
    "    list_of_item_keys.append(df_to_be_appended.columns[1])\n",
    "    \n",
    "    df_to_be_appended.columns = ['ds', 'y']\n",
    "    \n",
    "    list_of_dataframes.append(df_to_be_appended)"
   ]
  },
  {
   "cell_type": "markdown",
   "metadata": {},
   "source": [
    "Here's an example of a list entry:"
   ]
  },
  {
   "cell_type": "code",
   "execution_count": 17,
   "metadata": {},
   "outputs": [
    {
     "data": {
      "text/plain": [
       "'10008XL'"
      ]
     },
     "execution_count": 17,
     "metadata": {},
     "output_type": "execute_result"
    }
   ],
   "source": [
    "list_of_item_keys[6]"
   ]
  },
  {
   "cell_type": "code",
   "execution_count": 18,
   "metadata": {},
   "outputs": [
    {
     "data": {
      "text/html": [
       "<div>\n",
       "<style>\n",
       "    .dataframe thead tr:only-child th {\n",
       "        text-align: right;\n",
       "    }\n",
       "\n",
       "    .dataframe thead th {\n",
       "        text-align: left;\n",
       "    }\n",
       "\n",
       "    .dataframe tbody tr th {\n",
       "        vertical-align: top;\n",
       "    }\n",
       "</style>\n",
       "<table border=\"1\" class=\"dataframe\">\n",
       "  <thead>\n",
       "    <tr style=\"text-align: right;\">\n",
       "      <th></th>\n",
       "      <th>ds</th>\n",
       "      <th>y</th>\n",
       "    </tr>\n",
       "  </thead>\n",
       "  <tbody>\n",
       "    <tr>\n",
       "      <th>0</th>\n",
       "      <td>2017-10-01</td>\n",
       "      <td>0</td>\n",
       "    </tr>\n",
       "    <tr>\n",
       "      <th>1</th>\n",
       "      <td>2017-10-02</td>\n",
       "      <td>0</td>\n",
       "    </tr>\n",
       "    <tr>\n",
       "      <th>2</th>\n",
       "      <td>2017-10-03</td>\n",
       "      <td>0</td>\n",
       "    </tr>\n",
       "    <tr>\n",
       "      <th>3</th>\n",
       "      <td>2017-10-04</td>\n",
       "      <td>0</td>\n",
       "    </tr>\n",
       "    <tr>\n",
       "      <th>4</th>\n",
       "      <td>2017-10-05</td>\n",
       "      <td>0</td>\n",
       "    </tr>\n",
       "  </tbody>\n",
       "</table>\n",
       "</div>"
      ],
      "text/plain": [
       "           ds  y\n",
       "0  2017-10-01  0\n",
       "1  2017-10-02  0\n",
       "2  2017-10-03  0\n",
       "3  2017-10-04  0\n",
       "4  2017-10-05  0"
      ]
     },
     "execution_count": 18,
     "metadata": {},
     "output_type": "execute_result"
    }
   ],
   "source": [
    "list_of_dataframes[6].head()"
   ]
  },
  {
   "cell_type": "markdown",
   "metadata": {},
   "source": [
    "The prophet may shut up while propheting:"
   ]
  },
  {
   "cell_type": "code",
   "execution_count": 19,
   "metadata": {},
   "outputs": [],
   "source": [
    "logger = logging.getLogger()\n",
    "logger.setLevel(logging.CRITICAL)"
   ]
  },
  {
   "cell_type": "markdown",
   "metadata": {},
   "source": [
    "A list with the prophet's fitted models:"
   ]
  },
  {
   "cell_type": "code",
   "execution_count": 20,
   "metadata": {},
   "outputs": [],
   "source": [
    "prophet_fitted_models = []"
   ]
  },
  {
   "cell_type": "code",
   "execution_count": 21,
   "metadata": {},
   "outputs": [],
   "source": [
    "if read_write_prophet_fitted_models == 'w':\n",
    "    for i in list_of_dataframes:\n",
    "        prophet_fitted_models.append(Prophet().fit(i))"
   ]
  },
  {
   "cell_type": "code",
   "execution_count": 22,
   "metadata": {},
   "outputs": [],
   "source": [
    "if read_write_prophet_fitted_models == 'w':\n",
    "    with open(dump_directory + \"prophet_fitted_models\", \"wb\") as fp:\n",
    "        pickle.dump(prophet_fitted_models, fp)"
   ]
  },
  {
   "cell_type": "code",
   "execution_count": 23,
   "metadata": {},
   "outputs": [],
   "source": [
    "if read_write_prophet_fitted_models == 'r':\n",
    "    with open(dump_directory + \"prophet_fitted_models\", \"rb\") as fp:\n",
    "        prophet_fitted_models = pickle.load(fp)"
   ]
  },
  {
   "cell_type": "markdown",
   "metadata": {},
   "source": [
    "And another one with the prophet's forecasts:"
   ]
  },
  {
   "cell_type": "code",
   "execution_count": 24,
   "metadata": {},
   "outputs": [],
   "source": [
    "prophet_forecasts = []"
   ]
  },
  {
   "cell_type": "code",
   "execution_count": 25,
   "metadata": {},
   "outputs": [],
   "source": [
    "if read_write_prophet_forecasts == 'w':\n",
    "    for i in prophet_fitted_models:\n",
    "        prophet_forecasts.append(i.predict(i.make_future_dataframe(periods=31))[['ds', 'yhat']].drop(forecast.head(92).index))"
   ]
  },
  {
   "cell_type": "code",
   "execution_count": 26,
   "metadata": {},
   "outputs": [],
   "source": [
    "if read_write_prophet_forecasts == 'w':\n",
    "    with open(dump_directory + \"prophet_forecasts\", \"wb\") as fp:\n",
    "        pickle.dump(prophet_forecasts, fp)"
   ]
  },
  {
   "cell_type": "code",
   "execution_count": 27,
   "metadata": {},
   "outputs": [],
   "source": [
    "if read_write_prophet_forecasts == 'r':\n",
    "    with open(dump_directory + \"prophet_forecasts\", \"rb\") as fp:\n",
    "        prophet_forecasts = pickle.load(fp)"
   ]
  },
  {
   "cell_type": "code",
   "execution_count": 28,
   "metadata": {},
   "outputs": [
    {
     "data": {
      "text/plain": [
       "'10008XL'"
      ]
     },
     "execution_count": 28,
     "metadata": {},
     "output_type": "execute_result"
    }
   ],
   "source": [
    "list_of_item_keys[6]"
   ]
  },
  {
   "cell_type": "code",
   "execution_count": 29,
   "metadata": {},
   "outputs": [
    {
     "data": {
      "text/plain": [
       "[0.8036191913829713,\n",
       " 0.03978470266827813,\n",
       " 0.040921233734018014,\n",
       " 0.8070217807380953,\n",
       " 0.043319142347723494,\n",
       " 0.04453057987808118,\n",
       " 0.04589960625688036,\n",
       " 0.8099201771842401,\n",
       " 0.04608568846929151,\n",
       " 0.047222219536841525,\n",
       " 0.8133227665414946,\n",
       " 0.04962012814985492,\n",
       " 0.05083156568096536,\n",
       " 0.052200592060517,\n",
       " 0.8162211629881572,\n",
       " 0.05238667427327903,\n",
       " 0.05352320533966512,\n",
       " 0.8196237523428969,\n",
       " 0.05592111395352031,\n",
       " 0.057132551483850685,\n",
       " 0.05850157786415361,\n",
       " 0.8225221487905243,\n",
       " 0.05868766007726661,\n",
       " 0.05982419114337528,\n",
       " 0.8259247381478441,\n",
       " 0.06222209975804399,\n",
       " 0.06343353728673332,\n",
       " 0.0648025636677903,\n",
       " 0.8288231345933428,\n",
       " 0.06498864588021153,\n",
       " 0.06612517694812992]"
      ]
     },
     "execution_count": 29,
     "metadata": {},
     "output_type": "execute_result"
    }
   ],
   "source": [
    "prophet_forecasts[6]['yhat'].tolist()"
   ]
  },
  {
   "cell_type": "markdown",
   "metadata": {},
   "source": [
    "### Loading the Test Data from the Chair"
   ]
  },
  {
   "cell_type": "code",
   "execution_count": 30,
   "metadata": {},
   "outputs": [],
   "source": [
    "test_data = []"
   ]
  },
  {
   "cell_type": "code",
   "execution_count": 31,
   "metadata": {},
   "outputs": [],
   "source": [
    "for i in range(0, 5):\n",
    "    df = pd.read_csv(test_data_directory + 'test_' + str(i) + '.csv', dtype={'pid': int})\n",
    "    \n",
    "    df.drop('Unnamed: 0', axis=1, inplace=True)\n",
    "    \n",
    "    ################################\n",
    "    # Taken from Basil: datamining2/data/datasets_Basil/create_dataset_v0.3.ipynb\n",
    "    #Creating key for train dataset\n",
    "    keys3=[]\n",
    "    i=0\n",
    "    while i<len(df):\n",
    "        key=str(df.iloc[i,0]) + str(df.iloc[i,1])\n",
    "        keys3.append(key)\n",
    "        i=i+1\n",
    "        \n",
    "    df['key']=keys3\n",
    "    ################################\n",
    "    \n",
    "    df.drop(df.columns[0], axis=1, inplace=True)\n",
    "    df.drop(df.columns[0], axis=1, inplace=True)\n",
    "    \n",
    "    df['soldout_day'] = df['sold_out_date'].str[-2:]\n",
    "    \n",
    "    df.soldout_day = pd.to_numeric(df.soldout_day, errors='coerce')\n",
    "    \n",
    "    df.drop(df.columns[1], axis=1, inplace=True)\n",
    "    \n",
    "    test_data.append(df)"
   ]
  },
  {
   "cell_type": "code",
   "execution_count": 32,
   "metadata": {},
   "outputs": [
    {
     "data": {
      "text/html": [
       "<div>\n",
       "<style>\n",
       "    .dataframe thead tr:only-child th {\n",
       "        text-align: right;\n",
       "    }\n",
       "\n",
       "    .dataframe thead th {\n",
       "        text-align: left;\n",
       "    }\n",
       "\n",
       "    .dataframe tbody tr th {\n",
       "        vertical-align: top;\n",
       "    }\n",
       "</style>\n",
       "<table border=\"1\" class=\"dataframe\">\n",
       "  <thead>\n",
       "    <tr style=\"text-align: right;\">\n",
       "      <th></th>\n",
       "      <th>stock</th>\n",
       "      <th>key</th>\n",
       "      <th>soldout_day</th>\n",
       "    </tr>\n",
       "  </thead>\n",
       "  <tbody>\n",
       "    <tr>\n",
       "      <th>0</th>\n",
       "      <td>1.0</td>\n",
       "      <td>10001L</td>\n",
       "      <td>7</td>\n",
       "    </tr>\n",
       "    <tr>\n",
       "      <th>1</th>\n",
       "      <td>1.0</td>\n",
       "      <td>100035 ( 43-46 )</td>\n",
       "      <td>30</td>\n",
       "    </tr>\n",
       "    <tr>\n",
       "      <th>2</th>\n",
       "      <td>4.0</td>\n",
       "      <td>10008XL</td>\n",
       "      <td>30</td>\n",
       "    </tr>\n",
       "    <tr>\n",
       "      <th>3</th>\n",
       "      <td>1.0</td>\n",
       "      <td>10013L</td>\n",
       "      <td>24</td>\n",
       "    </tr>\n",
       "    <tr>\n",
       "      <th>4</th>\n",
       "      <td>1.0</td>\n",
       "      <td>10013M</td>\n",
       "      <td>22</td>\n",
       "    </tr>\n",
       "  </tbody>\n",
       "</table>\n",
       "</div>"
      ],
      "text/plain": [
       "   stock               key  soldout_day\n",
       "0    1.0            10001L            7\n",
       "1    1.0  100035 ( 43-46 )           30\n",
       "2    4.0           10008XL           30\n",
       "3    1.0            10013L           24\n",
       "4    1.0            10013M           22"
      ]
     },
     "execution_count": 32,
     "metadata": {},
     "output_type": "execute_result"
    }
   ],
   "source": [
    "test_data[0].head()"
   ]
  },
  {
   "cell_type": "code",
   "execution_count": 33,
   "metadata": {},
   "outputs": [
    {
     "data": {
      "text/plain": [
       "'10008XL'"
      ]
     },
     "execution_count": 33,
     "metadata": {},
     "output_type": "execute_result"
    }
   ],
   "source": [
    "list_of_item_keys[6]"
   ]
  },
  {
   "cell_type": "code",
   "execution_count": 34,
   "metadata": {},
   "outputs": [
    {
     "data": {
      "text/plain": [
       "4.0"
      ]
     },
     "execution_count": 34,
     "metadata": {},
     "output_type": "execute_result"
    }
   ],
   "source": [
    "test_data[0].loc[df['key'] == list_of_item_keys[6]].iloc[0]['stock']"
   ]
  },
  {
   "cell_type": "code",
   "execution_count": 35,
   "metadata": {},
   "outputs": [
    {
     "data": {
      "text/plain": [
       "30"
      ]
     },
     "execution_count": 35,
     "metadata": {},
     "output_type": "execute_result"
    }
   ],
   "source": [
    "test_data[0].loc[df['key'] == list_of_item_keys[6]].iloc[0]['soldout_day']"
   ]
  },
  {
   "cell_type": "markdown",
   "metadata": {},
   "source": [
    "### Evaluation"
   ]
  },
  {
   "cell_type": "code",
   "execution_count": 36,
   "metadata": {},
   "outputs": [],
   "source": [
    "################################\n",
    "# Taken from Chung: datamining2/measures/objectives.py\n",
    "def soldout_day(pred, stock):\n",
    "    \"\"\"\n",
    "    Calculates first day that stock hits 0 in a certain month for an item\n",
    "    :param pred: Array of predicted sales units for an item\n",
    "    :param stock: Stock at beginning of month for an item\n",
    "    :return: Day of month that stock reaches 0\n",
    "    \"\"\"\n",
    "    soldout_day = len(pred)\n",
    "    for day in range(len(pred)):\n",
    "        stock -= pred[day]\n",
    "        #print(stock)\n",
    "        if stock <= 0:\n",
    "            soldout_day = day+1\n",
    "            break\n",
    "    return soldout_day\n",
    "################################"
   ]
  },
  {
   "cell_type": "code",
   "execution_count": 37,
   "metadata": {},
   "outputs": [
    {
     "data": {
      "text/plain": [
       "15"
      ]
     },
     "execution_count": 37,
     "metadata": {},
     "output_type": "execute_result"
    }
   ],
   "source": [
    "soldout_day(prophet_forecasts[6]['yhat'].tolist(), test_data[0].loc[df['key'] == list_of_item_keys[6]].iloc[0]['stock'])"
   ]
  },
  {
   "cell_type": "markdown",
   "metadata": {},
   "source": [
    "Absolute difference:"
   ]
  },
  {
   "cell_type": "code",
   "execution_count": 38,
   "metadata": {},
   "outputs": [
    {
     "data": {
      "text/plain": [
       "15"
      ]
     },
     "execution_count": 38,
     "metadata": {},
     "output_type": "execute_result"
    }
   ],
   "source": [
    "abs(test_data[0].loc[df['key'] == list_of_item_keys[6]].iloc[0]['soldout_day'] - soldout_day(prophet_forecasts[6]['yhat'].tolist(), test_data[0].loc[df['key'] == list_of_item_keys[6]].iloc[0]['stock']))"
   ]
  }
 ],
 "metadata": {
  "kernelspec": {
   "display_name": "Python 3",
   "language": "python",
   "name": "python3"
  },
  "language_info": {
   "codemirror_mode": {
    "name": "ipython",
    "version": 3
   },
   "file_extension": ".py",
   "mimetype": "text/x-python",
   "name": "python",
   "nbconvert_exporter": "python",
   "pygments_lexer": "ipython3",
   "version": "3.6.2"
  }
 },
 "nbformat": 4,
 "nbformat_minor": 2
}
