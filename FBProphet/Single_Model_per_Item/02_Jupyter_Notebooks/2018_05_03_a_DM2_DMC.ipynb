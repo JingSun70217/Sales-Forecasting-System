{
 "cells": [
  {
   "cell_type": "markdown",
   "metadata": {},
   "source": [
    "## DM2 DMC | Facebook Prophet Baselines: A Single Model for each Item"
   ]
  },
  {
   "cell_type": "markdown",
   "metadata": {},
   "source": [
    "Let's just use the sales numbers of each single item to produce a very basic forecast."
   ]
  },
  {
   "cell_type": "markdown",
   "metadata": {},
   "source": [
    "### Imports"
   ]
  },
  {
   "cell_type": "code",
   "execution_count": 1,
   "metadata": {},
   "outputs": [],
   "source": [
    "import pandas as pd\n",
    "import numpy as np\n",
    "from fbprophet import Prophet\n",
    "import logging\n",
    "import csv\n",
    "import pickle\n",
    "\n",
    "from scipy.stats.mstats import zscore"
   ]
  },
  {
   "cell_type": "code",
   "execution_count": 2,
   "metadata": {},
   "outputs": [],
   "source": [
    "%matplotlib inline\n",
    "\n",
    "import matplotlib\n",
    "import matplotlib.pyplot as plt"
   ]
  },
  {
   "cell_type": "markdown",
   "metadata": {},
   "source": [
    "### Settings"
   ]
  },
  {
   "cell_type": "code",
   "execution_count": 3,
   "metadata": {},
   "outputs": [],
   "source": [
    "read_write_prophet_forecasts = 'w'"
   ]
  },
  {
   "cell_type": "code",
   "execution_count": 4,
   "metadata": {},
   "outputs": [],
   "source": [
    "read_write_prophet_fitted_models = 'w'"
   ]
  },
  {
   "cell_type": "markdown",
   "metadata": {},
   "source": [
    "### Directories"
   ]
  },
  {
   "cell_type": "code",
   "execution_count": 5,
   "metadata": {},
   "outputs": [],
   "source": [
    "input_file_sales = 'C:/Users/JulianWeller/Desktop/2018_04_23_a_DM2_DMC_FB_Prophet_Date_Item.xlsx'"
   ]
  },
  {
   "cell_type": "code",
   "execution_count": 6,
   "metadata": {},
   "outputs": [],
   "source": [
    "data = 'C:/Users/JulianWeller/Desktop/data_v0.5.csv'"
   ]
  },
  {
   "cell_type": "code",
   "execution_count": 7,
   "metadata": {},
   "outputs": [],
   "source": [
    "test_data_directory = 'C:/Users/JulianWeller/OneDrive - Julian Weller/01_MMDS/03_Semester/04_A_6_Data Mining II/03_DMC/02_Test_Data/DMC_2018_test/'"
   ]
  },
  {
   "cell_type": "code",
   "execution_count": 8,
   "metadata": {},
   "outputs": [],
   "source": [
    "dump_directory = 'C:/Users/JulianWeller/Desktop/DM2_DMC_Working_Directory/'"
   ]
  },
  {
   "cell_type": "markdown",
   "metadata": {},
   "source": [
    "### Loading the Data"
   ]
  },
  {
   "cell_type": "code",
   "execution_count": 9,
   "metadata": {},
   "outputs": [],
   "source": [
    "df = pd.read_excel(input_file_sales)"
   ]
  },
  {
   "cell_type": "code",
   "execution_count": 10,
   "metadata": {},
   "outputs": [],
   "source": [
    "df_prices = pd.read_csv(data)"
   ]
  },
  {
   "cell_type": "code",
   "execution_count": 11,
   "metadata": {},
   "outputs": [],
   "source": [
    "df_prices.drop('Unnamed: 0', axis=1, inplace=True)"
   ]
  },
  {
   "cell_type": "code",
   "execution_count": 12,
   "metadata": {},
   "outputs": [
    {
     "data": {
      "text/html": [
       "<div>\n",
       "<style>\n",
       "    .dataframe thead tr:only-child th {\n",
       "        text-align: right;\n",
       "    }\n",
       "\n",
       "    .dataframe thead th {\n",
       "        text-align: left;\n",
       "    }\n",
       "\n",
       "    .dataframe tbody tr th {\n",
       "        vertical-align: top;\n",
       "    }\n",
       "</style>\n",
       "<table border=\"1\" class=\"dataframe\">\n",
       "  <thead>\n",
       "    <tr style=\"text-align: right;\">\n",
       "      <th></th>\n",
       "      <th>key</th>\n",
       "      <th>pid</th>\n",
       "      <th>size</th>\n",
       "      <th>color</th>\n",
       "      <th>brand</th>\n",
       "      <th>rrp</th>\n",
       "      <th>mainCategory</th>\n",
       "      <th>category</th>\n",
       "      <th>subCategory</th>\n",
       "      <th>stock</th>\n",
       "      <th>...</th>\n",
       "      <th>2018-02-28_prices_normalized_lag_19</th>\n",
       "      <th>2018-02-28_prices_normalized_lag_20</th>\n",
       "      <th>2018-02-28_prices_normalized_lag_21</th>\n",
       "      <th>2018-02-28_prices_normalized_lag_22</th>\n",
       "      <th>2018-02-28_prices_normalized_lag_23</th>\n",
       "      <th>2018-02-28_prices_normalized_lag_24</th>\n",
       "      <th>2018-02-28_prices_normalized_lag_25</th>\n",
       "      <th>2018-02-28_prices_normalized_lag_26</th>\n",
       "      <th>2018-02-28_prices_normalized_lag_27</th>\n",
       "      <th>2018-02-28_prices_normalized_lag_28</th>\n",
       "    </tr>\n",
       "  </thead>\n",
       "  <tbody>\n",
       "    <tr>\n",
       "      <th>0</th>\n",
       "      <td>10000XL ( 158-170 )</td>\n",
       "      <td>10000.0</td>\n",
       "      <td>XL ( 158-170 )</td>\n",
       "      <td>gruen</td>\n",
       "      <td>Nike</td>\n",
       "      <td>25.33</td>\n",
       "      <td>1.0</td>\n",
       "      <td>7.0</td>\n",
       "      <td>25.0</td>\n",
       "      <td>1.0</td>\n",
       "      <td>...</td>\n",
       "      <td>0.0</td>\n",
       "      <td>0.0</td>\n",
       "      <td>0.0</td>\n",
       "      <td>0.0</td>\n",
       "      <td>0.0</td>\n",
       "      <td>0.0</td>\n",
       "      <td>0.0</td>\n",
       "      <td>0.0</td>\n",
       "      <td>0.0</td>\n",
       "      <td>0.0</td>\n",
       "    </tr>\n",
       "    <tr>\n",
       "      <th>1</th>\n",
       "      <td>10001L</td>\n",
       "      <td>10001.0</td>\n",
       "      <td>L</td>\n",
       "      <td>schwarz</td>\n",
       "      <td>Jako</td>\n",
       "      <td>38.03</td>\n",
       "      <td>1.0</td>\n",
       "      <td>7.0</td>\n",
       "      <td>16.0</td>\n",
       "      <td>1.0</td>\n",
       "      <td>...</td>\n",
       "      <td>0.0</td>\n",
       "      <td>0.0</td>\n",
       "      <td>0.0</td>\n",
       "      <td>0.0</td>\n",
       "      <td>0.0</td>\n",
       "      <td>0.0</td>\n",
       "      <td>0.0</td>\n",
       "      <td>0.0</td>\n",
       "      <td>0.0</td>\n",
       "      <td>0.0</td>\n",
       "    </tr>\n",
       "    <tr>\n",
       "      <th>2</th>\n",
       "      <td>100033 (35-38 )</td>\n",
       "      <td>10003.0</td>\n",
       "      <td>3 (35-38 )</td>\n",
       "      <td>weiss</td>\n",
       "      <td>Jako</td>\n",
       "      <td>12.63</td>\n",
       "      <td>1.0</td>\n",
       "      <td>7.0</td>\n",
       "      <td>13.0</td>\n",
       "      <td>1.0</td>\n",
       "      <td>...</td>\n",
       "      <td>0.0</td>\n",
       "      <td>0.0</td>\n",
       "      <td>0.0</td>\n",
       "      <td>0.0</td>\n",
       "      <td>0.0</td>\n",
       "      <td>0.0</td>\n",
       "      <td>0.0</td>\n",
       "      <td>0.0</td>\n",
       "      <td>0.0</td>\n",
       "      <td>0.0</td>\n",
       "    </tr>\n",
       "    <tr>\n",
       "      <th>3</th>\n",
       "      <td>100034 ( 39-42 )</td>\n",
       "      <td>10003.0</td>\n",
       "      <td>4 ( 39-42 )</td>\n",
       "      <td>weiss</td>\n",
       "      <td>Jako</td>\n",
       "      <td>12.63</td>\n",
       "      <td>1.0</td>\n",
       "      <td>7.0</td>\n",
       "      <td>13.0</td>\n",
       "      <td>1.0</td>\n",
       "      <td>...</td>\n",
       "      <td>0.0</td>\n",
       "      <td>0.0</td>\n",
       "      <td>0.0</td>\n",
       "      <td>0.0</td>\n",
       "      <td>0.0</td>\n",
       "      <td>0.0</td>\n",
       "      <td>0.0</td>\n",
       "      <td>0.0</td>\n",
       "      <td>0.0</td>\n",
       "      <td>0.0</td>\n",
       "    </tr>\n",
       "    <tr>\n",
       "      <th>4</th>\n",
       "      <td>100035 ( 43-46 )</td>\n",
       "      <td>10003.0</td>\n",
       "      <td>5 ( 43-46 )</td>\n",
       "      <td>weiss</td>\n",
       "      <td>Jako</td>\n",
       "      <td>12.63</td>\n",
       "      <td>1.0</td>\n",
       "      <td>7.0</td>\n",
       "      <td>13.0</td>\n",
       "      <td>1.0</td>\n",
       "      <td>...</td>\n",
       "      <td>0.0</td>\n",
       "      <td>0.0</td>\n",
       "      <td>0.0</td>\n",
       "      <td>0.0</td>\n",
       "      <td>0.0</td>\n",
       "      <td>0.0</td>\n",
       "      <td>0.0</td>\n",
       "      <td>0.0</td>\n",
       "      <td>0.0</td>\n",
       "      <td>0.0</td>\n",
       "    </tr>\n",
       "  </tbody>\n",
       "</table>\n",
       "<p>5 rows × 9497 columns</p>\n",
       "</div>"
      ],
      "text/plain": [
       "                   key      pid            size    color brand    rrp  \\\n",
       "0  10000XL ( 158-170 )  10000.0  XL ( 158-170 )    gruen  Nike  25.33   \n",
       "1               10001L  10001.0               L  schwarz  Jako  38.03   \n",
       "2      100033 (35-38 )  10003.0      3 (35-38 )    weiss  Jako  12.63   \n",
       "3     100034 ( 39-42 )  10003.0     4 ( 39-42 )    weiss  Jako  12.63   \n",
       "4     100035 ( 43-46 )  10003.0     5 ( 43-46 )    weiss  Jako  12.63   \n",
       "\n",
       "   mainCategory  category  subCategory  stock  \\\n",
       "0           1.0       7.0         25.0    1.0   \n",
       "1           1.0       7.0         16.0    1.0   \n",
       "2           1.0       7.0         13.0    1.0   \n",
       "3           1.0       7.0         13.0    1.0   \n",
       "4           1.0       7.0         13.0    1.0   \n",
       "\n",
       "                  ...                  2018-02-28_prices_normalized_lag_19  \\\n",
       "0                 ...                                                  0.0   \n",
       "1                 ...                                                  0.0   \n",
       "2                 ...                                                  0.0   \n",
       "3                 ...                                                  0.0   \n",
       "4                 ...                                                  0.0   \n",
       "\n",
       "   2018-02-28_prices_normalized_lag_20  2018-02-28_prices_normalized_lag_21  \\\n",
       "0                                  0.0                                  0.0   \n",
       "1                                  0.0                                  0.0   \n",
       "2                                  0.0                                  0.0   \n",
       "3                                  0.0                                  0.0   \n",
       "4                                  0.0                                  0.0   \n",
       "\n",
       "   2018-02-28_prices_normalized_lag_22  2018-02-28_prices_normalized_lag_23  \\\n",
       "0                                  0.0                                  0.0   \n",
       "1                                  0.0                                  0.0   \n",
       "2                                  0.0                                  0.0   \n",
       "3                                  0.0                                  0.0   \n",
       "4                                  0.0                                  0.0   \n",
       "\n",
       "   2018-02-28_prices_normalized_lag_24  2018-02-28_prices_normalized_lag_25  \\\n",
       "0                                  0.0                                  0.0   \n",
       "1                                  0.0                                  0.0   \n",
       "2                                  0.0                                  0.0   \n",
       "3                                  0.0                                  0.0   \n",
       "4                                  0.0                                  0.0   \n",
       "\n",
       "   2018-02-28_prices_normalized_lag_26  2018-02-28_prices_normalized_lag_27  \\\n",
       "0                                  0.0                                  0.0   \n",
       "1                                  0.0                                  0.0   \n",
       "2                                  0.0                                  0.0   \n",
       "3                                  0.0                                  0.0   \n",
       "4                                  0.0                                  0.0   \n",
       "\n",
       "   2018-02-28_prices_normalized_lag_28  \n",
       "0                                  0.0  \n",
       "1                                  0.0  \n",
       "2                                  0.0  \n",
       "3                                  0.0  \n",
       "4                                  0.0  \n",
       "\n",
       "[5 rows x 9497 columns]"
      ]
     },
     "execution_count": 12,
     "metadata": {},
     "output_type": "execute_result"
    }
   ],
   "source": [
    "df_prices.head()"
   ]
  },
  {
   "cell_type": "markdown",
   "metadata": {},
   "source": [
    "Let's split into train and test data (test data is not used, as there is test data provided by the chair):"
   ]
  },
  {
   "cell_type": "code",
   "execution_count": 13,
   "metadata": {},
   "outputs": [],
   "source": [
    "df_train = df.drop(df.tail(31).index)"
   ]
  },
  {
   "cell_type": "code",
   "execution_count": 14,
   "metadata": {},
   "outputs": [
    {
     "data": {
      "text/html": [
       "<div>\n",
       "<style>\n",
       "    .dataframe thead tr:only-child th {\n",
       "        text-align: right;\n",
       "    }\n",
       "\n",
       "    .dataframe thead th {\n",
       "        text-align: left;\n",
       "    }\n",
       "\n",
       "    .dataframe tbody tr th {\n",
       "        vertical-align: top;\n",
       "    }\n",
       "</style>\n",
       "<table border=\"1\" class=\"dataframe\">\n",
       "  <thead>\n",
       "    <tr style=\"text-align: right;\">\n",
       "      <th></th>\n",
       "      <th>ds</th>\n",
       "      <th>10000XL ( 158-170 )</th>\n",
       "      <th>10001L</th>\n",
       "      <th>100033 (35-38 )</th>\n",
       "      <th>100034 ( 39-42 )</th>\n",
       "      <th>100035 ( 43-46 )</th>\n",
       "      <th>10006XL</th>\n",
       "      <th>10008XL</th>\n",
       "      <th>10013L</th>\n",
       "      <th>10013M</th>\n",
       "      <th>...</th>\n",
       "      <th>2286946</th>\n",
       "      <th>2286947</th>\n",
       "      <th>2286947,5</th>\n",
       "      <th>22872M ( 140-152 )</th>\n",
       "      <th>22873L</th>\n",
       "      <th>228782XL</th>\n",
       "      <th>22878L</th>\n",
       "      <th>22878M</th>\n",
       "      <th>22878XL</th>\n",
       "      <th>22881S</th>\n",
       "    </tr>\n",
       "  </thead>\n",
       "  <tbody>\n",
       "    <tr>\n",
       "      <th>87</th>\n",
       "      <td>2017-12-27</td>\n",
       "      <td>0</td>\n",
       "      <td>0</td>\n",
       "      <td>0</td>\n",
       "      <td>0</td>\n",
       "      <td>0</td>\n",
       "      <td>0</td>\n",
       "      <td>0</td>\n",
       "      <td>0</td>\n",
       "      <td>0</td>\n",
       "      <td>...</td>\n",
       "      <td>0</td>\n",
       "      <td>0</td>\n",
       "      <td>0</td>\n",
       "      <td>0</td>\n",
       "      <td>0</td>\n",
       "      <td>0</td>\n",
       "      <td>0</td>\n",
       "      <td>0</td>\n",
       "      <td>0</td>\n",
       "      <td>10</td>\n",
       "    </tr>\n",
       "    <tr>\n",
       "      <th>88</th>\n",
       "      <td>2017-12-28</td>\n",
       "      <td>0</td>\n",
       "      <td>0</td>\n",
       "      <td>0</td>\n",
       "      <td>0</td>\n",
       "      <td>0</td>\n",
       "      <td>0</td>\n",
       "      <td>0</td>\n",
       "      <td>0</td>\n",
       "      <td>0</td>\n",
       "      <td>...</td>\n",
       "      <td>0</td>\n",
       "      <td>0</td>\n",
       "      <td>10</td>\n",
       "      <td>0</td>\n",
       "      <td>0</td>\n",
       "      <td>10</td>\n",
       "      <td>30</td>\n",
       "      <td>10</td>\n",
       "      <td>20</td>\n",
       "      <td>0</td>\n",
       "    </tr>\n",
       "    <tr>\n",
       "      <th>89</th>\n",
       "      <td>2017-12-29</td>\n",
       "      <td>0</td>\n",
       "      <td>0</td>\n",
       "      <td>0</td>\n",
       "      <td>0</td>\n",
       "      <td>0</td>\n",
       "      <td>0</td>\n",
       "      <td>0</td>\n",
       "      <td>0</td>\n",
       "      <td>0</td>\n",
       "      <td>...</td>\n",
       "      <td>0</td>\n",
       "      <td>0</td>\n",
       "      <td>0</td>\n",
       "      <td>0</td>\n",
       "      <td>0</td>\n",
       "      <td>0</td>\n",
       "      <td>0</td>\n",
       "      <td>0</td>\n",
       "      <td>0</td>\n",
       "      <td>0</td>\n",
       "    </tr>\n",
       "    <tr>\n",
       "      <th>90</th>\n",
       "      <td>2017-12-30</td>\n",
       "      <td>0</td>\n",
       "      <td>0</td>\n",
       "      <td>0</td>\n",
       "      <td>0</td>\n",
       "      <td>0</td>\n",
       "      <td>0</td>\n",
       "      <td>0</td>\n",
       "      <td>0</td>\n",
       "      <td>0</td>\n",
       "      <td>...</td>\n",
       "      <td>0</td>\n",
       "      <td>0</td>\n",
       "      <td>0</td>\n",
       "      <td>0</td>\n",
       "      <td>0</td>\n",
       "      <td>0</td>\n",
       "      <td>0</td>\n",
       "      <td>0</td>\n",
       "      <td>0</td>\n",
       "      <td>0</td>\n",
       "    </tr>\n",
       "    <tr>\n",
       "      <th>91</th>\n",
       "      <td>2017-12-31</td>\n",
       "      <td>0</td>\n",
       "      <td>0</td>\n",
       "      <td>0</td>\n",
       "      <td>0</td>\n",
       "      <td>0</td>\n",
       "      <td>0</td>\n",
       "      <td>0</td>\n",
       "      <td>0</td>\n",
       "      <td>0</td>\n",
       "      <td>...</td>\n",
       "      <td>0</td>\n",
       "      <td>0</td>\n",
       "      <td>0</td>\n",
       "      <td>30</td>\n",
       "      <td>0</td>\n",
       "      <td>0</td>\n",
       "      <td>0</td>\n",
       "      <td>0</td>\n",
       "      <td>0</td>\n",
       "      <td>10</td>\n",
       "    </tr>\n",
       "  </tbody>\n",
       "</table>\n",
       "<p>5 rows × 12825 columns</p>\n",
       "</div>"
      ],
      "text/plain": [
       "            ds  10000XL ( 158-170 )  10001L  100033 (35-38 )  \\\n",
       "87  2017-12-27                    0       0                0   \n",
       "88  2017-12-28                    0       0                0   \n",
       "89  2017-12-29                    0       0                0   \n",
       "90  2017-12-30                    0       0                0   \n",
       "91  2017-12-31                    0       0                0   \n",
       "\n",
       "    100034 ( 39-42 )  100035 ( 43-46 )  10006XL  10008XL  10013L  10013M  \\\n",
       "87                 0                 0        0        0       0       0   \n",
       "88                 0                 0        0        0       0       0   \n",
       "89                 0                 0        0        0       0       0   \n",
       "90                 0                 0        0        0       0       0   \n",
       "91                 0                 0        0        0       0       0   \n",
       "\n",
       "     ...    2286946  2286947  2286947,5  22872M ( 140-152 )  22873L  228782XL  \\\n",
       "87   ...          0        0          0                   0       0         0   \n",
       "88   ...          0        0         10                   0       0        10   \n",
       "89   ...          0        0          0                   0       0         0   \n",
       "90   ...          0        0          0                   0       0         0   \n",
       "91   ...          0        0          0                  30       0         0   \n",
       "\n",
       "    22878L  22878M  22878XL  22881S  \n",
       "87       0       0        0      10  \n",
       "88      30      10       20       0  \n",
       "89       0       0        0       0  \n",
       "90       0       0        0       0  \n",
       "91       0       0        0      10  \n",
       "\n",
       "[5 rows x 12825 columns]"
      ]
     },
     "execution_count": 14,
     "metadata": {},
     "output_type": "execute_result"
    }
   ],
   "source": [
    "df_train.tail()"
   ]
  },
  {
   "cell_type": "markdown",
   "metadata": {},
   "source": [
    "Not used, but here's the January data:"
   ]
  },
  {
   "cell_type": "code",
   "execution_count": 15,
   "metadata": {},
   "outputs": [],
   "source": [
    "df_test = df.drop(df.head(92).index)"
   ]
  },
  {
   "cell_type": "code",
   "execution_count": 16,
   "metadata": {},
   "outputs": [
    {
     "data": {
      "text/html": [
       "<div>\n",
       "<style>\n",
       "    .dataframe thead tr:only-child th {\n",
       "        text-align: right;\n",
       "    }\n",
       "\n",
       "    .dataframe thead th {\n",
       "        text-align: left;\n",
       "    }\n",
       "\n",
       "    .dataframe tbody tr th {\n",
       "        vertical-align: top;\n",
       "    }\n",
       "</style>\n",
       "<table border=\"1\" class=\"dataframe\">\n",
       "  <thead>\n",
       "    <tr style=\"text-align: right;\">\n",
       "      <th></th>\n",
       "      <th>ds</th>\n",
       "      <th>10000XL ( 158-170 )</th>\n",
       "      <th>10001L</th>\n",
       "      <th>100033 (35-38 )</th>\n",
       "      <th>100034 ( 39-42 )</th>\n",
       "      <th>100035 ( 43-46 )</th>\n",
       "      <th>10006XL</th>\n",
       "      <th>10008XL</th>\n",
       "      <th>10013L</th>\n",
       "      <th>10013M</th>\n",
       "      <th>...</th>\n",
       "      <th>2286946</th>\n",
       "      <th>2286947</th>\n",
       "      <th>2286947,5</th>\n",
       "      <th>22872M ( 140-152 )</th>\n",
       "      <th>22873L</th>\n",
       "      <th>228782XL</th>\n",
       "      <th>22878L</th>\n",
       "      <th>22878M</th>\n",
       "      <th>22878XL</th>\n",
       "      <th>22881S</th>\n",
       "    </tr>\n",
       "  </thead>\n",
       "  <tbody>\n",
       "    <tr>\n",
       "      <th>92</th>\n",
       "      <td>2018-01-01</td>\n",
       "      <td>0</td>\n",
       "      <td>0</td>\n",
       "      <td>0</td>\n",
       "      <td>0</td>\n",
       "      <td>0</td>\n",
       "      <td>0</td>\n",
       "      <td>0</td>\n",
       "      <td>0</td>\n",
       "      <td>0</td>\n",
       "      <td>...</td>\n",
       "      <td>0</td>\n",
       "      <td>0</td>\n",
       "      <td>0</td>\n",
       "      <td>0</td>\n",
       "      <td>0</td>\n",
       "      <td>0</td>\n",
       "      <td>0</td>\n",
       "      <td>10</td>\n",
       "      <td>0</td>\n",
       "      <td>0</td>\n",
       "    </tr>\n",
       "    <tr>\n",
       "      <th>93</th>\n",
       "      <td>2018-01-02</td>\n",
       "      <td>0</td>\n",
       "      <td>0</td>\n",
       "      <td>0</td>\n",
       "      <td>0</td>\n",
       "      <td>0</td>\n",
       "      <td>0</td>\n",
       "      <td>0</td>\n",
       "      <td>0</td>\n",
       "      <td>0</td>\n",
       "      <td>...</td>\n",
       "      <td>0</td>\n",
       "      <td>0</td>\n",
       "      <td>0</td>\n",
       "      <td>0</td>\n",
       "      <td>0</td>\n",
       "      <td>10</td>\n",
       "      <td>0</td>\n",
       "      <td>0</td>\n",
       "      <td>0</td>\n",
       "      <td>10</td>\n",
       "    </tr>\n",
       "    <tr>\n",
       "      <th>94</th>\n",
       "      <td>2018-01-03</td>\n",
       "      <td>0</td>\n",
       "      <td>0</td>\n",
       "      <td>0</td>\n",
       "      <td>0</td>\n",
       "      <td>0</td>\n",
       "      <td>0</td>\n",
       "      <td>0</td>\n",
       "      <td>0</td>\n",
       "      <td>0</td>\n",
       "      <td>...</td>\n",
       "      <td>0</td>\n",
       "      <td>0</td>\n",
       "      <td>0</td>\n",
       "      <td>0</td>\n",
       "      <td>0</td>\n",
       "      <td>0</td>\n",
       "      <td>0</td>\n",
       "      <td>0</td>\n",
       "      <td>0</td>\n",
       "      <td>0</td>\n",
       "    </tr>\n",
       "    <tr>\n",
       "      <th>95</th>\n",
       "      <td>2018-01-04</td>\n",
       "      <td>0</td>\n",
       "      <td>0</td>\n",
       "      <td>0</td>\n",
       "      <td>0</td>\n",
       "      <td>0</td>\n",
       "      <td>0</td>\n",
       "      <td>0</td>\n",
       "      <td>0</td>\n",
       "      <td>0</td>\n",
       "      <td>...</td>\n",
       "      <td>0</td>\n",
       "      <td>0</td>\n",
       "      <td>0</td>\n",
       "      <td>0</td>\n",
       "      <td>0</td>\n",
       "      <td>0</td>\n",
       "      <td>0</td>\n",
       "      <td>0</td>\n",
       "      <td>0</td>\n",
       "      <td>0</td>\n",
       "    </tr>\n",
       "    <tr>\n",
       "      <th>96</th>\n",
       "      <td>2018-01-05</td>\n",
       "      <td>0</td>\n",
       "      <td>0</td>\n",
       "      <td>0</td>\n",
       "      <td>0</td>\n",
       "      <td>0</td>\n",
       "      <td>0</td>\n",
       "      <td>0</td>\n",
       "      <td>0</td>\n",
       "      <td>0</td>\n",
       "      <td>...</td>\n",
       "      <td>0</td>\n",
       "      <td>0</td>\n",
       "      <td>0</td>\n",
       "      <td>0</td>\n",
       "      <td>0</td>\n",
       "      <td>0</td>\n",
       "      <td>0</td>\n",
       "      <td>0</td>\n",
       "      <td>0</td>\n",
       "      <td>0</td>\n",
       "    </tr>\n",
       "  </tbody>\n",
       "</table>\n",
       "<p>5 rows × 12825 columns</p>\n",
       "</div>"
      ],
      "text/plain": [
       "            ds  10000XL ( 158-170 )  10001L  100033 (35-38 )  \\\n",
       "92  2018-01-01                    0       0                0   \n",
       "93  2018-01-02                    0       0                0   \n",
       "94  2018-01-03                    0       0                0   \n",
       "95  2018-01-04                    0       0                0   \n",
       "96  2018-01-05                    0       0                0   \n",
       "\n",
       "    100034 ( 39-42 )  100035 ( 43-46 )  10006XL  10008XL  10013L  10013M  \\\n",
       "92                 0                 0        0        0       0       0   \n",
       "93                 0                 0        0        0       0       0   \n",
       "94                 0                 0        0        0       0       0   \n",
       "95                 0                 0        0        0       0       0   \n",
       "96                 0                 0        0        0       0       0   \n",
       "\n",
       "     ...    2286946  2286947  2286947,5  22872M ( 140-152 )  22873L  228782XL  \\\n",
       "92   ...          0        0          0                   0       0         0   \n",
       "93   ...          0        0          0                   0       0        10   \n",
       "94   ...          0        0          0                   0       0         0   \n",
       "95   ...          0        0          0                   0       0         0   \n",
       "96   ...          0        0          0                   0       0         0   \n",
       "\n",
       "    22878L  22878M  22878XL  22881S  \n",
       "92       0      10        0       0  \n",
       "93       0       0        0      10  \n",
       "94       0       0        0       0  \n",
       "95       0       0        0       0  \n",
       "96       0       0        0       0  \n",
       "\n",
       "[5 rows x 12825 columns]"
      ]
     },
     "execution_count": 16,
     "metadata": {},
     "output_type": "execute_result"
    }
   ],
   "source": [
    "df_test.head()"
   ]
  },
  {
   "cell_type": "markdown",
   "metadata": {},
   "source": [
    "Let's create that 'ds' column FB prophet always needs:"
   ]
  },
  {
   "cell_type": "code",
   "execution_count": 17,
   "metadata": {},
   "outputs": [],
   "source": [
    "df_ds = df_train.iloc[:,[0]]"
   ]
  },
  {
   "cell_type": "code",
   "execution_count": 18,
   "metadata": {},
   "outputs": [
    {
     "data": {
      "text/html": [
       "<div>\n",
       "<style>\n",
       "    .dataframe thead tr:only-child th {\n",
       "        text-align: right;\n",
       "    }\n",
       "\n",
       "    .dataframe thead th {\n",
       "        text-align: left;\n",
       "    }\n",
       "\n",
       "    .dataframe tbody tr th {\n",
       "        vertical-align: top;\n",
       "    }\n",
       "</style>\n",
       "<table border=\"1\" class=\"dataframe\">\n",
       "  <thead>\n",
       "    <tr style=\"text-align: right;\">\n",
       "      <th></th>\n",
       "      <th>ds</th>\n",
       "    </tr>\n",
       "  </thead>\n",
       "  <tbody>\n",
       "    <tr>\n",
       "      <th>0</th>\n",
       "      <td>2017-10-01</td>\n",
       "    </tr>\n",
       "    <tr>\n",
       "      <th>1</th>\n",
       "      <td>2017-10-02</td>\n",
       "    </tr>\n",
       "    <tr>\n",
       "      <th>2</th>\n",
       "      <td>2017-10-03</td>\n",
       "    </tr>\n",
       "    <tr>\n",
       "      <th>3</th>\n",
       "      <td>2017-10-04</td>\n",
       "    </tr>\n",
       "    <tr>\n",
       "      <th>4</th>\n",
       "      <td>2017-10-05</td>\n",
       "    </tr>\n",
       "  </tbody>\n",
       "</table>\n",
       "</div>"
      ],
      "text/plain": [
       "           ds\n",
       "0  2017-10-01\n",
       "1  2017-10-02\n",
       "2  2017-10-03\n",
       "3  2017-10-04\n",
       "4  2017-10-05"
      ]
     },
     "execution_count": 18,
     "metadata": {},
     "output_type": "execute_result"
    }
   ],
   "source": [
    "df_ds.head()"
   ]
  },
  {
   "cell_type": "markdown",
   "metadata": {},
   "source": [
    "Let's create a list of dataframes where each such dataframe contains a 'ds' and a 'y' column so that we can easily give it to the prophet and ask for predictions:"
   ]
  },
  {
   "cell_type": "code",
   "execution_count": 19,
   "metadata": {},
   "outputs": [],
   "source": [
    "list_of_dataframes = []"
   ]
  },
  {
   "cell_type": "markdown",
   "metadata": {},
   "source": [
    "And let's keep track of the item keys:"
   ]
  },
  {
   "cell_type": "code",
   "execution_count": 20,
   "metadata": {},
   "outputs": [],
   "source": [
    "list_of_item_keys = []"
   ]
  },
  {
   "cell_type": "code",
   "execution_count": 21,
   "metadata": {},
   "outputs": [],
   "source": [
    "for i in range(1, 12825):\n",
    "    df_to_be_appended = df_ds.join(df_train.iloc[:,[i]])\n",
    "    \n",
    "    list_of_item_keys.append(df_to_be_appended.columns[1])\n",
    "    \n",
    "    df_to_be_appended.columns = ['ds', 'y']\n",
    "    \n",
    "    list_of_dataframes.append(df_to_be_appended)"
   ]
  },
  {
   "cell_type": "markdown",
   "metadata": {},
   "source": [
    "Here's an example of a list entry:"
   ]
  },
  {
   "cell_type": "code",
   "execution_count": 22,
   "metadata": {},
   "outputs": [
    {
     "data": {
      "text/plain": [
       "'10000XL ( 158-170 )'"
      ]
     },
     "execution_count": 22,
     "metadata": {},
     "output_type": "execute_result"
    }
   ],
   "source": [
    "list_of_item_keys[0]"
   ]
  },
  {
   "cell_type": "code",
   "execution_count": 23,
   "metadata": {},
   "outputs": [
    {
     "data": {
      "text/html": [
       "<div>\n",
       "<style>\n",
       "    .dataframe thead tr:only-child th {\n",
       "        text-align: right;\n",
       "    }\n",
       "\n",
       "    .dataframe thead th {\n",
       "        text-align: left;\n",
       "    }\n",
       "\n",
       "    .dataframe tbody tr th {\n",
       "        vertical-align: top;\n",
       "    }\n",
       "</style>\n",
       "<table border=\"1\" class=\"dataframe\">\n",
       "  <thead>\n",
       "    <tr style=\"text-align: right;\">\n",
       "      <th></th>\n",
       "      <th>ds</th>\n",
       "      <th>y</th>\n",
       "    </tr>\n",
       "  </thead>\n",
       "  <tbody>\n",
       "    <tr>\n",
       "      <th>0</th>\n",
       "      <td>2017-10-01</td>\n",
       "      <td>0</td>\n",
       "    </tr>\n",
       "    <tr>\n",
       "      <th>1</th>\n",
       "      <td>2017-10-02</td>\n",
       "      <td>0</td>\n",
       "    </tr>\n",
       "    <tr>\n",
       "      <th>2</th>\n",
       "      <td>2017-10-03</td>\n",
       "      <td>0</td>\n",
       "    </tr>\n",
       "    <tr>\n",
       "      <th>3</th>\n",
       "      <td>2017-10-04</td>\n",
       "      <td>0</td>\n",
       "    </tr>\n",
       "    <tr>\n",
       "      <th>4</th>\n",
       "      <td>2017-10-05</td>\n",
       "      <td>0</td>\n",
       "    </tr>\n",
       "  </tbody>\n",
       "</table>\n",
       "</div>"
      ],
      "text/plain": [
       "           ds  y\n",
       "0  2017-10-01  0\n",
       "1  2017-10-02  0\n",
       "2  2017-10-03  0\n",
       "3  2017-10-04  0\n",
       "4  2017-10-05  0"
      ]
     },
     "execution_count": 23,
     "metadata": {},
     "output_type": "execute_result"
    }
   ],
   "source": [
    "list_of_dataframes[6].head()"
   ]
  },
  {
   "cell_type": "markdown",
   "metadata": {},
   "source": [
    "Let's get the normalized prices so that we can add them as an additional regressor:"
   ]
  },
  {
   "cell_type": "code",
   "execution_count": 24,
   "metadata": {},
   "outputs": [],
   "source": [
    "date_price_list_train = [i + \"_prices_normalized\" for i in df_ds['ds'].tolist()]"
   ]
  },
  {
   "cell_type": "code",
   "execution_count": 25,
   "metadata": {},
   "outputs": [],
   "source": [
    "date_price_list_test = [i + \"_prices_normalized\" for i in df_test.iloc[:,[0]]['ds'].tolist()]"
   ]
  },
  {
   "cell_type": "code",
   "execution_count": 26,
   "metadata": {},
   "outputs": [],
   "source": [
    "lists_of_prices_per_item_train = []"
   ]
  },
  {
   "cell_type": "code",
   "execution_count": 27,
   "metadata": {},
   "outputs": [],
   "source": [
    "lists_of_prices_per_item_test = []"
   ]
  },
  {
   "cell_type": "code",
   "execution_count": 28,
   "metadata": {},
   "outputs": [],
   "source": [
    "for item_key in list_of_item_keys:\n",
    "    price_list_train = []\n",
    "    price_list_test = []\n",
    "    \n",
    "    bool_error = False\n",
    "    \n",
    "    for price_date_train in date_price_list_train:\n",
    "        try:\n",
    "            price_list_train.append(df_prices.loc[df_prices['key'] == item_key].iloc[0][price_date_train])\n",
    "        except:\n",
    "            bool_error = True\n",
    "            price_list_train.append(np.nan)\n",
    "        \n",
    "    for price_date_test in date_price_list_test:\n",
    "        try:\n",
    "            price_list_test.append(df_prices.loc[df_prices['key'] == item_key].iloc[0][price_date_test])\n",
    "        except:\n",
    "            bool_error = True\n",
    "            price_list_test.append(np.nan)\n",
    "        \n",
    "    if not bool_error:\n",
    "        lists_of_prices_per_item_train.append(price_list_train)\n",
    "        lists_of_prices_per_item_test.append(price_list_test)\n",
    "    else:\n",
    "        lists_of_prices_per_item_train.append(np.nan)\n",
    "        lists_of_prices_per_item_test.append(np.nan)"
   ]
  },
  {
   "cell_type": "code",
   "execution_count": 29,
   "metadata": {},
   "outputs": [],
   "source": [
    "for idx, val in enumerate(list_of_dataframes):\n",
    "    if not str(lists_of_prices_per_item_train[idx]) == str(np.nan):\n",
    "        val['prices_normalized'] = lists_of_prices_per_item_train[idx]"
   ]
  },
  {
   "cell_type": "markdown",
   "metadata": {},
   "source": [
    "Marketing activities as provided by Basil:"
   ]
  },
  {
   "cell_type": "code",
   "execution_count": 30,
   "metadata": {},
   "outputs": [],
   "source": [
    "################################\n",
    "# Taken from Basil: datamining2/data/datasets_Basil/create_dataset_v0.3.ipynb\n",
    "#creating array with dates where 11 Teamsports announces discount on social media\n",
    "marketingactivities=['2017-10-11','2017-10-16','2017-11-04','2017-11-11','2017-11-23','2017-11-24',\n",
    "                     '2017-11-25','2017-11-27','2017-12-03','2017-12-27','2017-12-28','2017-12-31',\n",
    "                    '2018-01-14','2018-01-22','2018-01-23','2018-01-30','2018-02-06','2018-02-07',\n",
    "                     '2018-02-20','2018-02-22','2018-02-23']\n",
    "################################"
   ]
  },
  {
   "cell_type": "code",
   "execution_count": 31,
   "metadata": {},
   "outputs": [],
   "source": [
    "marketingactivities_prophet = pd.DataFrame({\n",
    "    'holiday': 'marketingactivity',\n",
    "    'ds': pd.to_datetime(marketingactivities),\n",
    "    })"
   ]
  },
  {
   "cell_type": "markdown",
   "metadata": {},
   "source": [
    "The prophet may shut up while propheting:"
   ]
  },
  {
   "cell_type": "code",
   "execution_count": 32,
   "metadata": {},
   "outputs": [],
   "source": [
    "logger = logging.getLogger()\n",
    "logger.setLevel(logging.CRITICAL)"
   ]
  },
  {
   "cell_type": "markdown",
   "metadata": {},
   "source": [
    "A list with the prophet's fitted models:"
   ]
  },
  {
   "cell_type": "code",
   "execution_count": 33,
   "metadata": {},
   "outputs": [],
   "source": [
    "prophet_fitted_models = []"
   ]
  },
  {
   "cell_type": "code",
   "execution_count": 34,
   "metadata": {},
   "outputs": [
    {
     "name": "stderr",
     "output_type": "stream",
     "text": [
      "C:\\Users\\JulianWeller\\Anaconda3\\lib\\site-packages\\pystan\\misc.py:399: FutureWarning: Conversion of the second argument of issubdtype from `float` to `np.floating` is deprecated. In future, it will be treated as `np.float64 == np.dtype(float).type`.\n",
      "  elif np.issubdtype(np.asarray(v).dtype, float):\n"
     ]
    }
   ],
   "source": [
    "if read_write_prophet_fitted_models == 'w':\n",
    "    for idx, val in enumerate(list_of_dataframes):\n",
    "        if not str(lists_of_prices_per_item_train[idx]) == str(np.nan):\n",
    "            try:\n",
    "                prophet_fitted_models.append(Prophet(holidays = marketingactivities_prophet).add_regressor('prices_normalized').fit(val))\n",
    "            except:\n",
    "                # If prices are constant, Prophet will throw an error\n",
    "                prophet_fitted_models.append(Prophet(holidays = marketingactivities_prophet).fit(val))"
   ]
  },
  {
   "cell_type": "code",
   "execution_count": 35,
   "metadata": {},
   "outputs": [],
   "source": [
    "if read_write_prophet_fitted_models == 'w':\n",
    "    with open(dump_directory + \"prophet_fitted_models_v2\", \"wb\") as fp:\n",
    "        pickle.dump(prophet_fitted_models, fp)"
   ]
  },
  {
   "cell_type": "code",
   "execution_count": 36,
   "metadata": {},
   "outputs": [],
   "source": [
    "if read_write_prophet_fitted_models == 'r':\n",
    "    with open(dump_directory + \"prophet_fitted_models_v2\", \"rb\") as fp:\n",
    "        prophet_fitted_models = pickle.load(fp)"
   ]
  },
  {
   "cell_type": "markdown",
   "metadata": {},
   "source": [
    "And another one with the prophet's forecasts:"
   ]
  },
  {
   "cell_type": "code",
   "execution_count": 37,
   "metadata": {},
   "outputs": [],
   "source": [
    "prophet_forecasts = []"
   ]
  },
  {
   "cell_type": "code",
   "execution_count": 38,
   "metadata": {},
   "outputs": [],
   "source": [
    "if read_write_prophet_forecasts == 'w':\n",
    "    for idx, val in enumerate(prophet_fitted_models):\n",
    "        future = val.make_future_dataframe(periods=31)[92:]\n",
    "        \n",
    "        if not str(lists_of_prices_per_item_test[idx]) == str(np.nan):\n",
    "            future['_prices_normalized'] = lists_of_prices_per_item_test[idx]\n",
    "\n",
    "        prophet_forecasts.append(val.predict(future)[['ds', 'yhat']])"
   ]
  },
  {
   "cell_type": "code",
   "execution_count": 39,
   "metadata": {},
   "outputs": [],
   "source": [
    "if read_write_prophet_forecasts == 'w':\n",
    "    with open(dump_directory + \"prophet_forecasts_v2\", \"wb\") as fp:\n",
    "        pickle.dump(prophet_forecasts, fp)"
   ]
  },
  {
   "cell_type": "code",
   "execution_count": 40,
   "metadata": {},
   "outputs": [],
   "source": [
    "if read_write_prophet_forecasts == 'r':\n",
    "    with open(dump_directory + \"prophet_forecasts_v2\", \"rb\") as fp:\n",
    "        prophet_forecasts = pickle.load(fp)"
   ]
  },
  {
   "cell_type": "markdown",
   "metadata": {},
   "source": [
    "Let's look at an example:"
   ]
  },
  {
   "cell_type": "code",
   "execution_count": 41,
   "metadata": {},
   "outputs": [
    {
     "data": {
      "text/plain": [
       "'10008XL'"
      ]
     },
     "execution_count": 41,
     "metadata": {},
     "output_type": "execute_result"
    }
   ],
   "source": [
    "list_of_item_keys[6]"
   ]
  },
  {
   "cell_type": "code",
   "execution_count": 42,
   "metadata": {},
   "outputs": [
    {
     "data": {
      "text/html": [
       "<div>\n",
       "<style>\n",
       "    .dataframe thead tr:only-child th {\n",
       "        text-align: right;\n",
       "    }\n",
       "\n",
       "    .dataframe thead th {\n",
       "        text-align: left;\n",
       "    }\n",
       "\n",
       "    .dataframe tbody tr th {\n",
       "        vertical-align: top;\n",
       "    }\n",
       "</style>\n",
       "<table border=\"1\" class=\"dataframe\">\n",
       "  <thead>\n",
       "    <tr style=\"text-align: right;\">\n",
       "      <th></th>\n",
       "      <th>ds</th>\n",
       "      <th>yhat</th>\n",
       "    </tr>\n",
       "  </thead>\n",
       "  <tbody>\n",
       "    <tr>\n",
       "      <th>0</th>\n",
       "      <td>2018-01-01</td>\n",
       "      <td>0.838017</td>\n",
       "    </tr>\n",
       "    <tr>\n",
       "      <th>1</th>\n",
       "      <td>2018-01-02</td>\n",
       "      <td>0.048817</td>\n",
       "    </tr>\n",
       "    <tr>\n",
       "      <th>2</th>\n",
       "      <td>2018-01-03</td>\n",
       "      <td>0.071798</td>\n",
       "    </tr>\n",
       "    <tr>\n",
       "      <th>3</th>\n",
       "      <td>2018-01-04</td>\n",
       "      <td>0.840025</td>\n",
       "    </tr>\n",
       "    <tr>\n",
       "      <th>4</th>\n",
       "      <td>2018-01-05</td>\n",
       "      <td>0.062056</td>\n",
       "    </tr>\n",
       "  </tbody>\n",
       "</table>\n",
       "</div>"
      ],
      "text/plain": [
       "          ds      yhat\n",
       "0 2018-01-01  0.838017\n",
       "1 2018-01-02  0.048817\n",
       "2 2018-01-03  0.071798\n",
       "3 2018-01-04  0.840025\n",
       "4 2018-01-05  0.062056"
      ]
     },
     "execution_count": 42,
     "metadata": {},
     "output_type": "execute_result"
    }
   ],
   "source": [
    "prophet_forecasts[6].head()"
   ]
  },
  {
   "cell_type": "markdown",
   "metadata": {},
   "source": [
    "### Adjust Predictions for Items"
   ]
  },
  {
   "cell_type": "markdown",
   "metadata": {},
   "source": [
    "Count how often an item was sold overall:"
   ]
  },
  {
   "cell_type": "code",
   "execution_count": 43,
   "metadata": {},
   "outputs": [],
   "source": [
    "list_of_column_names_of_items = df_train.columns.tolist()[1:]"
   ]
  },
  {
   "cell_type": "code",
   "execution_count": 44,
   "metadata": {},
   "outputs": [
    {
     "data": {
      "text/plain": [
       "'10000XL ( 158-170 )'"
      ]
     },
     "execution_count": 44,
     "metadata": {},
     "output_type": "execute_result"
    }
   ],
   "source": [
    "list_of_column_names_of_items[0]"
   ]
  },
  {
   "cell_type": "code",
   "execution_count": 45,
   "metadata": {},
   "outputs": [
    {
     "data": {
      "text/plain": [
       "'22881S'"
      ]
     },
     "execution_count": 45,
     "metadata": {},
     "output_type": "execute_result"
    }
   ],
   "source": [
    "list_of_column_names_of_items[-1]"
   ]
  },
  {
   "cell_type": "code",
   "execution_count": 46,
   "metadata": {},
   "outputs": [],
   "source": [
    "df_train_sums = [df_train[i].sum() for i in list_of_column_names_of_items]"
   ]
  },
  {
   "cell_type": "code",
   "execution_count": 47,
   "metadata": {},
   "outputs": [
    {
     "data": {
      "text/html": [
       "<div>\n",
       "<style>\n",
       "    .dataframe thead tr:only-child th {\n",
       "        text-align: right;\n",
       "    }\n",
       "\n",
       "    .dataframe thead th {\n",
       "        text-align: left;\n",
       "    }\n",
       "\n",
       "    .dataframe tbody tr th {\n",
       "        vertical-align: top;\n",
       "    }\n",
       "</style>\n",
       "<table border=\"1\" class=\"dataframe\">\n",
       "  <thead>\n",
       "    <tr style=\"text-align: right;\">\n",
       "      <th></th>\n",
       "      <th>0</th>\n",
       "    </tr>\n",
       "  </thead>\n",
       "  <tbody>\n",
       "    <tr>\n",
       "      <th>count</th>\n",
       "      <td>12824.000000</td>\n",
       "    </tr>\n",
       "    <tr>\n",
       "      <th>mean</th>\n",
       "      <td>177.826731</td>\n",
       "    </tr>\n",
       "    <tr>\n",
       "      <th>std</th>\n",
       "      <td>680.618204</td>\n",
       "    </tr>\n",
       "    <tr>\n",
       "      <th>min</th>\n",
       "      <td>0.000000</td>\n",
       "    </tr>\n",
       "    <tr>\n",
       "      <th>25%</th>\n",
       "      <td>10.000000</td>\n",
       "    </tr>\n",
       "    <tr>\n",
       "      <th>50%</th>\n",
       "      <td>40.000000</td>\n",
       "    </tr>\n",
       "    <tr>\n",
       "      <th>75%</th>\n",
       "      <td>110.000000</td>\n",
       "    </tr>\n",
       "    <tr>\n",
       "      <th>max</th>\n",
       "      <td>19960.000000</td>\n",
       "    </tr>\n",
       "  </tbody>\n",
       "</table>\n",
       "</div>"
      ],
      "text/plain": [
       "                  0\n",
       "count  12824.000000\n",
       "mean     177.826731\n",
       "std      680.618204\n",
       "min        0.000000\n",
       "25%       10.000000\n",
       "50%       40.000000\n",
       "75%      110.000000\n",
       "max    19960.000000"
      ]
     },
     "execution_count": 47,
     "metadata": {},
     "output_type": "execute_result"
    }
   ],
   "source": [
    "pd.DataFrame(df_train_sums).describe()"
   ]
  },
  {
   "cell_type": "code",
   "execution_count": 48,
   "metadata": {},
   "outputs": [
    {
     "data": {
      "image/png": "[encoded data removed]",
      "text/plain": [
       "<matplotlib.figure.Figure at 0x24d8a63f080>"
      ]
     },
     "metadata": {},
     "output_type": "display_data"
    }
   ],
   "source": [
    "plt.show(pd.DataFrame(df_train_sums).hist(bins=len(set(df_train_sums))))"
   ]
  },
  {
   "cell_type": "code",
   "execution_count": 49,
   "metadata": {},
   "outputs": [
    {
     "data": {
      "text/plain": [
       "12824"
      ]
     },
     "execution_count": 49,
     "metadata": {},
     "output_type": "execute_result"
    }
   ],
   "source": [
    "len(df_train_sums)"
   ]
  },
  {
   "cell_type": "markdown",
   "metadata": {},
   "source": [
    "Count for each item the number of days on which it was sold (at least once):"
   ]
  },
  {
   "cell_type": "code",
   "execution_count": 50,
   "metadata": {},
   "outputs": [],
   "source": [
    "df_train_cnt_non_zero = df_train.astype(bool).sum(axis=0)[1:]"
   ]
  },
  {
   "cell_type": "code",
   "execution_count": 51,
   "metadata": {},
   "outputs": [
    {
     "data": {
      "image/png": "[encoded data removed]",
      "text/plain": [
       "<matplotlib.figure.Figure at 0x24d8a9fd278>"
      ]
     },
     "metadata": {},
     "output_type": "display_data"
    }
   ],
   "source": [
    "plt.show(df_train_cnt_non_zero.hist(bins=len(set(df_train_cnt_non_zero.tolist()))))"
   ]
  },
  {
   "cell_type": "code",
   "execution_count": 52,
   "metadata": {},
   "outputs": [
    {
     "data": {
      "text/plain": [
       "count    12824.000000\n",
       "mean         7.716079\n",
       "std         12.441867\n",
       "min          0.000000\n",
       "25%          1.000000\n",
       "50%          3.000000\n",
       "75%          8.000000\n",
       "max         92.000000\n",
       "dtype: float64"
      ]
     },
     "execution_count": 52,
     "metadata": {},
     "output_type": "execute_result"
    }
   ],
   "source": [
    "df_train_cnt_non_zero.describe()"
   ]
  },
  {
   "cell_type": "code",
   "execution_count": 53,
   "metadata": {},
   "outputs": [],
   "source": [
    "df_train_cnt_non_zero = df_train_cnt_non_zero.tolist()"
   ]
  },
  {
   "cell_type": "code",
   "execution_count": 54,
   "metadata": {},
   "outputs": [
    {
     "data": {
      "text/plain": [
       "12824"
      ]
     },
     "execution_count": 54,
     "metadata": {},
     "output_type": "execute_result"
    }
   ],
   "source": [
    "len(df_train_cnt_non_zero)"
   ]
  },
  {
   "cell_type": "markdown",
   "metadata": {},
   "source": [
    "### Loading the Test Data from the Chair"
   ]
  },
  {
   "cell_type": "code",
   "execution_count": 55,
   "metadata": {},
   "outputs": [],
   "source": [
    "test_data = []"
   ]
  },
  {
   "cell_type": "code",
   "execution_count": 56,
   "metadata": {},
   "outputs": [],
   "source": [
    "for i in range(0, 5):\n",
    "    df = pd.read_csv(test_data_directory + 'test_' + str(i) + '.csv', dtype={'pid': int})\n",
    "    \n",
    "    df.drop('Unnamed: 0', axis=1, inplace=True)\n",
    "    \n",
    "    ################################\n",
    "    # Taken from Basil: datamining2/data/datasets_Basil/create_dataset_v0.3.ipynb\n",
    "    #Creating key for train dataset\n",
    "    keys3=[]\n",
    "    i=0\n",
    "    while i<len(df):\n",
    "        key=str(df.iloc[i,0]) + str(df.iloc[i,1])\n",
    "        keys3.append(key)\n",
    "        i=i+1\n",
    "        \n",
    "    df['key']=keys3\n",
    "    ################################\n",
    "    \n",
    "    df.drop(df.columns[0], axis=1, inplace=True)\n",
    "    df.drop(df.columns[0], axis=1, inplace=True)\n",
    "    \n",
    "    df['soldout_day'] = df['sold_out_date'].str[-2:]\n",
    "    \n",
    "    df.soldout_day = pd.to_numeric(df.soldout_day, errors='coerce')\n",
    "    \n",
    "    df.drop(df.columns[1], axis=1, inplace=True)\n",
    "    \n",
    "    test_data.append(df)"
   ]
  },
  {
   "cell_type": "code",
   "execution_count": 57,
   "metadata": {},
   "outputs": [
    {
     "data": {
      "text/html": [
       "<div>\n",
       "<style>\n",
       "    .dataframe thead tr:only-child th {\n",
       "        text-align: right;\n",
       "    }\n",
       "\n",
       "    .dataframe thead th {\n",
       "        text-align: left;\n",
       "    }\n",
       "\n",
       "    .dataframe tbody tr th {\n",
       "        vertical-align: top;\n",
       "    }\n",
       "</style>\n",
       "<table border=\"1\" class=\"dataframe\">\n",
       "  <thead>\n",
       "    <tr style=\"text-align: right;\">\n",
       "      <th></th>\n",
       "      <th>stock</th>\n",
       "      <th>key</th>\n",
       "      <th>soldout_day</th>\n",
       "    </tr>\n",
       "  </thead>\n",
       "  <tbody>\n",
       "    <tr>\n",
       "      <th>0</th>\n",
       "      <td>1.0</td>\n",
       "      <td>10001L</td>\n",
       "      <td>7</td>\n",
       "    </tr>\n",
       "    <tr>\n",
       "      <th>1</th>\n",
       "      <td>1.0</td>\n",
       "      <td>100035 ( 43-46 )</td>\n",
       "      <td>30</td>\n",
       "    </tr>\n",
       "    <tr>\n",
       "      <th>2</th>\n",
       "      <td>4.0</td>\n",
       "      <td>10008XL</td>\n",
       "      <td>30</td>\n",
       "    </tr>\n",
       "    <tr>\n",
       "      <th>3</th>\n",
       "      <td>1.0</td>\n",
       "      <td>10013L</td>\n",
       "      <td>24</td>\n",
       "    </tr>\n",
       "    <tr>\n",
       "      <th>4</th>\n",
       "      <td>1.0</td>\n",
       "      <td>10013M</td>\n",
       "      <td>22</td>\n",
       "    </tr>\n",
       "  </tbody>\n",
       "</table>\n",
       "</div>"
      ],
      "text/plain": [
       "   stock               key  soldout_day\n",
       "0    1.0            10001L            7\n",
       "1    1.0  100035 ( 43-46 )           30\n",
       "2    4.0           10008XL           30\n",
       "3    1.0            10013L           24\n",
       "4    1.0            10013M           22"
      ]
     },
     "execution_count": 57,
     "metadata": {},
     "output_type": "execute_result"
    }
   ],
   "source": [
    "test_data[0].head()"
   ]
  },
  {
   "cell_type": "markdown",
   "metadata": {},
   "source": [
    "Here's an example of how the data in the dataframes can be accessed:"
   ]
  },
  {
   "cell_type": "code",
   "execution_count": 58,
   "metadata": {},
   "outputs": [
    {
     "data": {
      "text/plain": [
       "'10008XL'"
      ]
     },
     "execution_count": 58,
     "metadata": {},
     "output_type": "execute_result"
    }
   ],
   "source": [
    "list_of_item_keys[6]"
   ]
  },
  {
   "cell_type": "code",
   "execution_count": 59,
   "metadata": {},
   "outputs": [
    {
     "data": {
      "text/plain": [
       "4.0"
      ]
     },
     "execution_count": 59,
     "metadata": {},
     "output_type": "execute_result"
    }
   ],
   "source": [
    "test_data[0].loc[df['key'] == list_of_item_keys[6]].iloc[0]['stock']"
   ]
  },
  {
   "cell_type": "code",
   "execution_count": 60,
   "metadata": {},
   "outputs": [
    {
     "data": {
      "text/plain": [
       "30"
      ]
     },
     "execution_count": 60,
     "metadata": {},
     "output_type": "execute_result"
    }
   ],
   "source": [
    "test_data[0].loc[df['key'] == list_of_item_keys[6]].iloc[0]['soldout_day']"
   ]
  },
  {
   "cell_type": "markdown",
   "metadata": {},
   "source": [
    "### Evaluation"
   ]
  },
  {
   "cell_type": "code",
   "execution_count": 383,
   "metadata": {},
   "outputs": [],
   "source": [
    "################################\n",
    "# Taken from Chung: datamining2/measures/objectives.py\n",
    "def soldout_day(pred, stock):\n",
    "    \"\"\"\n",
    "    Calculates first day that stock hits 0 in a certain month for an item\n",
    "    :param pred: Array of predicted sales units for an item\n",
    "    :param stock: Stock at beginning of month for an item\n",
    "    :return: Day of month that stock reaches 0\n",
    "    \"\"\"\n",
    "    soldout_day = len(pred)\n",
    "    for day in range(len(pred)):\n",
    "        stock -= pred[day]\n",
    "        #print(stock)\n",
    "        if stock <= 0:\n",
    "            soldout_day = day+1\n",
    "            break\n",
    "    return soldout_day\n",
    "################################"
   ]
  },
  {
   "cell_type": "code",
   "execution_count": 384,
   "metadata": {},
   "outputs": [],
   "source": [
    "prophet_forecasts_sold_out_days = []"
   ]
  },
  {
   "cell_type": "code",
   "execution_count": 385,
   "metadata": {},
   "outputs": [],
   "source": [
    "test_data_sold_out_days = []"
   ]
  },
  {
   "cell_type": "code",
   "execution_count": 386,
   "metadata": {},
   "outputs": [],
   "source": [
    "list_of_item_keys_test = []"
   ]
  },
  {
   "cell_type": "markdown",
   "metadata": {},
   "source": [
    "What about validation data for deciding on the hyperparameter values? Not really feasible here, I guess."
   ]
  },
  {
   "cell_type": "code",
   "execution_count": 387,
   "metadata": {},
   "outputs": [],
   "source": [
    "for j in test_data:\n",
    "    \n",
    "    j_key_set = set(j['key'].tolist())\n",
    "    \n",
    "    prophet_forecasts_sold_out_days_test = []\n",
    "    test_data_sold_out_days_test = []\n",
    "    list_of_item_keys_test_test = []\n",
    "    \n",
    "    for idx, val in enumerate(prophet_forecasts):\n",
    "        item_key = list_of_item_keys[idx]\n",
    "        if item_key in j_key_set:\n",
    "            \n",
    "            # Only use predictions for items that were sold on at least xxx days etc., otherwise predict the middle of the month (Jan 17)\n",
    "            if df_train_cnt_non_zero[idx] >= 70 and df_train_sums[idx] >= 70 and df_train_sums[idx] <= 1000:\n",
    "                soldout_day_to_be_appended = soldout_day(val['yhat'].tolist(), j.loc[df['key'] == item_key].iloc[0]['stock'])\n",
    "            else:\n",
    "                soldout_day_to_be_appended = 17\n",
    "                           \n",
    "            #soldout_day_to_be_appended = soldout_day(val['yhat'].tolist(), j.loc[df['key'] == item_key].iloc[0]['stock'])\n",
    "            \n",
    "            prophet_forecasts_sold_out_days_test.append(soldout_day_to_be_appended)\n",
    "            test_data_sold_out_days_test.append(j.loc[df['key'] == item_key].iloc[0]['soldout_day'])\n",
    "            list_of_item_keys_test_test.append(item_key)\n",
    "                             \n",
    "    prophet_forecasts_sold_out_days.append(prophet_forecasts_sold_out_days_test)\n",
    "    test_data_sold_out_days.append(test_data_sold_out_days_test)\n",
    "    list_of_item_keys_test.append(list_of_item_keys_test_test)"
   ]
  },
  {
   "cell_type": "markdown",
   "metadata": {},
   "source": [
    "Z-Score normalization of predictions:"
   ]
  },
  {
   "cell_type": "code",
   "execution_count": 388,
   "metadata": {},
   "outputs": [],
   "source": [
    "# prophet_forecasts_sold_out_days = [zscore(i) for i in prophet_forecasts_sold_out_days]"
   ]
  },
  {
   "cell_type": "markdown",
   "metadata": {},
   "source": [
    "Scale to [1, 31]:"
   ]
  },
  {
   "cell_type": "code",
   "execution_count": 389,
   "metadata": {},
   "outputs": [],
   "source": [
    "# prophet_forecasts_sold_out_days_normalized = []\n",
    "\n",
    "# for i in prophet_forecasts_sold_out_days:\n",
    "#     temp = []\n",
    "#     temp_min = min(i)\n",
    "#     temp_max = max(i)\n",
    "#     for j in i:\n",
    "#         temp.append(1 + int(round(30*((j-temp_min)/(temp_max-temp_min)))))\n",
    "#     prophet_forecasts_sold_out_days_normalized.append(temp)"
   ]
  },
  {
   "cell_type": "code",
   "execution_count": 390,
   "metadata": {},
   "outputs": [],
   "source": [
    "# prophet_forecasts_sold_out_days = prophet_forecasts_sold_out_days_normalized"
   ]
  },
  {
   "cell_type": "code",
   "execution_count": 391,
   "metadata": {},
   "outputs": [],
   "source": [
    "# min(prophet_forecasts_sold_out_days[0])"
   ]
  },
  {
   "cell_type": "code",
   "execution_count": 392,
   "metadata": {},
   "outputs": [],
   "source": [
    "# max(prophet_forecasts_sold_out_days[0])"
   ]
  },
  {
   "cell_type": "markdown",
   "metadata": {},
   "source": [
    "Here's some explanation:"
   ]
  },
  {
   "cell_type": "markdown",
   "metadata": {},
   "source": [
    "These lengths are five, because there are five test sets:"
   ]
  },
  {
   "cell_type": "code",
   "execution_count": 393,
   "metadata": {},
   "outputs": [
    {
     "data": {
      "text/plain": [
       "5"
      ]
     },
     "execution_count": 393,
     "metadata": {},
     "output_type": "execute_result"
    }
   ],
   "source": [
    "len(prophet_forecasts_sold_out_days)"
   ]
  },
  {
   "cell_type": "code",
   "execution_count": 394,
   "metadata": {},
   "outputs": [
    {
     "data": {
      "text/plain": [
       "5"
      ]
     },
     "execution_count": 394,
     "metadata": {},
     "output_type": "execute_result"
    }
   ],
   "source": [
    "len(test_data_sold_out_days)"
   ]
  },
  {
   "cell_type": "code",
   "execution_count": 395,
   "metadata": {},
   "outputs": [
    {
     "data": {
      "text/plain": [
       "5"
      ]
     },
     "execution_count": 395,
     "metadata": {},
     "output_type": "execute_result"
    }
   ],
   "source": [
    "len(list_of_item_keys_test)"
   ]
  },
  {
   "cell_type": "markdown",
   "metadata": {},
   "source": [
    "These lengths are 8142, because that's the number of items included in the test data provided by the chair. There are five of them, because there are five test sets."
   ]
  },
  {
   "cell_type": "code",
   "execution_count": 396,
   "metadata": {},
   "outputs": [
    {
     "name": "stdout",
     "output_type": "stream",
     "text": [
      "[8138, 8138, 8138, 8138, 8138]\n"
     ]
    }
   ],
   "source": [
    "print([len(i) for i in prophet_forecasts_sold_out_days])"
   ]
  },
  {
   "cell_type": "code",
   "execution_count": 397,
   "metadata": {},
   "outputs": [
    {
     "name": "stdout",
     "output_type": "stream",
     "text": [
      "[8138, 8138, 8138, 8138, 8138]\n"
     ]
    }
   ],
   "source": [
    "print([len(i) for i in test_data_sold_out_days])"
   ]
  },
  {
   "cell_type": "code",
   "execution_count": 398,
   "metadata": {},
   "outputs": [
    {
     "name": "stdout",
     "output_type": "stream",
     "text": [
      "[8138, 8138, 8138, 8138, 8138]\n"
     ]
    }
   ],
   "source": [
    "print([len(i) for i in list_of_item_keys_test])"
   ]
  },
  {
   "cell_type": "markdown",
   "metadata": {},
   "source": [
    "Let's calculate the square root of the sum of absolute deviations of predicted sold-out-day and true sold-out-day for all the 8142 items for each of the test sets:"
   ]
  },
  {
   "cell_type": "code",
   "execution_count": 399,
   "metadata": {},
   "outputs": [],
   "source": [
    "sqrt_sum_abs_difference_sold_out_days = []"
   ]
  },
  {
   "cell_type": "code",
   "execution_count": 400,
   "metadata": {},
   "outputs": [],
   "source": [
    "for pred, true in zip(prophet_forecasts_sold_out_days, test_data_sold_out_days):\n",
    "    # Credits to Chung for the abs_sales_diff function from which I borrow here\n",
    "    sqrt_sum_abs_difference_sold_out_days.append(np.sqrt(sum([abs(pred[i] - true[i]) for i in range(len(pred))])))"
   ]
  },
  {
   "cell_type": "markdown",
   "metadata": {},
   "source": [
    "Here we have the test scores for each of the five test sets:"
   ]
  },
  {
   "cell_type": "code",
   "execution_count": 401,
   "metadata": {},
   "outputs": [
    {
     "data": {
      "text/plain": [
       "[259.1833327974621,\n",
       " 259.47832279402456,\n",
       " 259.82301668635904,\n",
       " 259.5052985971577,\n",
       " 259.33954576963384]"
      ]
     },
     "execution_count": 401,
     "metadata": {},
     "output_type": "execute_result"
    }
   ],
   "source": [
    "sqrt_sum_abs_difference_sold_out_days"
   ]
  },
  {
   "cell_type": "markdown",
   "metadata": {},
   "source": [
    "And as asked for, the average and the standard deviation:"
   ]
  },
  {
   "cell_type": "code",
   "execution_count": 402,
   "metadata": {},
   "outputs": [
    {
     "data": {
      "text/plain": [
       "259.4659033289274"
      ]
     },
     "execution_count": 402,
     "metadata": {},
     "output_type": "execute_result"
    }
   ],
   "source": [
    "np.average(sqrt_sum_abs_difference_sold_out_days)"
   ]
  },
  {
   "cell_type": "code",
   "execution_count": 403,
   "metadata": {},
   "outputs": [
    {
     "data": {
      "text/plain": [
       "0.2121549049027748"
      ]
     },
     "execution_count": 403,
     "metadata": {},
     "output_type": "execute_result"
    }
   ],
   "source": [
    "np.std(sqrt_sum_abs_difference_sold_out_days)"
   ]
  },
  {
   "cell_type": "markdown",
   "metadata": {},
   "source": [
    "### Analysis of Results"
   ]
  },
  {
   "cell_type": "markdown",
   "metadata": {},
   "source": [
    "Let's have a closer look at the results for the items for each of the test sets:"
   ]
  },
  {
   "cell_type": "code",
   "execution_count": 404,
   "metadata": {},
   "outputs": [],
   "source": [
    "list_of_dfs_of_evaluation_results_for_test_sets = []"
   ]
  },
  {
   "cell_type": "code",
   "execution_count": 405,
   "metadata": {},
   "outputs": [],
   "source": [
    "for i in range(0, 5):\n",
    "    df_to_be_appended = pd.DataFrame({'key': list_of_item_keys_test[i], 'pred': prophet_forecasts_sold_out_days[i], 'true': test_data_sold_out_days[i]})\n",
    "    \n",
    "    df_to_be_appended['abs_dev'] = abs(df_to_be_appended['pred'] - df_to_be_appended['true'])\n",
    "    \n",
    "    list_of_dfs_of_evaluation_results_for_test_sets.append(df_to_be_appended)"
   ]
  },
  {
   "cell_type": "code",
   "execution_count": 406,
   "metadata": {},
   "outputs": [
    {
     "data": {
      "text/html": [
       "<div>\n",
       "<style>\n",
       "    .dataframe thead tr:only-child th {\n",
       "        text-align: right;\n",
       "    }\n",
       "\n",
       "    .dataframe thead th {\n",
       "        text-align: left;\n",
       "    }\n",
       "\n",
       "    .dataframe tbody tr th {\n",
       "        vertical-align: top;\n",
       "    }\n",
       "</style>\n",
       "<table border=\"1\" class=\"dataframe\">\n",
       "  <thead>\n",
       "    <tr style=\"text-align: right;\">\n",
       "      <th></th>\n",
       "      <th>key</th>\n",
       "      <th>pred</th>\n",
       "      <th>true</th>\n",
       "      <th>abs_dev</th>\n",
       "    </tr>\n",
       "  </thead>\n",
       "  <tbody>\n",
       "    <tr>\n",
       "      <th>0</th>\n",
       "      <td>10001L</td>\n",
       "      <td>17</td>\n",
       "      <td>7</td>\n",
       "      <td>10</td>\n",
       "    </tr>\n",
       "    <tr>\n",
       "      <th>1</th>\n",
       "      <td>100035 ( 43-46 )</td>\n",
       "      <td>17</td>\n",
       "      <td>30</td>\n",
       "      <td>13</td>\n",
       "    </tr>\n",
       "    <tr>\n",
       "      <th>2</th>\n",
       "      <td>10008XL</td>\n",
       "      <td>17</td>\n",
       "      <td>30</td>\n",
       "      <td>13</td>\n",
       "    </tr>\n",
       "    <tr>\n",
       "      <th>3</th>\n",
       "      <td>10013L</td>\n",
       "      <td>17</td>\n",
       "      <td>24</td>\n",
       "      <td>7</td>\n",
       "    </tr>\n",
       "    <tr>\n",
       "      <th>4</th>\n",
       "      <td>10013M</td>\n",
       "      <td>17</td>\n",
       "      <td>22</td>\n",
       "      <td>5</td>\n",
       "    </tr>\n",
       "  </tbody>\n",
       "</table>\n",
       "</div>"
      ],
      "text/plain": [
       "                key  pred  true  abs_dev\n",
       "0            10001L    17     7       10\n",
       "1  100035 ( 43-46 )    17    30       13\n",
       "2           10008XL    17    30       13\n",
       "3            10013L    17    24        7\n",
       "4            10013M    17    22        5"
      ]
     },
     "execution_count": 406,
     "metadata": {},
     "output_type": "execute_result"
    }
   ],
   "source": [
    "list_of_dfs_of_evaluation_results_for_test_sets[0].head()"
   ]
  },
  {
   "cell_type": "code",
   "execution_count": 407,
   "metadata": {},
   "outputs": [
    {
     "data": {
      "text/html": [
       "<div>\n",
       "<style>\n",
       "    .dataframe thead tr:only-child th {\n",
       "        text-align: right;\n",
       "    }\n",
       "\n",
       "    .dataframe thead th {\n",
       "        text-align: left;\n",
       "    }\n",
       "\n",
       "    .dataframe tbody tr th {\n",
       "        vertical-align: top;\n",
       "    }\n",
       "</style>\n",
       "<table border=\"1\" class=\"dataframe\">\n",
       "  <thead>\n",
       "    <tr style=\"text-align: right;\">\n",
       "      <th></th>\n",
       "      <th>pred</th>\n",
       "      <th>true</th>\n",
       "      <th>abs_dev</th>\n",
       "    </tr>\n",
       "  </thead>\n",
       "  <tbody>\n",
       "    <tr>\n",
       "      <th>count</th>\n",
       "      <td>8138.0</td>\n",
       "      <td>8138.000000</td>\n",
       "      <td>8138.000000</td>\n",
       "    </tr>\n",
       "    <tr>\n",
       "      <th>mean</th>\n",
       "      <td>17.0</td>\n",
       "      <td>16.987466</td>\n",
       "      <td>8.254608</td>\n",
       "    </tr>\n",
       "    <tr>\n",
       "      <th>std</th>\n",
       "      <td>0.0</td>\n",
       "      <td>9.511419</td>\n",
       "      <td>4.724439</td>\n",
       "    </tr>\n",
       "    <tr>\n",
       "      <th>min</th>\n",
       "      <td>17.0</td>\n",
       "      <td>1.000000</td>\n",
       "      <td>0.000000</td>\n",
       "    </tr>\n",
       "    <tr>\n",
       "      <th>25%</th>\n",
       "      <td>17.0</td>\n",
       "      <td>9.000000</td>\n",
       "      <td>4.000000</td>\n",
       "    </tr>\n",
       "    <tr>\n",
       "      <th>50%</th>\n",
       "      <td>17.0</td>\n",
       "      <td>17.000000</td>\n",
       "      <td>8.000000</td>\n",
       "    </tr>\n",
       "    <tr>\n",
       "      <th>75%</th>\n",
       "      <td>17.0</td>\n",
       "      <td>25.000000</td>\n",
       "      <td>13.000000</td>\n",
       "    </tr>\n",
       "    <tr>\n",
       "      <th>max</th>\n",
       "      <td>17.0</td>\n",
       "      <td>31.000000</td>\n",
       "      <td>16.000000</td>\n",
       "    </tr>\n",
       "  </tbody>\n",
       "</table>\n",
       "</div>"
      ],
      "text/plain": [
       "         pred         true      abs_dev\n",
       "count  8138.0  8138.000000  8138.000000\n",
       "mean     17.0    16.987466     8.254608\n",
       "std       0.0     9.511419     4.724439\n",
       "min      17.0     1.000000     0.000000\n",
       "25%      17.0     9.000000     4.000000\n",
       "50%      17.0    17.000000     8.000000\n",
       "75%      17.0    25.000000    13.000000\n",
       "max      17.0    31.000000    16.000000"
      ]
     },
     "execution_count": 407,
     "metadata": {},
     "output_type": "execute_result"
    }
   ],
   "source": [
    "list_of_dfs_of_evaluation_results_for_test_sets[0].describe()"
   ]
  },
  {
   "cell_type": "code",
   "execution_count": 408,
   "metadata": {},
   "outputs": [
    {
     "data": {
      "image/png": "[encoded data removed]",
      "text/plain": [
       "<matplotlib.figure.Figure at 0x24d278c3ef0>"
      ]
     },
     "metadata": {},
     "output_type": "display_data"
    },
    {
     "data": {
      "image/png": "[encoded data removed]",
      "text/plain": [
       "<matplotlib.figure.Figure at 0x24d88345240>"
      ]
     },
     "metadata": {},
     "output_type": "display_data"
    },
    {
     "data": {
      "image/png": "[encoded data removed]",
      "text/plain": [
       "<matplotlib.figure.Figure at 0x24d88918c18>"
      ]
     },
     "metadata": {},
     "output_type": "display_data"
    },
    {
     "data": {
      "image/png": "[encoded data removed]",
      "text/plain": [
       "<matplotlib.figure.Figure at 0x24d27b35978>"
      ]
     },
     "metadata": {},
     "output_type": "display_data"
    },
    {
     "data": {
      "image/png": "[encoded data removed]",
      "text/plain": [
       "<matplotlib.figure.Figure at 0x24d88358d68>"
      ]
     },
     "metadata": {},
     "output_type": "display_data"
    }
   ],
   "source": [
    "for i in list_of_dfs_of_evaluation_results_for_test_sets:\n",
    "    plt.show(i.hist(column='abs_dev', bins=30))"
   ]
  }
 ],
 "metadata": {
  "kernelspec": {
   "display_name": "Python 3",
   "language": "python",
   "name": "python3"
  },
  "language_info": {
   "codemirror_mode": {
    "name": "ipython",
    "version": 3
   },
   "file_extension": ".py",
   "mimetype": "text/x-python",
   "name": "python",
   "nbconvert_exporter": "python",
   "pygments_lexer": "ipython3",
   "version": "3.6.2"
  }
 },
 "nbformat": 4,
 "nbformat_minor": 2
}
