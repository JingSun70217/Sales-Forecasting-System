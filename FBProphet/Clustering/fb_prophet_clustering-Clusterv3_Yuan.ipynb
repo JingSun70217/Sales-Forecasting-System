{
 "cells": [
  {
   "cell_type": "code",
   "execution_count": 1,
   "metadata": {
    "scrolled": true
   },
   "outputs": [],
   "source": [
    "import pandas as pd\n",
    "import numpy as np\n",
    "from fbprophet import Prophet\n",
    "\n",
    "\n",
    "path='D://4th Semester//Data Mining2//DMC//Clustering//'\n",
    "df_cluster = pd.read_csv(path+'clusters_v3.csv',usecols=['pid','size','Cluster'])\n",
    "df_train = pd.read_csv(path+'train_pivot_table.csv',usecols=[*range(0,94)])\n",
    "\n",
    "'''\n",
    "#remove \".\" in the cluster table\n",
    "pid_n=[]\n",
    "for i in range (0, len(df_cluster)):\n",
    "    s=df_cluster['pid'].iloc[i]\n",
    "    s=str(s).split('.')[0]\n",
    "    s=int(s)\n",
    "    pid_n.append(s)\n",
    "\n",
    "df_cluster.insert(1,column='pid_n',value=pid_n)\n",
    "df_cluster.drop(['pid'], axis=1,inplace=True)\n",
    "df_cluster.rename(columns={'pid_n':'pid'}, inplace=True)\n",
    "df_cluster.head()\n",
    "\n",
    "df_cluster.to_csv(path+'clusters_v1.csv',index=False)\n",
    "'''\n",
    "def outlier_label(df_cluster):\n",
    "    for i in range(0,len(df_cluster)):\n",
    "        if df_cluster['Cluster'].iloc[i]==-1:\n",
    "            a=1\n",
    "            df_cluster.set_value(i, 'Cluster', -1*(i+1), takeable=False)\n",
    "            #df_cluster['Cluster'].iloc[i]=-(i+1)\n",
    "    return df_cluster\n",
    "\n",
    "#give different labels to outliers, which used to be -1\n",
    "#df_cluster=outlier_label(df_cluster)\n"
   ]
  },
  {
   "cell_type": "code",
   "execution_count": 2,
   "metadata": {
    "scrolled": true
   },
   "outputs": [
    {
     "name": "stdout",
     "output_type": "stream",
     "text": [
      "92\n",
      "52\n",
      "{0, 1, 2, 3, 4, 5, 6, 7, 8, 9, 10, 11, 12, 13, 14, 15, 16, 17, 18, 19, 20, 21, 22, 23, 24, 25, 26, 27, 28, 29, 30, 31, 32, 33, 34, 35, 36, 37, 38, 39, 40, 41, 42, 43, 44, 45, 46, 47, 48, 49, 50, -1}\n"
     ]
    }
   ],
   "source": [
    "\n",
    "#df_train.join(df_cluster.set_index(['key','size']), on=['pid','size'])\n",
    "df=pd.merge(df_train, df_cluster, on=['pid', 'size'])\n",
    "df.drop(['pid','size'], axis=1, inplace=True)\n",
    "\n",
    "date = pd.read_csv(path+'daily_avg.csv',usecols=['Date'])\n",
    "i=31\n",
    "while i>0:\n",
    "    date.drop(date.index[[91+i]],inplace=True) #delete January\n",
    "    i-=1\n",
    "date=np.array(date['Date']) #list of dates Oct-Dec\n",
    "print(len(date))\n",
    "\n",
    "path_test = 'D://4th Semester//Data Mining2//DMC//Test//'\n",
    "test = pd.read_csv(path_test+'test_0.csv')\n",
    "test = pd.merge(test, df_cluster, on=['pid', 'size'])\n",
    "\n",
    "print(len(set(test['Cluster'])))\n",
    "print(set(test['Cluster']))"
   ]
  },
  {
   "cell_type": "code",
   "execution_count": 3,
   "metadata": {
    "scrolled": true
   },
   "outputs": [
    {
     "name": "stderr",
     "output_type": "stream",
     "text": [
      "INFO:fbprophet.forecaster:Disabling daily seasonality. Run prophet with daily_seasonality=True to override this.\n",
      "C:\\Users\\Adele\\Anaconda3\\lib\\site-packages\\pystan\\misc.py:399: FutureWarning: Conversion of the second argument of issubdtype from `float` to `np.floating` is deprecated. In future, it will be treated as `np.float64 == np.dtype(float).type`.\n",
      "  elif np.issubdtype(np.asarray(v).dtype, float):\n",
      "INFO:fbprophet.forecaster:Disabling daily seasonality. Run prophet with daily_seasonality=True to override this.\n"
     ]
    },
    {
     "name": "stdout",
     "output_type": "stream",
     "text": [
      "Calculating...\n",
      "this cluster is\n",
      "0\n",
      "the error of this cluster is\n",
      "11769\n",
      "the total error now is:\n",
      "11769\n",
      "count\n",
      "1\n"
     ]
    },
    {
     "name": "stderr",
     "output_type": "stream",
     "text": [
      "INFO:fbprophet.forecaster:Disabling daily seasonality. Run prophet with daily_seasonality=True to override this.\n"
     ]
    },
    {
     "name": "stdout",
     "output_type": "stream",
     "text": [
      "Calculating...\n",
      "this cluster is\n",
      "1\n",
      "the error of this cluster is\n",
      "1044\n",
      "the total error now is:\n",
      "12813\n",
      "count\n",
      "2\n"
     ]
    },
    {
     "name": "stderr",
     "output_type": "stream",
     "text": [
      "INFO:fbprophet.forecaster:Disabling daily seasonality. Run prophet with daily_seasonality=True to override this.\n"
     ]
    },
    {
     "name": "stdout",
     "output_type": "stream",
     "text": [
      "Calculating...\n",
      "this cluster is\n",
      "2\n",
      "the error of this cluster is\n",
      "1975\n",
      "the total error now is:\n",
      "14788\n",
      "count\n",
      "3\n"
     ]
    },
    {
     "name": "stderr",
     "output_type": "stream",
     "text": [
      "INFO:fbprophet.forecaster:Disabling daily seasonality. Run prophet with daily_seasonality=True to override this.\n"
     ]
    },
    {
     "name": "stdout",
     "output_type": "stream",
     "text": [
      "Calculating...\n",
      "this cluster is\n",
      "3\n",
      "the error of this cluster is\n",
      "10347\n",
      "the total error now is:\n",
      "25135\n",
      "count\n",
      "4\n"
     ]
    },
    {
     "name": "stderr",
     "output_type": "stream",
     "text": [
      "INFO:fbprophet.forecaster:Disabling daily seasonality. Run prophet with daily_seasonality=True to override this.\n"
     ]
    },
    {
     "name": "stdout",
     "output_type": "stream",
     "text": [
      "Calculating...\n",
      "this cluster is\n",
      "4\n",
      "the error of this cluster is\n",
      "174\n",
      "the total error now is:\n",
      "25309\n",
      "count\n",
      "5\n"
     ]
    },
    {
     "name": "stderr",
     "output_type": "stream",
     "text": [
      "INFO:fbprophet.forecaster:Disabling daily seasonality. Run prophet with daily_seasonality=True to override this.\n"
     ]
    },
    {
     "name": "stdout",
     "output_type": "stream",
     "text": [
      "Calculating...\n",
      "this cluster is\n",
      "5\n",
      "the error of this cluster is\n",
      "379\n",
      "the total error now is:\n",
      "25688\n",
      "count\n",
      "6\n"
     ]
    },
    {
     "name": "stderr",
     "output_type": "stream",
     "text": [
      "INFO:fbprophet.forecaster:Disabling daily seasonality. Run prophet with daily_seasonality=True to override this.\n"
     ]
    },
    {
     "name": "stdout",
     "output_type": "stream",
     "text": [
      "Calculating...\n",
      "this cluster is\n",
      "6\n",
      "the error of this cluster is\n",
      "91\n",
      "the total error now is:\n",
      "25779\n",
      "count\n",
      "7\n"
     ]
    },
    {
     "name": "stderr",
     "output_type": "stream",
     "text": [
      "INFO:fbprophet.forecaster:Disabling daily seasonality. Run prophet with daily_seasonality=True to override this.\n"
     ]
    },
    {
     "name": "stdout",
     "output_type": "stream",
     "text": [
      "Calculating...\n",
      "this cluster is\n",
      "7\n",
      "the error of this cluster is\n",
      "7873\n",
      "the total error now is:\n",
      "33652\n",
      "count\n",
      "8\n"
     ]
    },
    {
     "name": "stderr",
     "output_type": "stream",
     "text": [
      "INFO:fbprophet.forecaster:Disabling daily seasonality. Run prophet with daily_seasonality=True to override this.\n"
     ]
    },
    {
     "name": "stdout",
     "output_type": "stream",
     "text": [
      "Calculating...\n",
      "this cluster is\n",
      "8\n",
      "the error of this cluster is\n",
      "10608\n",
      "the total error now is:\n",
      "44260\n",
      "count\n",
      "9\n"
     ]
    },
    {
     "name": "stderr",
     "output_type": "stream",
     "text": [
      "INFO:fbprophet.forecaster:Disabling daily seasonality. Run prophet with daily_seasonality=True to override this.\n"
     ]
    },
    {
     "name": "stdout",
     "output_type": "stream",
     "text": [
      "Calculating...\n",
      "this cluster is\n",
      "9\n",
      "the error of this cluster is\n",
      "270\n",
      "the total error now is:\n",
      "44530\n",
      "count\n",
      "10\n"
     ]
    },
    {
     "name": "stderr",
     "output_type": "stream",
     "text": [
      "INFO:fbprophet.forecaster:Disabling daily seasonality. Run prophet with daily_seasonality=True to override this.\n"
     ]
    },
    {
     "name": "stdout",
     "output_type": "stream",
     "text": [
      "Calculating...\n",
      "this cluster is\n",
      "10\n",
      "the error of this cluster is\n",
      "1807\n",
      "the total error now is:\n",
      "46337\n",
      "count\n",
      "11\n"
     ]
    },
    {
     "name": "stderr",
     "output_type": "stream",
     "text": [
      "INFO:fbprophet.forecaster:Disabling daily seasonality. Run prophet with daily_seasonality=True to override this.\n"
     ]
    },
    {
     "name": "stdout",
     "output_type": "stream",
     "text": [
      "Calculating...\n",
      "this cluster is\n",
      "11\n",
      "the error of this cluster is\n",
      "5690\n",
      "the total error now is:\n",
      "52027\n",
      "count\n",
      "12\n"
     ]
    },
    {
     "name": "stderr",
     "output_type": "stream",
     "text": [
      "INFO:fbprophet.forecaster:Disabling daily seasonality. Run prophet with daily_seasonality=True to override this.\n"
     ]
    },
    {
     "name": "stdout",
     "output_type": "stream",
     "text": [
      "Calculating...\n",
      "this cluster is\n",
      "12\n",
      "the error of this cluster is\n",
      "838\n",
      "the total error now is:\n",
      "52865\n",
      "count\n",
      "13\n"
     ]
    },
    {
     "name": "stderr",
     "output_type": "stream",
     "text": [
      "INFO:fbprophet.forecaster:Disabling daily seasonality. Run prophet with daily_seasonality=True to override this.\n"
     ]
    },
    {
     "name": "stdout",
     "output_type": "stream",
     "text": [
      "Calculating...\n",
      "this cluster is\n",
      "13\n",
      "the error of this cluster is\n",
      "295\n",
      "the total error now is:\n",
      "53160\n",
      "count\n",
      "14\n"
     ]
    },
    {
     "name": "stderr",
     "output_type": "stream",
     "text": [
      "INFO:fbprophet.forecaster:Disabling daily seasonality. Run prophet with daily_seasonality=True to override this.\n"
     ]
    },
    {
     "name": "stdout",
     "output_type": "stream",
     "text": [
      "Calculating...\n",
      "this cluster is\n",
      "14\n",
      "the error of this cluster is\n",
      "434\n",
      "the total error now is:\n",
      "53594\n",
      "count\n",
      "15\n"
     ]
    },
    {
     "name": "stderr",
     "output_type": "stream",
     "text": [
      "INFO:fbprophet.forecaster:Disabling daily seasonality. Run prophet with daily_seasonality=True to override this.\n"
     ]
    },
    {
     "name": "stdout",
     "output_type": "stream",
     "text": [
      "Calculating...\n",
      "this cluster is\n",
      "15\n",
      "the error of this cluster is\n",
      "176\n",
      "the total error now is:\n",
      "53770\n",
      "count\n",
      "16\n"
     ]
    },
    {
     "name": "stderr",
     "output_type": "stream",
     "text": [
      "INFO:fbprophet.forecaster:Disabling daily seasonality. Run prophet with daily_seasonality=True to override this.\n"
     ]
    },
    {
     "name": "stdout",
     "output_type": "stream",
     "text": [
      "Calculating...\n",
      "this cluster is\n",
      "16\n",
      "the error of this cluster is\n",
      "114\n",
      "the total error now is:\n",
      "53884\n",
      "count\n",
      "17\n"
     ]
    },
    {
     "name": "stderr",
     "output_type": "stream",
     "text": [
      "INFO:fbprophet.forecaster:Disabling daily seasonality. Run prophet with daily_seasonality=True to override this.\n"
     ]
    },
    {
     "name": "stdout",
     "output_type": "stream",
     "text": [
      "Calculating...\n",
      "this cluster is\n",
      "17\n",
      "the error of this cluster is\n",
      "982\n",
      "the total error now is:\n",
      "54866\n",
      "count\n",
      "18\n"
     ]
    },
    {
     "name": "stderr",
     "output_type": "stream",
     "text": [
      "INFO:fbprophet.forecaster:Disabling daily seasonality. Run prophet with daily_seasonality=True to override this.\n"
     ]
    },
    {
     "name": "stdout",
     "output_type": "stream",
     "text": [
      "Calculating...\n",
      "this cluster is\n",
      "18\n",
      "the error of this cluster is\n",
      "332\n",
      "the total error now is:\n",
      "55198\n",
      "count\n",
      "19\n"
     ]
    },
    {
     "name": "stderr",
     "output_type": "stream",
     "text": [
      "INFO:fbprophet.forecaster:Disabling daily seasonality. Run prophet with daily_seasonality=True to override this.\n"
     ]
    },
    {
     "name": "stdout",
     "output_type": "stream",
     "text": [
      "Calculating...\n",
      "this cluster is\n",
      "19\n",
      "the error of this cluster is\n",
      "1154\n",
      "the total error now is:\n",
      "56352\n",
      "count\n",
      "20\n"
     ]
    },
    {
     "name": "stderr",
     "output_type": "stream",
     "text": [
      "INFO:fbprophet.forecaster:Disabling daily seasonality. Run prophet with daily_seasonality=True to override this.\n"
     ]
    },
    {
     "name": "stdout",
     "output_type": "stream",
     "text": [
      "Calculating...\n",
      "this cluster is\n",
      "20\n",
      "the error of this cluster is\n",
      "406\n",
      "the total error now is:\n",
      "56758\n",
      "count\n",
      "21\n"
     ]
    },
    {
     "name": "stderr",
     "output_type": "stream",
     "text": [
      "INFO:fbprophet.forecaster:Disabling daily seasonality. Run prophet with daily_seasonality=True to override this.\n"
     ]
    },
    {
     "name": "stdout",
     "output_type": "stream",
     "text": [
      "Calculating...\n",
      "this cluster is\n",
      "21\n",
      "the error of this cluster is\n",
      "1185\n",
      "the total error now is:\n",
      "57943\n",
      "count\n",
      "22\n"
     ]
    },
    {
     "name": "stderr",
     "output_type": "stream",
     "text": [
      "INFO:fbprophet.forecaster:Disabling daily seasonality. Run prophet with daily_seasonality=True to override this.\n"
     ]
    },
    {
     "name": "stdout",
     "output_type": "stream",
     "text": [
      "Calculating...\n",
      "this cluster is\n",
      "22\n",
      "the error of this cluster is\n",
      "621\n",
      "the total error now is:\n",
      "58564\n",
      "count\n",
      "23\n"
     ]
    },
    {
     "name": "stderr",
     "output_type": "stream",
     "text": [
      "INFO:fbprophet.forecaster:Disabling daily seasonality. Run prophet with daily_seasonality=True to override this.\n"
     ]
    },
    {
     "name": "stdout",
     "output_type": "stream",
     "text": [
      "Calculating...\n",
      "this cluster is\n",
      "23\n",
      "the error of this cluster is\n",
      "940\n",
      "the total error now is:\n",
      "59504\n",
      "count\n",
      "24\n"
     ]
    },
    {
     "name": "stderr",
     "output_type": "stream",
     "text": [
      "INFO:fbprophet.forecaster:Disabling daily seasonality. Run prophet with daily_seasonality=True to override this.\n"
     ]
    },
    {
     "name": "stdout",
     "output_type": "stream",
     "text": [
      "Calculating...\n",
      "this cluster is\n",
      "24\n",
      "the error of this cluster is\n",
      "333\n",
      "the total error now is:\n",
      "59837\n",
      "count\n",
      "25\n"
     ]
    },
    {
     "name": "stderr",
     "output_type": "stream",
     "text": [
      "INFO:fbprophet.forecaster:Disabling daily seasonality. Run prophet with daily_seasonality=True to override this.\n"
     ]
    },
    {
     "name": "stdout",
     "output_type": "stream",
     "text": [
      "Calculating...\n",
      "this cluster is\n",
      "25\n",
      "the error of this cluster is\n",
      "336\n",
      "the total error now is:\n",
      "60173\n",
      "count\n",
      "26\n"
     ]
    },
    {
     "name": "stderr",
     "output_type": "stream",
     "text": [
      "INFO:fbprophet.forecaster:Disabling daily seasonality. Run prophet with daily_seasonality=True to override this.\n"
     ]
    },
    {
     "name": "stdout",
     "output_type": "stream",
     "text": [
      "Calculating...\n",
      "this cluster is\n",
      "26\n",
      "the error of this cluster is\n",
      "491\n",
      "the total error now is:\n",
      "60664\n",
      "count\n",
      "27\n"
     ]
    },
    {
     "name": "stderr",
     "output_type": "stream",
     "text": [
      "INFO:fbprophet.forecaster:Disabling daily seasonality. Run prophet with daily_seasonality=True to override this.\n"
     ]
    },
    {
     "name": "stdout",
     "output_type": "stream",
     "text": [
      "Calculating...\n",
      "this cluster is\n",
      "27\n",
      "the error of this cluster is\n",
      "323\n",
      "the total error now is:\n",
      "60987\n",
      "count\n",
      "28\n"
     ]
    },
    {
     "name": "stderr",
     "output_type": "stream",
     "text": [
      "INFO:fbprophet.forecaster:Disabling daily seasonality. Run prophet with daily_seasonality=True to override this.\n"
     ]
    },
    {
     "name": "stdout",
     "output_type": "stream",
     "text": [
      "Calculating...\n",
      "this cluster is\n",
      "28\n",
      "the error of this cluster is\n",
      "205\n",
      "the total error now is:\n",
      "61192\n",
      "count\n",
      "29\n"
     ]
    },
    {
     "name": "stderr",
     "output_type": "stream",
     "text": [
      "INFO:fbprophet.forecaster:Disabling daily seasonality. Run prophet with daily_seasonality=True to override this.\n"
     ]
    },
    {
     "name": "stdout",
     "output_type": "stream",
     "text": [
      "Calculating...\n",
      "this cluster is\n",
      "29\n",
      "the error of this cluster is\n",
      "643\n",
      "the total error now is:\n",
      "61835\n",
      "count\n",
      "30\n"
     ]
    },
    {
     "name": "stderr",
     "output_type": "stream",
     "text": [
      "INFO:fbprophet.forecaster:Disabling daily seasonality. Run prophet with daily_seasonality=True to override this.\n"
     ]
    },
    {
     "name": "stdout",
     "output_type": "stream",
     "text": [
      "Calculating...\n",
      "this cluster is\n",
      "30\n",
      "the error of this cluster is\n",
      "568\n",
      "the total error now is:\n",
      "62403\n",
      "count\n",
      "31\n"
     ]
    },
    {
     "name": "stderr",
     "output_type": "stream",
     "text": [
      "INFO:fbprophet.forecaster:Disabling daily seasonality. Run prophet with daily_seasonality=True to override this.\n"
     ]
    },
    {
     "name": "stdout",
     "output_type": "stream",
     "text": [
      "Calculating...\n",
      "this cluster is\n",
      "31\n",
      "the error of this cluster is\n",
      "273\n",
      "the total error now is:\n",
      "62676\n",
      "count\n",
      "32\n"
     ]
    },
    {
     "name": "stderr",
     "output_type": "stream",
     "text": [
      "INFO:fbprophet.forecaster:Disabling daily seasonality. Run prophet with daily_seasonality=True to override this.\n"
     ]
    },
    {
     "name": "stdout",
     "output_type": "stream",
     "text": [
      "Calculating...\n",
      "this cluster is\n",
      "32\n",
      "the error of this cluster is\n",
      "412\n",
      "the total error now is:\n",
      "63088\n",
      "count\n",
      "33\n"
     ]
    },
    {
     "name": "stderr",
     "output_type": "stream",
     "text": [
      "INFO:fbprophet.forecaster:Disabling daily seasonality. Run prophet with daily_seasonality=True to override this.\n"
     ]
    },
    {
     "name": "stdout",
     "output_type": "stream",
     "text": [
      "Calculating...\n",
      "this cluster is\n",
      "33\n",
      "the error of this cluster is\n",
      "318\n",
      "the total error now is:\n",
      "63406\n",
      "count\n",
      "34\n"
     ]
    },
    {
     "name": "stderr",
     "output_type": "stream",
     "text": [
      "INFO:fbprophet.forecaster:Disabling daily seasonality. Run prophet with daily_seasonality=True to override this.\n"
     ]
    },
    {
     "name": "stdout",
     "output_type": "stream",
     "text": [
      "Calculating...\n",
      "this cluster is\n",
      "34\n",
      "the error of this cluster is\n",
      "791\n",
      "the total error now is:\n",
      "64197\n",
      "count\n",
      "35\n"
     ]
    },
    {
     "name": "stderr",
     "output_type": "stream",
     "text": [
      "INFO:fbprophet.forecaster:Disabling daily seasonality. Run prophet with daily_seasonality=True to override this.\n"
     ]
    },
    {
     "name": "stdout",
     "output_type": "stream",
     "text": [
      "Calculating...\n",
      "this cluster is\n",
      "35\n",
      "the error of this cluster is\n",
      "201\n",
      "the total error now is:\n",
      "64398\n",
      "count\n",
      "36\n"
     ]
    },
    {
     "name": "stderr",
     "output_type": "stream",
     "text": [
      "INFO:fbprophet.forecaster:Disabling daily seasonality. Run prophet with daily_seasonality=True to override this.\n"
     ]
    },
    {
     "name": "stdout",
     "output_type": "stream",
     "text": [
      "Calculating...\n",
      "this cluster is\n",
      "36\n",
      "the error of this cluster is\n",
      "322\n",
      "the total error now is:\n",
      "64720\n",
      "count\n",
      "37\n"
     ]
    },
    {
     "name": "stderr",
     "output_type": "stream",
     "text": [
      "INFO:fbprophet.forecaster:Disabling daily seasonality. Run prophet with daily_seasonality=True to override this.\n"
     ]
    },
    {
     "name": "stdout",
     "output_type": "stream",
     "text": [
      "Calculating...\n",
      "this cluster is\n",
      "37\n",
      "the error of this cluster is\n",
      "134\n",
      "the total error now is:\n",
      "64854\n",
      "count\n",
      "38\n"
     ]
    },
    {
     "name": "stderr",
     "output_type": "stream",
     "text": [
      "INFO:fbprophet.forecaster:Disabling daily seasonality. Run prophet with daily_seasonality=True to override this.\n"
     ]
    },
    {
     "name": "stdout",
     "output_type": "stream",
     "text": [
      "Calculating...\n",
      "this cluster is\n",
      "38\n",
      "the error of this cluster is\n",
      "366\n",
      "the total error now is:\n",
      "65220\n",
      "count\n",
      "39\n"
     ]
    },
    {
     "name": "stderr",
     "output_type": "stream",
     "text": [
      "INFO:fbprophet.forecaster:Disabling daily seasonality. Run prophet with daily_seasonality=True to override this.\n"
     ]
    },
    {
     "name": "stdout",
     "output_type": "stream",
     "text": [
      "Calculating...\n",
      "this cluster is\n",
      "39\n",
      "the error of this cluster is\n",
      "242\n",
      "the total error now is:\n",
      "65462\n",
      "count\n",
      "40\n"
     ]
    },
    {
     "name": "stderr",
     "output_type": "stream",
     "text": [
      "INFO:fbprophet.forecaster:Disabling daily seasonality. Run prophet with daily_seasonality=True to override this.\n"
     ]
    },
    {
     "name": "stdout",
     "output_type": "stream",
     "text": [
      "Calculating...\n",
      "this cluster is\n",
      "40\n",
      "the error of this cluster is\n",
      "141\n",
      "the total error now is:\n",
      "65603\n",
      "count\n",
      "41\n"
     ]
    },
    {
     "name": "stderr",
     "output_type": "stream",
     "text": [
      "INFO:fbprophet.forecaster:Disabling daily seasonality. Run prophet with daily_seasonality=True to override this.\n"
     ]
    },
    {
     "name": "stdout",
     "output_type": "stream",
     "text": [
      "Calculating...\n",
      "this cluster is\n",
      "41\n",
      "the error of this cluster is\n",
      "388\n",
      "the total error now is:\n",
      "65991\n",
      "count\n",
      "42\n"
     ]
    },
    {
     "name": "stderr",
     "output_type": "stream",
     "text": [
      "INFO:fbprophet.forecaster:Disabling daily seasonality. Run prophet with daily_seasonality=True to override this.\n"
     ]
    },
    {
     "name": "stdout",
     "output_type": "stream",
     "text": [
      "Calculating...\n",
      "this cluster is\n",
      "42\n",
      "the error of this cluster is\n",
      "111\n",
      "the total error now is:\n",
      "66102\n",
      "count\n",
      "43\n"
     ]
    },
    {
     "name": "stderr",
     "output_type": "stream",
     "text": [
      "INFO:fbprophet.forecaster:Disabling daily seasonality. Run prophet with daily_seasonality=True to override this.\n"
     ]
    },
    {
     "name": "stdout",
     "output_type": "stream",
     "text": [
      "Calculating...\n",
      "this cluster is\n",
      "43\n",
      "the error of this cluster is\n",
      "226\n",
      "the total error now is:\n",
      "66328\n",
      "count\n",
      "44\n"
     ]
    },
    {
     "name": "stderr",
     "output_type": "stream",
     "text": [
      "INFO:fbprophet.forecaster:Disabling daily seasonality. Run prophet with daily_seasonality=True to override this.\n"
     ]
    },
    {
     "name": "stdout",
     "output_type": "stream",
     "text": [
      "Calculating...\n",
      "this cluster is\n",
      "44\n",
      "the error of this cluster is\n",
      "89\n",
      "the total error now is:\n",
      "66417\n",
      "count\n",
      "45\n"
     ]
    },
    {
     "name": "stderr",
     "output_type": "stream",
     "text": [
      "INFO:fbprophet.forecaster:Disabling daily seasonality. Run prophet with daily_seasonality=True to override this.\n"
     ]
    },
    {
     "name": "stdout",
     "output_type": "stream",
     "text": [
      "Calculating...\n",
      "this cluster is\n",
      "45\n",
      "the error of this cluster is\n",
      "126\n",
      "the total error now is:\n",
      "66543\n",
      "count\n",
      "46\n"
     ]
    },
    {
     "name": "stderr",
     "output_type": "stream",
     "text": [
      "INFO:fbprophet.forecaster:Disabling daily seasonality. Run prophet with daily_seasonality=True to override this.\n"
     ]
    },
    {
     "name": "stdout",
     "output_type": "stream",
     "text": [
      "Calculating...\n",
      "this cluster is\n",
      "46\n",
      "the error of this cluster is\n",
      "123\n",
      "the total error now is:\n",
      "66666\n",
      "count\n",
      "47\n"
     ]
    },
    {
     "name": "stderr",
     "output_type": "stream",
     "text": [
      "INFO:fbprophet.forecaster:Disabling daily seasonality. Run prophet with daily_seasonality=True to override this.\n"
     ]
    },
    {
     "name": "stdout",
     "output_type": "stream",
     "text": [
      "Calculating...\n",
      "this cluster is\n",
      "47\n",
      "the error of this cluster is\n",
      "324\n",
      "the total error now is:\n",
      "66990\n",
      "count\n",
      "48\n"
     ]
    },
    {
     "name": "stderr",
     "output_type": "stream",
     "text": [
      "INFO:fbprophet.forecaster:Disabling daily seasonality. Run prophet with daily_seasonality=True to override this.\n"
     ]
    },
    {
     "name": "stdout",
     "output_type": "stream",
     "text": [
      "Calculating...\n",
      "this cluster is\n",
      "48\n",
      "the error of this cluster is\n",
      "99\n",
      "the total error now is:\n",
      "67089\n",
      "count\n",
      "49\n"
     ]
    },
    {
     "name": "stderr",
     "output_type": "stream",
     "text": [
      "INFO:fbprophet.forecaster:Disabling daily seasonality. Run prophet with daily_seasonality=True to override this.\n"
     ]
    },
    {
     "name": "stdout",
     "output_type": "stream",
     "text": [
      "Calculating...\n",
      "this cluster is\n",
      "49\n",
      "the error of this cluster is\n",
      "152\n",
      "the total error now is:\n",
      "67241\n",
      "count\n",
      "50\n"
     ]
    },
    {
     "name": "stderr",
     "output_type": "stream",
     "text": [
      "INFO:fbprophet.forecaster:Disabling daily seasonality. Run prophet with daily_seasonality=True to override this.\n"
     ]
    },
    {
     "name": "stdout",
     "output_type": "stream",
     "text": [
      "Calculating...\n",
      "this cluster is\n",
      "50\n",
      "the error of this cluster is\n",
      "127\n",
      "the total error now is:\n",
      "67368\n",
      "count\n",
      "51\n",
      "Calculating...\n",
      "this cluster is\n",
      "-1\n",
      "the error of this cluster is\n",
      "11864\n",
      "the total error now is:\n",
      "79232\n",
      "count\n",
      "52\n",
      "finish\n"
     ]
    },
    {
     "data": {
      "text/plain": [
       "79232"
      ]
     },
     "execution_count": 3,
     "metadata": {},
     "output_type": "execute_result"
    }
   ],
   "source": [
    "#function to calculate sum(d2-d1) for each cluster\n",
    "def calculate_performance(pred, cluster):\n",
    "    \"\"\"\n",
    "    Calculates first day that stock hits 0 in a certain month for an item\n",
    "    :param pred: Array of predicted sales units for an item\n",
    "    :param cluster: cluster of the item\n",
    "    :return: sum(d2-d1)\n",
    "    \"\"\"\n",
    "    print('Calculating...')\n",
    "    path='D://4th Semester//Data Mining2//DMC//Clustering//'\n",
    "    df_cluster = pd.read_csv(path+'clusters_v3.csv',usecols=['pid','size','Cluster'])\n",
    "    #df_cluster=outlier_label(df_cluster)\n",
    "    path_test = 'D://4th Semester//Data Mining2//DMC//Test//'\n",
    "    test = pd.read_csv(path_test+'test_0.csv')\n",
    "    test = pd.merge(test, df_cluster, on=['pid', 'size'])\n",
    "    df=test[test['Cluster'] == cluster]\n",
    "    #sold_out_date=test['sold_out_date'][test['Cluster'] == cluster]\n",
    "    sum_gap=0\n",
    "    for i in range(len(df)):\n",
    "        this_stock=df['stock'].iloc[i]\n",
    "        d_real=df['sold_out_date'].iloc[i].split('-')[2]\n",
    "        d_real=int(d_real)\n",
    "        for day in range(len(pred)):\n",
    "            this_stock -= pred[day]\n",
    "            if this_stock <= 0:\n",
    "                soldout_day = day+1\n",
    "                break\n",
    "        if this_stock > 0:\n",
    "            soldout_day = 31\n",
    "        sum_gap+=abs(soldout_day-d_real)                \n",
    "    return sum_gap\n",
    "\n",
    "'''\n",
    "#try function\n",
    "df_this_cluster=df[df.Cluster == 12]\n",
    "daily_avg=np.array(df_this_cluster.mean())\n",
    "#remove the last column as cluster label\n",
    "daily_avg=daily_avg[0:92]\n",
    "fb_this_cluster={'ds': date, 'y': daily_avg}\n",
    "fb_this_cluster=pd.DataFrame(data=fb_this_cluster)\n",
    "        \n",
    "#apply fb prophet\n",
    "m = Prophet()\n",
    "m.fit(fb_this_cluster)\n",
    "future = m.make_future_dataframe(periods=31)\n",
    "forecast = m.predict(future)\n",
    "forecast_this_cluster = forecast[['ds', 'yhat']]\n",
    "\n",
    "f=np.array(forecast_this_cluster['yhat'])\n",
    "a=calculate_performance(f,12)\n",
    "a\n",
    "'''\n",
    "####################################\n",
    "#forecasting\n",
    "\n",
    "# Taken from Basil: datamining2/data/datasets_Basil/create_dataset_v0.3.ipynb\n",
    "#creating array with dates where 11 Teamsports announces discount on social media\n",
    "marketingactivities=['2017-10-11','2017-10-16','2017-11-04','2017-11-11','2017-11-23','2017-11-24',\n",
    "                     '2017-11-25','2017-11-27','2017-12-03','2017-12-27','2017-12-28','2017-12-31',\n",
    "                    '2018-01-14','2018-01-22','2018-01-23','2018-01-30','2018-02-06','2018-02-07',\n",
    "                     '2018-02-20','2018-02-22','2018-02-23']\n",
    "marketingactivities = pd.DataFrame({\n",
    "    'holiday': 'marketingactivity',\n",
    "    'ds': pd.to_datetime(marketingactivities),\n",
    "    })\n",
    "\n",
    "\n",
    "#set(test['Cluster'])\n",
    "count=1\n",
    "total_sum_gap=0\n",
    "for i in set(test['Cluster']):\n",
    "        df=df.fillna(0)\n",
    "        df_this_cluster=df[df.Cluster == i]\n",
    "        daily_avg=np.array(df_this_cluster.mean())\n",
    "        #remove the last column as cluster label\n",
    "        daily_avg=daily_avg[0:92]\n",
    "        fb_this_cluster={'ds': date, 'y': daily_avg}\n",
    "        fb_this_cluster=pd.DataFrame(data=fb_this_cluster)\n",
    "        fb_this_cluster=fb_this_cluster.fillna(0)\n",
    "        \n",
    "        #apply fb prophet\n",
    "        ##Prophet(holidays = marketingactivities_prophet).fit(val)\n",
    "        m = Prophet(changepoint_prior_scale=0.0001,yearly_seasonality=False,holidays=marketingactivities)\n",
    "        forecast = m.fit(fb_this_cluster)\n",
    "        future = m.make_future_dataframe(periods=31)\n",
    "        forecast = m.predict(future)\n",
    "        \n",
    "        #edit the forecast to fit the function\n",
    "        forecast_this_cluster = forecast[['ds', 'yhat']].iloc[92:]\n",
    "        f=forecast_this_cluster['yhat']\n",
    "        f=f.fillna(0)\n",
    "        f=np.array(f)\n",
    "        for x in range(0,len(f)):\n",
    "            if f[x] < 0:\n",
    "                f[x]=0\n",
    "        sum_gap=calculate_performance(f,i)\n",
    "        total_sum_gap+=sum_gap\n",
    "        print('this cluster is')\n",
    "        print(i)\n",
    "        print('the error of this cluster is')\n",
    "        print(sum_gap)\n",
    "        print('the total error now is:')\n",
    "        print(total_sum_gap)\n",
    "        print('count')\n",
    "        print(count)\n",
    "        count+=1\n",
    "print('finish')\n",
    "total_sum_gap\n"
   ]
  },
  {
   "cell_type": "code",
   "execution_count": 4,
   "metadata": {},
   "outputs": [
    {
     "data": {
      "text/plain": [
       "281.4817933721469"
      ]
     },
     "execution_count": 4,
     "metadata": {},
     "output_type": "execute_result"
    }
   ],
   "source": [
    "import math\n",
    "math.sqrt(total_sum_gap)"
   ]
  }
 ],
 "metadata": {
  "kernelspec": {
   "display_name": "Python 3",
   "language": "python",
   "name": "python3"
  },
  "language_info": {
   "codemirror_mode": {
    "name": "ipython",
    "version": 3
   },
   "file_extension": ".py",
   "mimetype": "text/x-python",
   "name": "python",
   "nbconvert_exporter": "python",
   "pygments_lexer": "ipython3",
   "version": "3.6.2"
  }
 },
 "nbformat": 4,
 "nbformat_minor": 2
}
