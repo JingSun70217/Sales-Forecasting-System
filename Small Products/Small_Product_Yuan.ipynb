{
 "cells": [
  {
   "cell_type": "code",
   "execution_count": 2,
   "metadata": {},
   "outputs": [
    {
     "data": {
      "text/plain": [
       "(9917, 93)"
      ]
     },
     "execution_count": 2,
     "metadata": {},
     "output_type": "execute_result"
    }
   ],
   "source": [
    "##Some code refered to Basil\n",
    "import  pandas  as  pd\n",
    "import  numpy  as  np\n",
    "\n",
    "path='D:/4th Semester/Data Mining2/DMC/Small/'\n",
    "data=pd.read_csv(path+'data_v0.1_sales.csv')\n",
    "# filter small products\n",
    "daten=data[(data.cluster=='small')]\n",
    "#seperate data in (october - december) and january\n",
    "data_target=daten.iloc[:,93:124]\n",
    "data_train =daten.iloc[:,0:93]\n",
    "data_train.shape"
   ]
  },
  {
   "cell_type": "code",
   "execution_count": 3,
   "metadata": {},
   "outputs": [
    {
     "name": "stdout",
     "output_type": "stream",
     "text": [
      "NUMBER OF KEYS OF SMALL PRODUCTS IN TEST\n",
      "5505\n",
      "NUMBER OF KEYS OF SMALL PRODUCTS IN TEST\n",
      "5505\n",
      "NUMBER OF KEYS OF SMALL PRODUCTS IN TEST\n",
      "5505\n",
      "NUMBER OF KEYS OF SMALL PRODUCTS IN TEST\n",
      "5505\n",
      "NUMBER OF KEYS OF SMALL PRODUCTS IN TEST\n",
      "5505\n"
     ]
    }
   ],
   "source": [
    "#read test data\n",
    "test0=pd.read_csv(path+'test_0.csv')\n",
    "test1=pd.read_csv(path+'test_1.csv')\n",
    "test2=pd.read_csv(path+'test_2.csv')\n",
    "test3=pd.read_csv(path+'test_3.csv')\n",
    "test4=pd.read_csv(path+'test_4.csv')\n",
    "\n",
    "#change type from float to int as preparation for key generation\n",
    "test0['pid']=test0['pid'].astype(int)\n",
    "test1['pid']=test1['pid'].astype(int)\n",
    "test2['pid']=test2['pid'].astype(int)\n",
    "test3['pid']=test3['pid'].astype(int)\n",
    "test4['pid']=test4['pid'].astype(int)\n",
    "\n",
    "#create key function\n",
    "def keycr(train):\n",
    "    keys3=[]\n",
    "    i=0\n",
    "    while i<len(train):\n",
    "        key=str(train.iloc[i,1])+str(train.iloc[i,2])\n",
    "        keys3.append(key)\n",
    "        i=i+1\n",
    "    return keys3\n",
    "\n",
    "\n",
    "#creating the keys for test data#creating \n",
    "test0['key']=keycr(test0)\n",
    "test1['key']=keycr(test1)\n",
    "test2['key']=keycr(test2)\n",
    "test3['key']=keycr(test3)\n",
    "test4['key']=keycr(test4)\n",
    "\n",
    "\n",
    "#compute avg sales per product#compute  \n",
    "data_train['avg']=data_train.mean(axis=1)\n",
    "data_train = data_train.reset_index(drop=True)\n",
    "\n",
    "# function creates new test data set which includes only the small product\n",
    "def seperate_test(test):\n",
    "    i=0 \n",
    "    arr=[]\n",
    "    c=0\n",
    "    test = test.reset_index(drop=True)\n",
    "    while i<len(data_train):\n",
    "        if data_train['key'][i] in test['key'].values:\n",
    "            arr.append(data_train['key'][i])\n",
    "            c=c+1\n",
    "        i=i+1\n",
    "    print('NUMBER OF KEYS OF SMALL PRODUCTS IN TEST')\n",
    "    print(c)\n",
    "    i=0 \n",
    "    test00=test\n",
    "    while i<len(test):\n",
    "        if test['key'][i] not in arr:\n",
    "            test00=test00[test00.key != test['key'][i]]\n",
    "        i=i+1\n",
    "    return test00\n",
    "\n",
    "\n",
    "#applying the function#applying \n",
    "test0=seperate_test(test0)\n",
    "test1=seperate_test(test1)\n",
    "test2=seperate_test(test2)\n",
    "test3=seperate_test(test3)\n",
    "test4=seperate_test(test4)"
   ]
  },
  {
   "cell_type": "code",
   "execution_count": 4,
   "metadata": {
    "scrolled": false
   },
   "outputs": [
    {
     "data": {
      "text/plain": [
       "0    0.010870\n",
       "1    0.021739\n",
       "2    0.032609\n",
       "3    0.108696\n",
       "4    0.010870\n",
       "Name: avg, dtype: float64"
      ]
     },
     "execution_count": 4,
     "metadata": {},
     "output_type": "execute_result"
    }
   ],
   "source": [
    "data_train['avg'].head()"
   ]
  },
  {
   "cell_type": "code",
   "execution_count": 5,
   "metadata": {},
   "outputs": [
    {
     "data": {
      "text/plain": [
       "92"
      ]
     },
     "execution_count": 5,
     "metadata": {},
     "output_type": "execute_result"
    }
   ],
   "source": [
    "#baseline 1 use the daily average of all and fb prophet \n",
    "daily_avg=data_train.mean()\n",
    "daily_avg=np.array(daily_avg)\n",
    "daily_avg=daily_avg[0:92]\n",
    "len(daily_avg)"
   ]
  },
  {
   "cell_type": "code",
   "execution_count": 6,
   "metadata": {
    "scrolled": true
   },
   "outputs": [
    {
     "data": {
      "text/plain": [
       "0    0.010870\n",
       "1    0.021739\n",
       "2    0.032609\n",
       "3    0.108696\n",
       "4    0.010870\n",
       "5    0.021739\n",
       "6    0.000000\n",
       "7    0.010870\n",
       "8    0.010870\n",
       "9    0.021739\n",
       "Name: avg, dtype: float64"
      ]
     },
     "execution_count": 6,
     "metadata": {},
     "output_type": "execute_result"
    }
   ],
   "source": [
    "data_train.iloc[0:10 ,93]"
   ]
  },
  {
   "cell_type": "code",
   "execution_count": 7,
   "metadata": {},
   "outputs": [
    {
     "data": {
      "text/plain": [
       "0.0"
      ]
     },
     "execution_count": 7,
     "metadata": {},
     "output_type": "execute_result"
    }
   ],
   "source": [
    "i=data_train.loc[data_train['key'] == '10001L']\n",
    "i.iloc[0,92]"
   ]
  },
  {
   "cell_type": "code",
   "execution_count": 36,
   "metadata": {},
   "outputs": [
    {
     "data": {
      "text/plain": [
       "24"
      ]
     },
     "execution_count": 36,
     "metadata": {},
     "output_type": "execute_result"
    }
   ],
   "source": [
    "#compute the average of the same date of each month\n",
    "#i is the dataframe with a single key\n",
    "def month_daily(i):\n",
    "    month_day=[]\n",
    "    for d in range(0,30):\n",
    "        n=(i.iloc[0,d+1]+i.iloc[0,d+32]+i.iloc[0,d+62])/3\n",
    "        month_day.append(n)\n",
    "    month_day.append((i.iloc[0,32]+i.iloc[0,92])/2)\n",
    "    return month_day\n",
    "\n",
    "\n",
    "def soldout_day(pred, stock):\n",
    "    \"\"\"\n",
    "    Calculates first day that stock hits 0 in a certain month for an item\n",
    "    :param pred: Array of predicted sales units for an item\n",
    "    :param stock: Stock at beginning of month for an item\n",
    "    :return: Day of month that stock reaches 0\n",
    "    \"\"\"\n",
    "    soldout_day = len(pred)\n",
    "    for day in range(len(pred)):\n",
    "        stock -= pred[day]\n",
    "        #print(stock)\n",
    "        if stock <= 0:\n",
    "            soldout_day = day+1\n",
    "            break\n",
    "    return soldout_day\n",
    "\n",
    "\n",
    "i=data_train.loc[data_train['key'] == '10001L']\n",
    "m=month_daily(i)\n",
    "pred_day=soldout_day(m,test0['stock'].iloc[0])\n",
    "real_day=int(test0['sold_out_date'][0].split('-')[2])\n",
    "gap=abs(pred_day-real_day)\n",
    "gap"
   ]
  },
  {
   "cell_type": "code",
   "execution_count": 178,
   "metadata": {},
   "outputs": [
    {
     "name": "stdout",
     "output_type": "stream",
     "text": [
      "best score for avg of the same day in each month\n"
     ]
    },
    {
     "data": {
      "text/plain": [
       "210.8838542895117"
      ]
     },
     "execution_count": 178,
     "metadata": {},
     "output_type": "execute_result"
    }
   ],
   "source": [
    "total_gap=[]\n",
    "n=0\n",
    "for index in range(len(test0)):\n",
    "    key=test0['key'].iloc[index]\n",
    "    i=data_train.loc[data_train['key'] == key]\n",
    "    m=month_daily(i)\n",
    "    if m.count(0)>=22:\n",
    "        pred_day=18\n",
    "        n+=1\n",
    "    else: \n",
    "        pred_day=soldout_day(m,test0['stock'].iloc[index])\n",
    "    real_day=int(test0['sold_out_date'].iloc[index].split('-')[2])\n",
    "    gap=abs(pred_day-real_day)\n",
    "    total_gap.append(gap)\n",
    "import math\n",
    "print('best score for avg of the same day in each month')\n",
    "math.sqrt(sum(total_gap))\n"
   ]
  },
  {
   "cell_type": "code",
   "execution_count": 179,
   "metadata": {},
   "outputs": [
    {
     "name": "stdout",
     "output_type": "stream",
     "text": [
      "number of items which contains too many zeros\n",
      "5438\n",
      "best score of window approach\n"
     ]
    },
    {
     "data": {
      "text/plain": [
       "210.9099333838973"
      ]
     },
     "execution_count": 179,
     "metadata": {},
     "output_type": "execute_result"
    }
   ],
   "source": [
    "##Window Function\n",
    "total_gap=[]\n",
    "n=0\n",
    "for index in range(len(test0)):\n",
    "    key=test0['key'].iloc[index]\n",
    "    i=data_train.loc[data_train['key'] == key]\n",
    "    data=np.array(i)[0]\n",
    "    count=list(data[1:93]).count(0)\n",
    "    p=i.drop(['key','avg'], axis=1).rolling(window=31, min_periods=1, freq=None, center=False, win_type='bartlett', on=None, axis=1, closed=None)\n",
    "    m=np.array(p.mean())[0,61:]\n",
    "    if count>=82:\n",
    "        pred_day=18\n",
    "        n+=1\n",
    "    else:\n",
    "        pred_day=soldout_day(m,test0['stock'].iloc[index])\n",
    "    real_day=int(test0['sold_out_date'].iloc[index].split('-')[2])\n",
    "    gap=abs(pred_day-real_day)\n",
    "    total_gap.append(gap)\n",
    "print('number of items which contains too many zeros')\n",
    "print(n)\n",
    "print('best score of window approach')\n",
    "math.sqrt(sum(total_gap))"
   ]
  }
 ],
 "metadata": {
  "kernelspec": {
   "display_name": "Python 3",
   "language": "python",
   "name": "python3"
  },
  "language_info": {
   "codemirror_mode": {
    "name": "ipython",
    "version": 3
   },
   "file_extension": ".py",
   "mimetype": "text/x-python",
   "name": "python",
   "nbconvert_exporter": "python",
   "pygments_lexer": "ipython3",
   "version": "3.6.2"
  }
 },
 "nbformat": 4,
 "nbformat_minor": 2
}
