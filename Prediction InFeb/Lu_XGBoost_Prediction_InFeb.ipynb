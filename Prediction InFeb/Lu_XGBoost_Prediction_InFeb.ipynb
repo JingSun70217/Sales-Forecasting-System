{
 "cells": [
  {
   "cell_type": "markdown",
   "metadata": {},
   "source": [
    "# XGBoost -- Prediction in Feb\n",
    "\n",
    "Editor: Lu Lifei\n",
    "\n",
    "Model part: based on @Julian '2018_05_09_b_DM2_DMC_XGBoost.ipynb'"
   ]
  },
  {
   "cell_type": "markdown",
   "metadata": {},
   "source": [
    "## Model\n",
    "### 1. Import and load"
   ]
  },
  {
   "cell_type": "code",
   "execution_count": 1,
   "metadata": {
    "collapsed": true
   },
   "outputs": [],
   "source": [
    "import pandas as pd\n",
    "import numpy as np\n",
    "import pickle\n",
    "from xgboost import XGBRegressor\n",
    "from sklearn.metrics import mean_squared_error\n",
    "from math import sqrt"
   ]
  },
  {
   "cell_type": "code",
   "execution_count": 2,
   "metadata": {
    "collapsed": true
   },
   "outputs": [],
   "source": [
    "# Import datasets\n",
    "\n",
    "X_full = pickle.load(open('/Users/effylu/Downloads/XY_flat_final/X_flat_final.pkl', 'rb'))\n",
    "Y_full = pickle.load(open('/Users/effylu/Downloads/XY_flat_final/Y_flat_final.pkl', 'rb'))"
   ]
  },
  {
   "cell_type": "markdown",
   "metadata": {},
   "source": [
    "### 2. Prepare"
   ]
  },
  {
   "cell_type": "code",
   "execution_count": 3,
   "metadata": {
    "collapsed": true
   },
   "outputs": [],
   "source": [
    "# Add on column 'month'\n",
    "\n",
    "X_full['month'] = pd.DatetimeIndex(X_full['date']).month\n",
    "Y_full['month'] = pd.DatetimeIndex(Y_full['date']).month"
   ]
  },
  {
   "cell_type": "code",
   "execution_count": 4,
   "metadata": {
    "collapsed": true
   },
   "outputs": [],
   "source": [
    "# Split the X_full and Y_full into traing and test\n",
    "\n",
    "X_train = X_full.loc[X_full['month'] != 2]\n",
    "Y_train = Y_full.loc[Y_full['month'] != 2]['sales']\n",
    "X_test = X_full.loc[X_full['month'] == 2]\n",
    "Y_test = Y_full.loc[Y_full['month'] == 2]['sales']\n",
    "\n",
    "# Save the 'date' and 'key' for further use\n",
    "column_name = X_test['date'].unique().astype(str)\n",
    "row_name = X_test['key'].unique().astype(str)"
   ]
  },
  {
   "cell_type": "code",
   "execution_count": 5,
   "metadata": {
    "collapsed": true
   },
   "outputs": [],
   "source": [
    "# Prepare the data for fitting the input of the model\n",
    "# Delete useless columns\n",
    "\n",
    "drop_x_cols = ['key', 'pid_x', 'size_x', 'color', 'brand', 'rrp', 'date', 'day_of_week', \n",
    "               'mainCategory', 'category', 'subCategory', 'releaseDate', \n",
    "               'rrp', 'price', 'month']\n",
    "X_train = X_train.drop(drop_x_cols, axis=1)\n",
    "X_test = X_test.drop(drop_x_cols, axis=1)"
   ]
  },
  {
   "cell_type": "code",
   "execution_count": 6,
   "metadata": {
    "collapsed": true
   },
   "outputs": [],
   "source": [
    "# Change all data format into matrix\n",
    "\n",
    "X_train = X_train.as_matrix()\n",
    "X_train = np.delete(X_train, np.s_[14:28], axis=1)\n",
    "Y_train = Y_train.as_matrix()\n",
    "X_test = X_test.as_matrix()\n",
    "X_test = np.delete(X_test, np.s_[14:28], axis=1)\n",
    "Y_test = Y_test.as_matrix()"
   ]
  },
  {
   "cell_type": "code",
   "execution_count": 7,
   "metadata": {},
   "outputs": [
    {
     "data": {
      "text/plain": [
       "(359072, 81)"
      ]
     },
     "execution_count": 7,
     "metadata": {},
     "output_type": "execute_result"
    }
   ],
   "source": [
    "X_test.shape"
   ]
  },
  {
   "cell_type": "markdown",
   "metadata": {},
   "source": [
    "### 3. Train model"
   ]
  },
  {
   "cell_type": "code",
   "execution_count": 8,
   "metadata": {},
   "outputs": [
    {
     "data": {
      "text/plain": [
       "XGBRegressor(base_score=0.5, booster='gbtree', colsample_bylevel=1,\n",
       "       colsample_bytree=1, gamma=0, learning_rate=0.1, max_delta_step=0,\n",
       "       max_depth=3, min_child_weight=1, missing=None, n_estimators=40,\n",
       "       n_jobs=8, nthread=None, objective='reg:linear', random_state=0,\n",
       "       reg_alpha=0, reg_lambda=1, scale_pos_weight=1, seed=None,\n",
       "       silent=True, subsample=1.0)"
      ]
     },
     "execution_count": 8,
     "metadata": {},
     "output_type": "execute_result"
    }
   ],
   "source": [
    "# Training the model\n",
    "\n",
    "model = XGBRegressor(base_score=0.5, booster='gbtree', colsample_bylevel=1,\n",
    "      colsample_bytree=1, gamma=0, learning_rate=0.1, max_delta_step=0,\n",
    "      max_depth=3, min_child_weight=1, missing=None, n_estimators=40,\n",
    "      n_jobs=8, nthread=None, objective='reg:linear', random_state=0,\n",
    "      reg_alpha=0, reg_lambda=1, scale_pos_weight=1, seed=None,\n",
    "      silent=True, subsample=1.0)\n",
    "model.fit(X_train, Y_train)"
   ]
  },
  {
   "cell_type": "markdown",
   "metadata": {},
   "source": [
    "## Prediction"
   ]
  },
  {
   "cell_type": "code",
   "execution_count": 9,
   "metadata": {},
   "outputs": [
    {
     "name": "stdout",
     "output_type": "stream",
     "text": [
      "[[ 0.  0.  0. ...,  0.  0.  0.]\n",
      " [ 0.  0.  0. ...,  0.  0.  0.]\n",
      " [ 0.  0.  0. ...,  0.  0.  0.]\n",
      " ..., \n",
      " [ 0.  0.  0. ...,  0.  0.  0.]\n",
      " [ 0.  0.  0. ...,  0.  0.  0.]\n",
      " [ 1.  1.  0. ...,  0.  0.  0.]]\n",
      "(12824, 81)\n"
     ]
    }
   ],
   "source": [
    "# Test the model\n",
    "# Only the sale unit of the first day for each item is right int the 'X_test'\n",
    "# Select the row 'on Jan 1st'\n",
    "\n",
    "X_Feb1 = X_test[0:1,:]\n",
    "for i in range(int(len(X_test)/28-1)):\n",
    "    X_Feb1 = np.vstack([X_Feb1, X_test[(28+i*28):(29+i*28),:]])\n",
    "print(X_Feb1)\n",
    "print(X_Feb1.shape)"
   ]
  },
  {
   "cell_type": "code",
   "execution_count": 10,
   "metadata": {},
   "outputs": [
    {
     "name": "stdout",
     "output_type": "stream",
     "text": [
      "[[ 0.]\n",
      " [ 0.]\n",
      " [ 0.]\n",
      " ..., \n",
      " [ 0.]\n",
      " [ 0.]\n",
      " [ 0.]]\n"
     ]
    }
   ],
   "source": [
    "# Predict the sales unit 'on Jan 1st' for each items\n",
    "# Change the format of the prediction results on Jan_1st\n",
    "\n",
    "Y_Feb1 = model.predict(X_Feb1)\n",
    "prediction_1 = np.asarray([round(value) for value in Y_Feb1])\n",
    "prediction_1 = np.reshape(prediction_1, (len(prediction_1),1))\n",
    "print(prediction_1)"
   ]
  },
  {
   "cell_type": "code",
   "execution_count": 11,
   "metadata": {},
   "outputs": [
    {
     "name": "stdout",
     "output_type": "stream",
     "text": [
      "[[ 0.  0.  0. ...,  0.  0.  0.]\n",
      " [ 0.  0.  0. ...,  0.  0.  0.]\n",
      " [ 0.  0.  0. ...,  0.  0.  0.]\n",
      " ..., \n",
      " [ 0.  0.  0. ...,  0.  0.  0.]\n",
      " [ 0.  0.  0. ...,  0.  0.  0.]\n",
      " [ 0.  1.  1. ...,  0.  0.  0.]]\n"
     ]
    }
   ],
   "source": [
    "# Delete the 'last_14_day_sales'\n",
    "# Add the prediction results as the 'last_1_day_sales'\n",
    "\n",
    "X_Feb = X_Feb1\n",
    "X_Feb = np.delete(X_Feb, np.s_[13:14], axis=1)\n",
    "X_Feb = np.append(prediction_1, X_Feb, axis=1)\n",
    "print(X_Feb)"
   ]
  },
  {
   "cell_type": "code",
   "execution_count": 12,
   "metadata": {},
   "outputs": [
    {
     "name": "stdout",
     "output_type": "stream",
     "text": [
      "[[ 0.  0.  0. ...,  0.  0.  0.]\n",
      " [ 0.  0.  0. ...,  0.  0.  0.]\n",
      " [ 0.  0.  0. ...,  0.  0.  0.]\n",
      " ..., \n",
      " [ 0.  0.  0. ...,  0.  0.  0.]\n",
      " [ 0.  0.  0. ...,  0.  0.  0.]\n",
      " [ 0.  0.  0. ...,  0.  0.  0.]]\n"
     ]
    }
   ],
   "source": [
    "# Add the process above into a loop\n",
    "# Predict the sales units eery day in January for each item\n",
    "\n",
    "predictions = prediction_1\n",
    "for i in range(27):\n",
    "    Y_Feb = model.predict(X_Feb)\n",
    "    prediction = np.asarray([round(value) for value in Y_Feb])\n",
    "    prediction = np.reshape(prediction, (len(prediction),1))\n",
    "    predictions = np.append(predictions, prediction, axis=1)\n",
    "    X_Feb = np.delete(X_Feb, np.s_[13:14], axis=1)\n",
    "    X_Feb = np.append(prediction, X_Feb, axis=1)\n",
    "print(predictions)"
   ]
  },
  {
   "cell_type": "code",
   "execution_count": 13,
   "metadata": {},
   "outputs": [
    {
     "name": "stdout",
     "output_type": "stream",
     "text": [
      "[ 6.  5.  4.  3.  3.  5.  5.  5.  5.  6.  5.  6.  6.  6.  6.  6.  6.  6.\n",
      "  6.  6.  6.  6.  7.  6.  7.  7.  7.  7.]\n"
     ]
    }
   ],
   "source": [
    "# Check row 161\n",
    "\n",
    "print(predictions[161,:])"
   ]
  },
  {
   "cell_type": "markdown",
   "metadata": {},
   "source": [
    "## Find Sold-Out-Date in Febuary"
   ]
  },
  {
   "cell_type": "markdown",
   "metadata": {},
   "source": [
    "### 1. Restructure the predictions"
   ]
  },
  {
   "cell_type": "code",
   "execution_count": 14,
   "metadata": {
    "scrolled": true
   },
   "outputs": [
    {
     "name": "stdout",
     "output_type": "stream",
     "text": [
      "[[ 0.  0.  0. ...,  0.  0.  0.]\n",
      " [ 0.  0.  0. ...,  0.  0.  0.]\n",
      " [ 0.  0.  0. ...,  0.  0.  0.]\n",
      " ..., \n",
      " [ 0.  0.  0. ...,  0.  0.  0.]\n",
      " [ 0.  0.  0. ...,  0.  0.  0.]\n",
      " [ 0.  0.  0. ...,  0.  0.  0.]]\n",
      "(12824, 28)\n"
     ]
    }
   ],
   "source": [
    "# Aggregate sales for each day each item.\n",
    "\n",
    "pred_agg = predictions\n",
    "agg_sum = predictions[:,0]\n",
    "for i in range(len(column_name)-1):\n",
    "    agg_sum = pred_agg[:,i] + predictions[:, i+1]\n",
    "    pred_agg[:, i+1] = agg_sum\n",
    "print(pred_agg)\n",
    "print(pred_agg.shape)"
   ]
  },
  {
   "cell_type": "code",
   "execution_count": 15,
   "metadata": {},
   "outputs": [
    {
     "name": "stdout",
     "output_type": "stream",
     "text": [
      "[   6.   11.   15.   18.   21.   26.   31.   36.   41.   47.   52.   58.\n",
      "   64.   70.   76.   82.   88.   94.  100.  106.  112.  118.  125.  131.\n",
      "  138.  145.  152.  159.]\n"
     ]
    }
   ],
   "source": [
    "# Check row 161\n",
    "\n",
    "print(pred_agg[161,:])"
   ]
  },
  {
   "cell_type": "markdown",
   "metadata": {},
   "source": [
    "### 2. Find the Sold-Out-Date in Febuary"
   ]
  },
  {
   "cell_type": "code",
   "execution_count": 16,
   "metadata": {
    "collapsed": true
   },
   "outputs": [],
   "source": [
    "# Load the test data\n",
    "\n",
    "items = pd.read_csv('/Users/effylu/Downloads/DMC_2018_task/items.csv', encoding = 'ascii', sep = '|')\n",
    "\n",
    "# Store for further use\n",
    "\n",
    "pred_date = np.asarray(items[['releaseDate']])"
   ]
  },
  {
   "cell_type": "code",
   "execution_count": 17,
   "metadata": {
    "scrolled": false
   },
   "outputs": [
    {
     "name": "stdout",
     "output_type": "stream",
     "text": [
      "(12824, 4)\n"
     ]
    }
   ],
   "source": [
    "# Add 'key' for test data by merging 'pid' and 'size'\n",
    "# Select useful attributes\n",
    "\n",
    "items[\"key\"] = items[\"pid\"].map(int).map(str) + items[\"size\"]\n",
    "subItems = items[['key','pid','size','stock']]\n",
    "subItems = np.asarray(subItems)\n",
    "print(subItems.shape)"
   ]
  },
  {
   "cell_type": "markdown",
   "metadata": {},
   "source": [
    "#### 2.1.  Match the 'items' with the 'pred_agg'"
   ]
  },
  {
   "cell_type": "code",
   "execution_count": 18,
   "metadata": {},
   "outputs": [
    {
     "name": "stdout",
     "output_type": "stream",
     "text": [
      "2018-02-02\n"
     ]
    }
   ],
   "source": [
    "pred_day = np.zeros((len(subItems),1), dtype=int)\n",
    "\n",
    "for i in range(len(subItems)):\n",
    "    \n",
    "    if subItems[i,3] < pred_agg[i,0]:\n",
    "        pred_day[i,0] = 1\n",
    "        pred_date[i,0] = column_name[0]\n",
    "        continue\n",
    "            \n",
    "    if subItems[i,3] > pred_agg[i,27]:\n",
    "        pred_day[i,0] = 14\n",
    "        pred_date[i,0] = column_name[13]\n",
    "        continue\n",
    "        \n",
    "    for j in range(len(pred_agg[0])):\n",
    "            \n",
    "        if pred_agg[i,j] - subItems[i,3] >= 0:\n",
    "            pred_day[i,0] = j+1\n",
    "            pred_date[i,0] = column_name[j]\n",
    "            break\n",
    "            \n",
    "print(pred_date[161,0])    "
   ]
  },
  {
   "cell_type": "markdown",
   "metadata": {},
   "source": [
    "#### 2.2. Visualize result"
   ]
  },
  {
   "cell_type": "code",
   "execution_count": 19,
   "metadata": {
    "scrolled": true
   },
   "outputs": [
    {
     "data": {
      "text/html": [
       "<div>\n",
       "<style scoped>\n",
       "    .dataframe tbody tr th:only-of-type {\n",
       "        vertical-align: middle;\n",
       "    }\n",
       "\n",
       "    .dataframe tbody tr th {\n",
       "        vertical-align: top;\n",
       "    }\n",
       "\n",
       "    .dataframe thead th {\n",
       "        text-align: right;\n",
       "    }\n",
       "</style>\n",
       "<table border=\"1\" class=\"dataframe\">\n",
       "  <thead>\n",
       "    <tr style=\"text-align: right;\">\n",
       "      <th></th>\n",
       "      <th>pid</th>\n",
       "      <th>size</th>\n",
       "      <th>soldOutDate</th>\n",
       "    </tr>\n",
       "  </thead>\n",
       "  <tbody>\n",
       "    <tr>\n",
       "      <th>0</th>\n",
       "      <td>10000</td>\n",
       "      <td>XL ( 158-170 )</td>\n",
       "      <td>2018-02-14</td>\n",
       "    </tr>\n",
       "    <tr>\n",
       "      <th>1</th>\n",
       "      <td>10001</td>\n",
       "      <td>L</td>\n",
       "      <td>2018-02-14</td>\n",
       "    </tr>\n",
       "    <tr>\n",
       "      <th>2</th>\n",
       "      <td>10003</td>\n",
       "      <td>3 (35-38 )</td>\n",
       "      <td>2018-02-14</td>\n",
       "    </tr>\n",
       "    <tr>\n",
       "      <th>3</th>\n",
       "      <td>10003</td>\n",
       "      <td>4 ( 39-42 )</td>\n",
       "      <td>2018-02-14</td>\n",
       "    </tr>\n",
       "    <tr>\n",
       "      <th>4</th>\n",
       "      <td>10003</td>\n",
       "      <td>5 ( 43-46 )</td>\n",
       "      <td>2018-02-14</td>\n",
       "    </tr>\n",
       "    <tr>\n",
       "      <th>5</th>\n",
       "      <td>10006</td>\n",
       "      <td>XL</td>\n",
       "      <td>2018-02-14</td>\n",
       "    </tr>\n",
       "    <tr>\n",
       "      <th>6</th>\n",
       "      <td>10008</td>\n",
       "      <td>XL</td>\n",
       "      <td>2018-02-14</td>\n",
       "    </tr>\n",
       "    <tr>\n",
       "      <th>7</th>\n",
       "      <td>10013</td>\n",
       "      <td>L</td>\n",
       "      <td>2018-02-14</td>\n",
       "    </tr>\n",
       "    <tr>\n",
       "      <th>8</th>\n",
       "      <td>10013</td>\n",
       "      <td>M</td>\n",
       "      <td>2018-02-14</td>\n",
       "    </tr>\n",
       "    <tr>\n",
       "      <th>9</th>\n",
       "      <td>10013</td>\n",
       "      <td>S</td>\n",
       "      <td>2018-02-14</td>\n",
       "    </tr>\n",
       "    <tr>\n",
       "      <th>10</th>\n",
       "      <td>10015</td>\n",
       "      <td>L</td>\n",
       "      <td>2018-02-14</td>\n",
       "    </tr>\n",
       "    <tr>\n",
       "      <th>11</th>\n",
       "      <td>10015</td>\n",
       "      <td>S</td>\n",
       "      <td>2018-02-14</td>\n",
       "    </tr>\n",
       "    <tr>\n",
       "      <th>12</th>\n",
       "      <td>10017</td>\n",
       "      <td>L</td>\n",
       "      <td>2018-02-14</td>\n",
       "    </tr>\n",
       "    <tr>\n",
       "      <th>13</th>\n",
       "      <td>10020</td>\n",
       "      <td>XL</td>\n",
       "      <td>2018-02-14</td>\n",
       "    </tr>\n",
       "    <tr>\n",
       "      <th>14</th>\n",
       "      <td>10025</td>\n",
       "      <td>140</td>\n",
       "      <td>2018-02-14</td>\n",
       "    </tr>\n",
       "    <tr>\n",
       "      <th>15</th>\n",
       "      <td>10030</td>\n",
       "      <td>M</td>\n",
       "      <td>2018-02-14</td>\n",
       "    </tr>\n",
       "    <tr>\n",
       "      <th>16</th>\n",
       "      <td>10031</td>\n",
       "      <td>43</td>\n",
       "      <td>2018-02-14</td>\n",
       "    </tr>\n",
       "    <tr>\n",
       "      <th>17</th>\n",
       "      <td>10031</td>\n",
       "      <td>44</td>\n",
       "      <td>2018-02-14</td>\n",
       "    </tr>\n",
       "    <tr>\n",
       "      <th>18</th>\n",
       "      <td>10031</td>\n",
       "      <td>45</td>\n",
       "      <td>2018-02-14</td>\n",
       "    </tr>\n",
       "    <tr>\n",
       "      <th>19</th>\n",
       "      <td>10035</td>\n",
       "      <td>L ( 152-158 )</td>\n",
       "      <td>2018-02-14</td>\n",
       "    </tr>\n",
       "    <tr>\n",
       "      <th>20</th>\n",
       "      <td>10035</td>\n",
       "      <td>XL ( 158-170 )</td>\n",
       "      <td>2018-02-14</td>\n",
       "    </tr>\n",
       "    <tr>\n",
       "      <th>21</th>\n",
       "      <td>10035</td>\n",
       "      <td>XS ( 116-128 )</td>\n",
       "      <td>2018-02-14</td>\n",
       "    </tr>\n",
       "    <tr>\n",
       "      <th>22</th>\n",
       "      <td>10039</td>\n",
       "      <td>46</td>\n",
       "      <td>2018-02-14</td>\n",
       "    </tr>\n",
       "    <tr>\n",
       "      <th>23</th>\n",
       "      <td>10042</td>\n",
       "      <td>37,5</td>\n",
       "      <td>2018-02-14</td>\n",
       "    </tr>\n",
       "    <tr>\n",
       "      <th>24</th>\n",
       "      <td>10043</td>\n",
       "      <td>L</td>\n",
       "      <td>2018-02-14</td>\n",
       "    </tr>\n",
       "    <tr>\n",
       "      <th>25</th>\n",
       "      <td>10043</td>\n",
       "      <td>XL</td>\n",
       "      <td>2018-02-14</td>\n",
       "    </tr>\n",
       "    <tr>\n",
       "      <th>26</th>\n",
       "      <td>10046</td>\n",
       "      <td>L</td>\n",
       "      <td>2018-02-14</td>\n",
       "    </tr>\n",
       "    <tr>\n",
       "      <th>27</th>\n",
       "      <td>10046</td>\n",
       "      <td>M</td>\n",
       "      <td>2018-02-14</td>\n",
       "    </tr>\n",
       "    <tr>\n",
       "      <th>28</th>\n",
       "      <td>10046</td>\n",
       "      <td>S</td>\n",
       "      <td>2018-02-14</td>\n",
       "    </tr>\n",
       "    <tr>\n",
       "      <th>29</th>\n",
       "      <td>10048</td>\n",
       "      <td>42</td>\n",
       "      <td>2018-02-14</td>\n",
       "    </tr>\n",
       "    <tr>\n",
       "      <th>...</th>\n",
       "      <td>...</td>\n",
       "      <td>...</td>\n",
       "      <td>...</td>\n",
       "    </tr>\n",
       "    <tr>\n",
       "      <th>12794</th>\n",
       "      <td>22861</td>\n",
       "      <td>XL ( 158-170 )</td>\n",
       "      <td>2018-02-14</td>\n",
       "    </tr>\n",
       "    <tr>\n",
       "      <th>12795</th>\n",
       "      <td>22863</td>\n",
       "      <td>38,5</td>\n",
       "      <td>2018-02-14</td>\n",
       "    </tr>\n",
       "    <tr>\n",
       "      <th>12796</th>\n",
       "      <td>22863</td>\n",
       "      <td>40</td>\n",
       "      <td>2018-02-14</td>\n",
       "    </tr>\n",
       "    <tr>\n",
       "      <th>12797</th>\n",
       "      <td>22864</td>\n",
       "      <td>M</td>\n",
       "      <td>2018-02-14</td>\n",
       "    </tr>\n",
       "    <tr>\n",
       "      <th>12798</th>\n",
       "      <td>22866</td>\n",
       "      <td>42</td>\n",
       "      <td>2018-02-14</td>\n",
       "    </tr>\n",
       "    <tr>\n",
       "      <th>12799</th>\n",
       "      <td>22866</td>\n",
       "      <td>42,5</td>\n",
       "      <td>2018-02-14</td>\n",
       "    </tr>\n",
       "    <tr>\n",
       "      <th>12800</th>\n",
       "      <td>22866</td>\n",
       "      <td>43</td>\n",
       "      <td>2018-02-14</td>\n",
       "    </tr>\n",
       "    <tr>\n",
       "      <th>12801</th>\n",
       "      <td>22866</td>\n",
       "      <td>44</td>\n",
       "      <td>2018-02-14</td>\n",
       "    </tr>\n",
       "    <tr>\n",
       "      <th>12802</th>\n",
       "      <td>22866</td>\n",
       "      <td>44,5</td>\n",
       "      <td>2018-02-14</td>\n",
       "    </tr>\n",
       "    <tr>\n",
       "      <th>12803</th>\n",
       "      <td>22866</td>\n",
       "      <td>45,5</td>\n",
       "      <td>2018-02-14</td>\n",
       "    </tr>\n",
       "    <tr>\n",
       "      <th>12804</th>\n",
       "      <td>22869</td>\n",
       "      <td>39</td>\n",
       "      <td>2018-02-14</td>\n",
       "    </tr>\n",
       "    <tr>\n",
       "      <th>12805</th>\n",
       "      <td>22869</td>\n",
       "      <td>40</td>\n",
       "      <td>2018-02-14</td>\n",
       "    </tr>\n",
       "    <tr>\n",
       "      <th>12806</th>\n",
       "      <td>22869</td>\n",
       "      <td>40,5</td>\n",
       "      <td>2018-02-14</td>\n",
       "    </tr>\n",
       "    <tr>\n",
       "      <th>12807</th>\n",
       "      <td>22869</td>\n",
       "      <td>41</td>\n",
       "      <td>2018-02-14</td>\n",
       "    </tr>\n",
       "    <tr>\n",
       "      <th>12808</th>\n",
       "      <td>22869</td>\n",
       "      <td>42</td>\n",
       "      <td>2018-02-14</td>\n",
       "    </tr>\n",
       "    <tr>\n",
       "      <th>12809</th>\n",
       "      <td>22869</td>\n",
       "      <td>43</td>\n",
       "      <td>2018-02-14</td>\n",
       "    </tr>\n",
       "    <tr>\n",
       "      <th>12810</th>\n",
       "      <td>22869</td>\n",
       "      <td>44</td>\n",
       "      <td>2018-02-14</td>\n",
       "    </tr>\n",
       "    <tr>\n",
       "      <th>12811</th>\n",
       "      <td>22869</td>\n",
       "      <td>44,5</td>\n",
       "      <td>2018-02-14</td>\n",
       "    </tr>\n",
       "    <tr>\n",
       "      <th>12812</th>\n",
       "      <td>22869</td>\n",
       "      <td>45</td>\n",
       "      <td>2018-02-14</td>\n",
       "    </tr>\n",
       "    <tr>\n",
       "      <th>12813</th>\n",
       "      <td>22869</td>\n",
       "      <td>45,5</td>\n",
       "      <td>2018-02-14</td>\n",
       "    </tr>\n",
       "    <tr>\n",
       "      <th>12814</th>\n",
       "      <td>22869</td>\n",
       "      <td>46</td>\n",
       "      <td>2018-02-14</td>\n",
       "    </tr>\n",
       "    <tr>\n",
       "      <th>12815</th>\n",
       "      <td>22869</td>\n",
       "      <td>47</td>\n",
       "      <td>2018-02-14</td>\n",
       "    </tr>\n",
       "    <tr>\n",
       "      <th>12816</th>\n",
       "      <td>22869</td>\n",
       "      <td>47,5</td>\n",
       "      <td>2018-02-14</td>\n",
       "    </tr>\n",
       "    <tr>\n",
       "      <th>12817</th>\n",
       "      <td>22872</td>\n",
       "      <td>M ( 140-152 )</td>\n",
       "      <td>2018-02-14</td>\n",
       "    </tr>\n",
       "    <tr>\n",
       "      <th>12818</th>\n",
       "      <td>22873</td>\n",
       "      <td>L</td>\n",
       "      <td>2018-02-14</td>\n",
       "    </tr>\n",
       "    <tr>\n",
       "      <th>12819</th>\n",
       "      <td>22878</td>\n",
       "      <td>2XL</td>\n",
       "      <td>2018-02-14</td>\n",
       "    </tr>\n",
       "    <tr>\n",
       "      <th>12820</th>\n",
       "      <td>22878</td>\n",
       "      <td>L</td>\n",
       "      <td>2018-02-14</td>\n",
       "    </tr>\n",
       "    <tr>\n",
       "      <th>12821</th>\n",
       "      <td>22878</td>\n",
       "      <td>M</td>\n",
       "      <td>2018-02-14</td>\n",
       "    </tr>\n",
       "    <tr>\n",
       "      <th>12822</th>\n",
       "      <td>22878</td>\n",
       "      <td>XL</td>\n",
       "      <td>2018-02-14</td>\n",
       "    </tr>\n",
       "    <tr>\n",
       "      <th>12823</th>\n",
       "      <td>22881</td>\n",
       "      <td>S</td>\n",
       "      <td>2018-02-14</td>\n",
       "    </tr>\n",
       "  </tbody>\n",
       "</table>\n",
       "<p>12824 rows × 3 columns</p>\n",
       "</div>"
      ],
      "text/plain": [
       "         pid            size soldOutDate\n",
       "0      10000  XL ( 158-170 )  2018-02-14\n",
       "1      10001               L  2018-02-14\n",
       "2      10003      3 (35-38 )  2018-02-14\n",
       "3      10003     4 ( 39-42 )  2018-02-14\n",
       "4      10003     5 ( 43-46 )  2018-02-14\n",
       "5      10006              XL  2018-02-14\n",
       "6      10008              XL  2018-02-14\n",
       "7      10013               L  2018-02-14\n",
       "8      10013               M  2018-02-14\n",
       "9      10013               S  2018-02-14\n",
       "10     10015               L  2018-02-14\n",
       "11     10015               S  2018-02-14\n",
       "12     10017               L  2018-02-14\n",
       "13     10020              XL  2018-02-14\n",
       "14     10025             140  2018-02-14\n",
       "15     10030               M  2018-02-14\n",
       "16     10031              43  2018-02-14\n",
       "17     10031              44  2018-02-14\n",
       "18     10031              45  2018-02-14\n",
       "19     10035   L ( 152-158 )  2018-02-14\n",
       "20     10035  XL ( 158-170 )  2018-02-14\n",
       "21     10035  XS ( 116-128 )  2018-02-14\n",
       "22     10039              46  2018-02-14\n",
       "23     10042            37,5  2018-02-14\n",
       "24     10043               L  2018-02-14\n",
       "25     10043              XL  2018-02-14\n",
       "26     10046               L  2018-02-14\n",
       "27     10046               M  2018-02-14\n",
       "28     10046               S  2018-02-14\n",
       "29     10048              42  2018-02-14\n",
       "...      ...             ...         ...\n",
       "12794  22861  XL ( 158-170 )  2018-02-14\n",
       "12795  22863            38,5  2018-02-14\n",
       "12796  22863              40  2018-02-14\n",
       "12797  22864               M  2018-02-14\n",
       "12798  22866              42  2018-02-14\n",
       "12799  22866            42,5  2018-02-14\n",
       "12800  22866              43  2018-02-14\n",
       "12801  22866              44  2018-02-14\n",
       "12802  22866            44,5  2018-02-14\n",
       "12803  22866            45,5  2018-02-14\n",
       "12804  22869              39  2018-02-14\n",
       "12805  22869              40  2018-02-14\n",
       "12806  22869            40,5  2018-02-14\n",
       "12807  22869              41  2018-02-14\n",
       "12808  22869              42  2018-02-14\n",
       "12809  22869              43  2018-02-14\n",
       "12810  22869              44  2018-02-14\n",
       "12811  22869            44,5  2018-02-14\n",
       "12812  22869              45  2018-02-14\n",
       "12813  22869            45,5  2018-02-14\n",
       "12814  22869              46  2018-02-14\n",
       "12815  22869              47  2018-02-14\n",
       "12816  22869            47,5  2018-02-14\n",
       "12817  22872   M ( 140-152 )  2018-02-14\n",
       "12818  22873               L  2018-02-14\n",
       "12819  22878             2XL  2018-02-14\n",
       "12820  22878               L  2018-02-14\n",
       "12821  22878               M  2018-02-14\n",
       "12822  22878              XL  2018-02-14\n",
       "12823  22881               S  2018-02-14\n",
       "\n",
       "[12824 rows x 3 columns]"
      ]
     },
     "execution_count": 19,
     "metadata": {},
     "output_type": "execute_result"
    }
   ],
   "source": [
    "# Visualize the result in dataframe\n",
    "\n",
    "result = np.append(subItems, pred_date, axis=1)\n",
    "result_column =['key','pid','size','stock','soldOutDate']\n",
    "prediction_result = pd.DataFrame(result, columns=result_column)\n",
    "prediction_result =prediction_result[['pid','size','soldOutDate']]\n",
    "prediction_result"
   ]
  },
  {
   "cell_type": "code",
   "execution_count": 20,
   "metadata": {
    "collapsed": true
   },
   "outputs": [],
   "source": [
    "prediction_result.to_csv(\"/Users/effylu/Downloads/Team_1_solution.csv\", index=False, sep='|', encoding='ASCII')"
   ]
  },
  {
   "cell_type": "code",
   "execution_count": null,
   "metadata": {
    "collapsed": true
   },
   "outputs": [],
   "source": []
  }
 ],
 "metadata": {
  "kernelspec": {
   "display_name": "Python 3",
   "language": "python",
   "name": "python3"
  },
  "language_info": {
   "codemirror_mode": {
    "name": "ipython",
    "version": 3
   },
   "file_extension": ".py",
   "mimetype": "text/x-python",
   "name": "python",
   "nbconvert_exporter": "python",
   "pygments_lexer": "ipython3",
   "version": "3.6.4"
  }
 },
 "nbformat": 4,
 "nbformat_minor": 2
}
