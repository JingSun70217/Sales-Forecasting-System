{
 "cells": [
  {
   "cell_type": "markdown",
   "metadata": {},
   "source": [
    "# XGBoost\n",
    "\n",
    "Editor: Lu Lifei\n",
    "\n",
    "Test part: please check, thanks\n",
    "\n",
    "Evaluation part: hope one of our team members could check\n",
    "\n",
    "Model part: based on @Julian '2018_05_09_b_DM2_DMC_XGBoost.ipynb'"
   ]
  },
  {
   "cell_type": "markdown",
   "metadata": {},
   "source": [
    "## Model\n",
    "### 1. Import and load"
   ]
  },
  {
   "cell_type": "code",
   "execution_count": 25,
   "metadata": {
    "collapsed": true
   },
   "outputs": [],
   "source": [
    "import pandas as pd\n",
    "import numpy as np\n",
    "import pickle\n",
    "from xgboost import XGBRegressor\n",
    "from sklearn.metrics import mean_squared_error\n",
    "from math import sqrt"
   ]
  },
  {
   "cell_type": "code",
   "execution_count": 61,
   "metadata": {
    "collapsed": true
   },
   "outputs": [],
   "source": [
    "# Import cluster identifier\n",
    "\n",
    "sales = pd.read_csv('/Users/effylu/Downloads/data_v0.1_sales.csv')\n",
    "big_key = sales['key'][sales['cluster'] == \"big\"]"
   ]
  },
  {
   "cell_type": "code",
   "execution_count": 62,
   "metadata": {
    "collapsed": true
   },
   "outputs": [],
   "source": [
    "# Import datasets\n",
    "\n",
    "X_full = pickle.load(open('/Users/effylu/Downloads/XY_flat/X_flat.pkl', 'rb'))\n",
    "Y_full = pickle.load(open('/Users/effylu/Downloads/XY_flat/Y_flat.pkl', 'rb'))"
   ]
  },
  {
   "cell_type": "code",
   "execution_count": 63,
   "metadata": {
    "collapsed": true
   },
   "outputs": [],
   "source": [
    "#drop_cols = X_full.columns[12+14:12+14+14]\n",
    "#X_full = X_full.drop(drop_cols, axis=1)\n",
    "#print(X_full.columns)"
   ]
  },
  {
   "cell_type": "markdown",
   "metadata": {},
   "source": [
    "### 2. Prepare"
   ]
  },
  {
   "cell_type": "code",
   "execution_count": 64,
   "metadata": {
    "collapsed": true
   },
   "outputs": [],
   "source": [
    "# Find rows which belong to cluster 'big' in X_full\n",
    "\n",
    "X_full['key'] = X_full['key'].astype(str)\n",
    "X_big = X_full[X_full['key'].isin(big_key.astype(str))]\n",
    "X_big = X_big.reset_index(drop=True)"
   ]
  },
  {
   "cell_type": "code",
   "execution_count": 65,
   "metadata": {
    "collapsed": true,
    "scrolled": true
   },
   "outputs": [],
   "source": [
    "# Find rows which belong to cluster 'big' in Y_full\n",
    "\n",
    "Y_full['key'] = Y_full['key'].astype(str)\n",
    "Y_big = Y_full[Y_full['key'].isin(big_key.astype(str))]\n",
    "Y_big = Y_big.reset_index(drop=True)"
   ]
  },
  {
   "cell_type": "code",
   "execution_count": 66,
   "metadata": {
    "collapsed": true
   },
   "outputs": [],
   "source": [
    "# Split the X_big and Y_big into traing and test\n",
    "\n",
    "X_big['month'] = pd.DatetimeIndex(X_big['date']).month\n",
    "Y_big['month'] = pd.DatetimeIndex(Y_big['date']).month\n",
    "X_big_train = X_big.loc[X_big['month'] != 1]\n",
    "Y_train = Y_big.loc[Y_big['month'] != 1]['sales']\n",
    "X_big_test = X_big.loc[X_big['month'] == 1]\n",
    "Y_test = Y_big.loc[Y_big['month'] == 1]['sales']"
   ]
  },
  {
   "cell_type": "code",
   "execution_count": 67,
   "metadata": {},
   "outputs": [
    {
     "name": "stdout",
     "output_type": "stream",
     "text": [
      "Index(['last_1_day_sales', 'last_2_day_sales', 'last_3_day_sales',\n",
      "       'last_4_day_sales', 'last_5_day_sales', 'last_6_day_sales',\n",
      "       'last_7_day_sales', 'last_8_day_sales', 'last_9_day_sales',\n",
      "       'last_10_day_sales', 'last_11_day_sales', 'last_12_day_sales',\n",
      "       'last_13_day_sales', 'last_14_day_sales', 'last_15_day_sales',\n",
      "       'last_16_day_sales', 'last_17_day_sales', 'last_18_day_sales',\n",
      "       'last_19_day_sales', 'last_20_day_sales', 'last_21_day_sales',\n",
      "       'last_22_day_sales', 'last_23_day_sales', 'last_24_day_sales',\n",
      "       'last_25_day_sales', 'last_26_day_sales', 'last_27_day_sales',\n",
      "       'last_28_day_sales', 'is_eleventh', 'is_crazy_day', 'day_Friday',\n",
      "       'day_Monday', 'day_Saturday', 'day_Sunday', 'day_Thursday',\n",
      "       'day_Tuesday', 'day_Wednesday', 'days_since_release', 'price_diff',\n",
      "       'color_beige', 'color_blau', 'color_braun', 'color_gelb', 'color_gold',\n",
      "       'color_grau', 'color_gruen', 'color_khaki', 'color_lila',\n",
      "       'color_orange', 'color_pink', 'color_rosa', 'color_rot',\n",
      "       'color_schwarz', 'color_silber', 'color_tuerkis', 'color_weiss',\n",
      "       'brand_Asics', 'brand_Cinquestelle', 'brand_Converse', 'brand_Diadora',\n",
      "       'brand_Erima', 'brand_FREAM', 'brand_Hummel', 'brand_Jako',\n",
      "       'brand_Jordan', 'brand_KangaROOS', 'brand_Kempa', 'brand_Lotto',\n",
      "       'brand_Mizuno', 'brand_New Balance', 'brand_Nike', 'brand_Onitsuka',\n",
      "       'brand_PUMA', 'brand_Reebok', 'brand_Reusch', 'brand_Sells',\n",
      "       'brand_Sport2000', 'brand_Stance', 'brand_Uhlsport',\n",
      "       'brand_Under Armour', 'brand_adidas', 'maincat_1', 'maincat_9',\n",
      "       'maincat_15', 'cat_2', 'cat_7', 'cat_10', 'cat_16', 'cat_18', 'cat_24',\n",
      "       'cat_30', 'cat_33', 'cat_36', 'cat_37', 'marketing_activity'],\n",
      "      dtype='object')\n"
     ]
    }
   ],
   "source": [
    "# Prepare the data for fitting the input of the model\n",
    "\n",
    "drop_x_cols = ['key', 'pid_x', 'size_x', 'color', 'brand', 'rrp', 'date', 'day_of_week', \n",
    "               'mainCategory', 'category', 'subCategory', 'releaseDate', \n",
    "               'rrp', 'price', 'month']\n",
    "X_train = X_big_train.drop(drop_x_cols, axis=1)\n",
    "X_test = X_big_test.drop(drop_x_cols, axis=1)\n",
    "print(X_train.columns)\n",
    "X_train = X_train.as_matrix()\n",
    "X_train = np.delete(X_train, np.s_[14:28], axis=1)\n",
    "Y_train = Y_train.as_matrix()\n",
    "X_test = X_test.as_matrix()\n",
    "X_test = np.delete(X_test, np.s_[14:28], axis=1)\n",
    "Y_test = Y_test.as_matrix()"
   ]
  },
  {
   "cell_type": "code",
   "execution_count": 68,
   "metadata": {},
   "outputs": [
    {
     "data": {
      "text/plain": [
       "(90117, 81)"
      ]
     },
     "execution_count": 68,
     "metadata": {},
     "output_type": "execute_result"
    }
   ],
   "source": [
    "X_test.shape"
   ]
  },
  {
   "cell_type": "markdown",
   "metadata": {},
   "source": [
    "### 3. Train model"
   ]
  },
  {
   "cell_type": "code",
   "execution_count": 69,
   "metadata": {},
   "outputs": [
    {
     "data": {
      "text/plain": [
       "XGBRegressor(base_score=0.5, booster='gbtree', colsample_bylevel=1,\n",
       "       colsample_bytree=1, gamma=0, learning_rate=0.1, max_delta_step=0,\n",
       "       max_depth=3, min_child_weight=1, missing=None, n_estimators=100,\n",
       "       n_jobs=1, nthread=None, objective='reg:linear', random_state=0,\n",
       "       reg_alpha=0, reg_lambda=1, scale_pos_weight=1, seed=None,\n",
       "       silent=True, subsample=1)"
      ]
     },
     "execution_count": 69,
     "metadata": {},
     "output_type": "execute_result"
    }
   ],
   "source": [
    "# Training the model\n",
    "\n",
    "model = XGBRegressor()\n",
    "model.fit(X_train, Y_train)"
   ]
  },
  {
   "cell_type": "markdown",
   "metadata": {},
   "source": [
    "## Test"
   ]
  },
  {
   "cell_type": "code",
   "execution_count": 70,
   "metadata": {},
   "outputs": [
    {
     "name": "stdout",
     "output_type": "stream",
     "text": [
      "[[ 0.  0.  0. ...,  0.  0.  0.]\n",
      " [ 0.  0.  0. ...,  0.  0.  0.]\n",
      " [ 0.  0.  2. ...,  0.  0.  0.]\n",
      " ..., \n",
      " [ 0.  0.  0. ...,  0.  0.  0.]\n",
      " [ 0.  0.  0. ...,  0.  0.  0.]\n",
      " [ 3.  0.  0. ...,  0.  0.  0.]]\n"
     ]
    }
   ],
   "source": [
    "# Test the model\n",
    "# Only the sale unit of the first day for each item is right int the 'X_test'\n",
    "# Select the row 'on Jan 1st'\n",
    "\n",
    "X_Jan1 = X_test[0:1,:]\n",
    "for i in range(int(len(X_test)/31-1)):\n",
    "    X_Jan1 = np.vstack([X_Jan1, X_test[(31+i*31):(32+i*31),:]])\n",
    "print(X_Jan1)"
   ]
  },
  {
   "cell_type": "code",
   "execution_count": 71,
   "metadata": {},
   "outputs": [
    {
     "name": "stdout",
     "output_type": "stream",
     "text": [
      "(2907, 81)\n"
     ]
    }
   ],
   "source": [
    "print(X_Jan1.shape)"
   ]
  },
  {
   "cell_type": "code",
   "execution_count": 72,
   "metadata": {},
   "outputs": [
    {
     "name": "stdout",
     "output_type": "stream",
     "text": [
      "[[ 0.]\n",
      " [ 0.]\n",
      " [ 0.]\n",
      " ..., \n",
      " [ 0.]\n",
      " [ 0.]\n",
      " [ 1.]]\n"
     ]
    }
   ],
   "source": [
    "# Predict the sales unit 'on Jan 1st' for each items\n",
    "# Change the format of the prediction results on Jan_1st\n",
    "\n",
    "Y_Jan1 = model.predict(X_Jan1)\n",
    "prediction_1 = np.asarray([round(value) for value in Y_Jan1])\n",
    "prediction_1 = np.reshape(prediction_1, (len(prediction_1),1))\n",
    "print(prediction_1)"
   ]
  },
  {
   "cell_type": "code",
   "execution_count": 73,
   "metadata": {},
   "outputs": [
    {
     "name": "stdout",
     "output_type": "stream",
     "text": [
      "[[ 0.  0.  0. ...,  0.  0.  0.]\n",
      " [ 0.  0.  0. ...,  0.  0.  0.]\n",
      " [ 0.  0.  0. ...,  0.  0.  0.]\n",
      " ..., \n",
      " [ 0.  0.  0. ...,  0.  0.  0.]\n",
      " [ 0.  0.  0. ...,  0.  0.  0.]\n",
      " [ 1.  3.  0. ...,  0.  0.  0.]]\n"
     ]
    }
   ],
   "source": [
    "# Delete the 'last_28_day_sales'\n",
    "# Add the prediction results as the 'last_1_day_sales'\n",
    "\n",
    "X_Jan = X_Jan1\n",
    "X_Jan = np.delete(X_Jan, np.s_[13:14], axis=1)\n",
    "X_Jan = np.append(prediction_1, X_Jan, axis=1)\n",
    "print(X_Jan)"
   ]
  },
  {
   "cell_type": "code",
   "execution_count": 74,
   "metadata": {},
   "outputs": [
    {
     "name": "stdout",
     "output_type": "stream",
     "text": [
      "[[ 0.  0.  0. ...,  0.  0.  0.]\n",
      " [ 0.  0.  0. ...,  0.  0.  0.]\n",
      " [ 0.  0.  0. ...,  0.  0.  0.]\n",
      " ..., \n",
      " [ 0.  0.  0. ...,  0.  0.  0.]\n",
      " [ 0.  0.  0. ...,  0.  0.  0.]\n",
      " [ 1.  1.  1. ...,  0.  0.  0.]]\n"
     ]
    }
   ],
   "source": [
    "# Add the process above into a loop\n",
    "# Predict the sales units eery day in January for each item\n",
    "\n",
    "predictions = prediction_1\n",
    "for i in range(30):\n",
    "    Y_Jan = model.predict(X_Jan)\n",
    "    prediction = np.asarray([round(value) for value in Y_Jan])\n",
    "    prediction = np.reshape(prediction, (len(prediction),1))\n",
    "    predictions = np.append(predictions, prediction, axis=1)\n",
    "    X_Jan = np.delete(X_Jan, np.s_[13:14], axis=1)\n",
    "    X_Jan = np.append(prediction, X_Jan, axis=1)\n",
    "print(predictions)"
   ]
  },
  {
   "cell_type": "markdown",
   "metadata": {},
   "source": [
    "## Evaluation"
   ]
  },
  {
   "cell_type": "markdown",
   "metadata": {},
   "source": [
    "### 1. Restructure the predictions"
   ]
  },
  {
   "cell_type": "code",
   "execution_count": 75,
   "metadata": {
    "collapsed": true,
    "scrolled": false
   },
   "outputs": [],
   "source": [
    "# Reshape predictions: row ->'big' items, columns -> date\n",
    "\n",
    "column_name = X_big_test['date'].unique().astype(str)\n",
    "row_name = X_big_test['key'].unique().astype(str)"
   ]
  },
  {
   "cell_type": "code",
   "execution_count": 76,
   "metadata": {},
   "outputs": [
    {
     "name": "stdout",
     "output_type": "stream",
     "text": [
      "[[ 0.  0.  0. ...,  0.  0.  0.]\n",
      " [ 0.  0.  0. ...,  0.  0.  0.]\n",
      " [ 0.  0.  0. ...,  0.  0.  0.]\n",
      " ..., \n",
      " [ 0.  0.  0. ...,  0.  0.  0.]\n",
      " [ 0.  0.  0. ...,  0.  0.  0.]\n",
      " [ 1.  2.  3. ...,  3.  3.  3.]]\n"
     ]
    }
   ],
   "source": [
    "# Aggregate sales for each day each item.\n",
    "\n",
    "pred_agg = predictions\n",
    "agg_sum = predictions[:,0]\n",
    "for i in range(len(column_name)-1):\n",
    "    agg_sum = pred_agg[:,i] + predictions[:, i+1]\n",
    "    pred_agg[:, i+1] = agg_sum\n",
    "print(pred_agg)"
   ]
  },
  {
   "cell_type": "markdown",
   "metadata": {},
   "source": [
    "### 2. Test_0.csv\n",
    "#### 2.1. Prepare "
   ]
  },
  {
   "cell_type": "code",
   "execution_count": 77,
   "metadata": {
    "collapsed": true
   },
   "outputs": [],
   "source": [
    "# Load the test data\n",
    "\n",
    "test_0 = pd.read_csv('/Users/effylu/Downloads/test_0.csv')"
   ]
  },
  {
   "cell_type": "code",
   "execution_count": 78,
   "metadata": {
    "scrolled": true
   },
   "outputs": [
    {
     "name": "stdout",
     "output_type": "stream",
     "text": [
      "[['10063L' 1.0 '2018-01-12']\n",
      " ['10063M' 8.0 '2018-01-26']\n",
      " ['10063XL' 1.0 '2018-01-03']\n",
      " ..., \n",
      " ['2286944' 2.0 '2018-01-31']\n",
      " ['2286945' 2.0 '2018-01-25']\n",
      " ['22872M ( 140-152 )' 4.0 '2018-01-25']]\n"
     ]
    }
   ],
   "source": [
    "# Add 'key' for test data by merging 'pid' and 'size'\n",
    "# Select useful attributes\n",
    "\n",
    "test_0[\"key\"] = test_0[\"pid\"].map(int).map(str) + test_0[\"size\"]\n",
    "test_0_big = test_0.loc[test_0['key'].isin(row_name)]\n",
    "subtest_0_big = test_0_big[['key','stock','sold_out_date']]\n",
    "test = np.asarray(subtest_0_big)\n",
    "print(test)"
   ]
  },
  {
   "cell_type": "markdown",
   "metadata": {},
   "source": [
    "#### 2.2. Match the 'test' with the 'pred_agg'"
   ]
  },
  {
   "cell_type": "code",
   "execution_count": 79,
   "metadata": {
    "collapsed": true
   },
   "outputs": [],
   "source": [
    "# Define arrays for storing the predicted day and date\n",
    "\n",
    "pred_day = np.zeros((len(test),1), dtype=int)\n",
    "pred_date = np.asarray(test_0_big[['sold_out_date']])\n",
    "\n",
    "for i in range(len(test)):\n",
    "    \n",
    "    # 'key' is the key for each test item\n",
    "    key = test[i,0]\n",
    "    # Find the index of the item in predictions sharing the same key\n",
    "    index = 0\n",
    "    \n",
    "    # Match the items in 'test' with the items in 'pred_agg'\n",
    "    # Retern the index of the item in the 'pred_agg'\n",
    "    for j in range(len(row_name)):\n",
    "        if row_name[j] == key:\n",
    "            index = j\n",
    "            break\n",
    "\n",
    "    # Match\n",
    "    if test[i,1] < pred_agg[index,0]:\n",
    "        pred_day[i,0] = 1\n",
    "        pred_date[i,0] = column_name[0]\n",
    "        continue\n",
    "    if test[i,1] > pred_agg[index,30]:\n",
    "        pred_day[i,0] = 15\n",
    "        pred_date[i,0] = column_name[14]\n",
    "        continue\n",
    "    for k in range(len(pred_agg[0])):\n",
    "        if pred_agg[index,k] - test[i,1] >=0:\n",
    "            pred_day[i,0] = k+1\n",
    "            pred_date[i,0] = column_name[k]\n",
    "            break"
   ]
  },
  {
   "cell_type": "markdown",
   "metadata": {},
   "source": [
    "#### 2.3. Error Calculation"
   ]
  },
  {
   "cell_type": "code",
   "execution_count": 80,
   "metadata": {},
   "outputs": [
    {
     "name": "stdout",
     "output_type": "stream",
     "text": [
      "[[12]\n",
      " [26]\n",
      " [ 3]\n",
      " ..., \n",
      " [31]\n",
      " [25]\n",
      " [25]]\n"
     ]
    }
   ],
   "source": [
    "# Find the day of the real sold out date\n",
    "\n",
    "day = [i[-2:] for i in test[:,2].tolist()]\n",
    "real_day = np.reshape(np.asarray(list(map(int,day))), (len(test),1))\n",
    "print(real_day)"
   ]
  },
  {
   "cell_type": "code",
   "execution_count": 81,
   "metadata": {
    "scrolled": true
   },
   "outputs": [
    {
     "name": "stdout",
     "output_type": "stream",
     "text": [
      "[[15]\n",
      " [15]\n",
      " [15]\n",
      " ..., \n",
      " [15]\n",
      " [15]\n",
      " [15]]\n"
     ]
    }
   ],
   "source": [
    "# Show the predicted sold out date\n",
    "\n",
    "print(pred_day)"
   ]
  },
  {
   "cell_type": "code",
   "execution_count": 82,
   "metadata": {},
   "outputs": [
    {
     "name": "stdout",
     "output_type": "stream",
     "text": [
      "142.57980221616245\n"
     ]
    }
   ],
   "source": [
    "# Error calculation\n",
    "\n",
    "error = sqrt(np.sum(np.abs(np.subtract(pred_day, real_day))))\n",
    "print(error)"
   ]
  },
  {
   "cell_type": "markdown",
   "metadata": {},
   "source": [
    "#### 2.4. Visualize result"
   ]
  },
  {
   "cell_type": "code",
   "execution_count": 83,
   "metadata": {
    "scrolled": false
   },
   "outputs": [
    {
     "data": {
      "text/html": [
       "<div>\n",
       "<style scoped>\n",
       "    .dataframe tbody tr th:only-of-type {\n",
       "        vertical-align: middle;\n",
       "    }\n",
       "\n",
       "    .dataframe tbody tr th {\n",
       "        vertical-align: top;\n",
       "    }\n",
       "\n",
       "    .dataframe thead th {\n",
       "        text-align: right;\n",
       "    }\n",
       "</style>\n",
       "<table border=\"1\" class=\"dataframe\">\n",
       "  <thead>\n",
       "    <tr style=\"text-align: right;\">\n",
       "      <th></th>\n",
       "      <th>key</th>\n",
       "      <th>stock</th>\n",
       "      <th>real_sold_out_day</th>\n",
       "      <th>predicted_sold_out_day</th>\n",
       "    </tr>\n",
       "  </thead>\n",
       "  <tbody>\n",
       "    <tr>\n",
       "      <th>0</th>\n",
       "      <td>10063L</td>\n",
       "      <td>1</td>\n",
       "      <td>2018-01-12</td>\n",
       "      <td>2018-01-15</td>\n",
       "    </tr>\n",
       "    <tr>\n",
       "      <th>1</th>\n",
       "      <td>10063M</td>\n",
       "      <td>8</td>\n",
       "      <td>2018-01-26</td>\n",
       "      <td>2018-01-15</td>\n",
       "    </tr>\n",
       "    <tr>\n",
       "      <th>2</th>\n",
       "      <td>10063XL</td>\n",
       "      <td>1</td>\n",
       "      <td>2018-01-03</td>\n",
       "      <td>2018-01-15</td>\n",
       "    </tr>\n",
       "    <tr>\n",
       "      <th>3</th>\n",
       "      <td>100652 ( 37-39 )</td>\n",
       "      <td>20</td>\n",
       "      <td>2018-01-24</td>\n",
       "      <td>2018-01-15</td>\n",
       "    </tr>\n",
       "    <tr>\n",
       "      <th>4</th>\n",
       "      <td>100654 ( 43-45 )</td>\n",
       "      <td>3</td>\n",
       "      <td>2018-01-18</td>\n",
       "      <td>2018-01-15</td>\n",
       "    </tr>\n",
       "    <tr>\n",
       "      <th>5</th>\n",
       "      <td>10073L ( 40/42 )</td>\n",
       "      <td>9</td>\n",
       "      <td>2018-01-04</td>\n",
       "      <td>2018-01-15</td>\n",
       "    </tr>\n",
       "    <tr>\n",
       "      <th>6</th>\n",
       "      <td>10073XL ( 44/46 )</td>\n",
       "      <td>1</td>\n",
       "      <td>2018-01-01</td>\n",
       "      <td>2018-01-15</td>\n",
       "    </tr>\n",
       "    <tr>\n",
       "      <th>7</th>\n",
       "      <td>10084M</td>\n",
       "      <td>3</td>\n",
       "      <td>2018-01-30</td>\n",
       "      <td>2018-01-15</td>\n",
       "    </tr>\n",
       "    <tr>\n",
       "      <th>8</th>\n",
       "      <td>1011944 2/3</td>\n",
       "      <td>2</td>\n",
       "      <td>2018-01-26</td>\n",
       "      <td>2018-01-15</td>\n",
       "    </tr>\n",
       "    <tr>\n",
       "      <th>9</th>\n",
       "      <td>1011945 1/3</td>\n",
       "      <td>3</td>\n",
       "      <td>2018-01-31</td>\n",
       "      <td>2018-01-15</td>\n",
       "    </tr>\n",
       "    <tr>\n",
       "      <th>10</th>\n",
       "      <td>10125L</td>\n",
       "      <td>3</td>\n",
       "      <td>2018-01-03</td>\n",
       "      <td>2018-01-15</td>\n",
       "    </tr>\n",
       "    <tr>\n",
       "      <th>11</th>\n",
       "      <td>10125M</td>\n",
       "      <td>2</td>\n",
       "      <td>2018-01-07</td>\n",
       "      <td>2018-01-15</td>\n",
       "    </tr>\n",
       "    <tr>\n",
       "      <th>12</th>\n",
       "      <td>10125S</td>\n",
       "      <td>6</td>\n",
       "      <td>2018-01-22</td>\n",
       "      <td>2018-01-15</td>\n",
       "    </tr>\n",
       "    <tr>\n",
       "      <th>13</th>\n",
       "      <td>10125XL</td>\n",
       "      <td>1</td>\n",
       "      <td>2018-01-07</td>\n",
       "      <td>2018-01-15</td>\n",
       "    </tr>\n",
       "    <tr>\n",
       "      <th>14</th>\n",
       "      <td>10157L</td>\n",
       "      <td>1</td>\n",
       "      <td>2018-01-31</td>\n",
       "      <td>2018-01-15</td>\n",
       "    </tr>\n",
       "    <tr>\n",
       "      <th>15</th>\n",
       "      <td>10157M</td>\n",
       "      <td>1</td>\n",
       "      <td>2018-01-01</td>\n",
       "      <td>2018-01-15</td>\n",
       "    </tr>\n",
       "    <tr>\n",
       "      <th>16</th>\n",
       "      <td>10158L</td>\n",
       "      <td>2</td>\n",
       "      <td>2018-01-19</td>\n",
       "      <td>2018-01-15</td>\n",
       "    </tr>\n",
       "    <tr>\n",
       "      <th>17</th>\n",
       "      <td>10158M</td>\n",
       "      <td>8</td>\n",
       "      <td>2018-01-17</td>\n",
       "      <td>2018-01-15</td>\n",
       "    </tr>\n",
       "    <tr>\n",
       "      <th>18</th>\n",
       "      <td>10164L ( 152-158 )</td>\n",
       "      <td>1</td>\n",
       "      <td>2018-01-05</td>\n",
       "      <td>2018-01-15</td>\n",
       "    </tr>\n",
       "    <tr>\n",
       "      <th>19</th>\n",
       "      <td>10164M ( 140-152 )</td>\n",
       "      <td>4</td>\n",
       "      <td>2018-01-07</td>\n",
       "      <td>2018-01-15</td>\n",
       "    </tr>\n",
       "    <tr>\n",
       "      <th>20</th>\n",
       "      <td>10164XL ( 158-170 )</td>\n",
       "      <td>6</td>\n",
       "      <td>2018-01-28</td>\n",
       "      <td>2018-01-15</td>\n",
       "    </tr>\n",
       "    <tr>\n",
       "      <th>21</th>\n",
       "      <td>10167M</td>\n",
       "      <td>2</td>\n",
       "      <td>2018-01-31</td>\n",
       "      <td>2018-01-15</td>\n",
       "    </tr>\n",
       "    <tr>\n",
       "      <th>22</th>\n",
       "      <td>10167S</td>\n",
       "      <td>1</td>\n",
       "      <td>2018-01-21</td>\n",
       "      <td>2018-01-15</td>\n",
       "    </tr>\n",
       "    <tr>\n",
       "      <th>23</th>\n",
       "      <td>101693 ( 40-42 )</td>\n",
       "      <td>5</td>\n",
       "      <td>2018-01-16</td>\n",
       "      <td>2018-01-15</td>\n",
       "    </tr>\n",
       "    <tr>\n",
       "      <th>24</th>\n",
       "      <td>101694 ( 43-45 )</td>\n",
       "      <td>15</td>\n",
       "      <td>2018-01-18</td>\n",
       "      <td>2018-01-15</td>\n",
       "    </tr>\n",
       "    <tr>\n",
       "      <th>25</th>\n",
       "      <td>101695 ( 46-48 )</td>\n",
       "      <td>8</td>\n",
       "      <td>2018-01-30</td>\n",
       "      <td>2018-01-15</td>\n",
       "    </tr>\n",
       "    <tr>\n",
       "      <th>26</th>\n",
       "      <td>10170L ( 42-46 )</td>\n",
       "      <td>12</td>\n",
       "      <td>2018-01-18</td>\n",
       "      <td>2018-01-12</td>\n",
       "    </tr>\n",
       "    <tr>\n",
       "      <th>27</th>\n",
       "      <td>10170M ( 38-42 )</td>\n",
       "      <td>1</td>\n",
       "      <td>2018-01-06</td>\n",
       "      <td>2018-01-15</td>\n",
       "    </tr>\n",
       "    <tr>\n",
       "      <th>28</th>\n",
       "      <td>10197L ( 42-46 )</td>\n",
       "      <td>8</td>\n",
       "      <td>2018-01-03</td>\n",
       "      <td>2018-01-05</td>\n",
       "    </tr>\n",
       "    <tr>\n",
       "      <th>29</th>\n",
       "      <td>10197M ( 38-42 )</td>\n",
       "      <td>15</td>\n",
       "      <td>2018-01-12</td>\n",
       "      <td>2018-01-15</td>\n",
       "    </tr>\n",
       "    <tr>\n",
       "      <th>...</th>\n",
       "      <td>...</td>\n",
       "      <td>...</td>\n",
       "      <td>...</td>\n",
       "      <td>...</td>\n",
       "    </tr>\n",
       "    <tr>\n",
       "      <th>2607</th>\n",
       "      <td>22717M</td>\n",
       "      <td>4</td>\n",
       "      <td>2018-01-06</td>\n",
       "      <td>2018-01-04</td>\n",
       "    </tr>\n",
       "    <tr>\n",
       "      <th>2608</th>\n",
       "      <td>22717S</td>\n",
       "      <td>1</td>\n",
       "      <td>2018-01-01</td>\n",
       "      <td>2018-01-15</td>\n",
       "    </tr>\n",
       "    <tr>\n",
       "      <th>2609</th>\n",
       "      <td>22717XL</td>\n",
       "      <td>1</td>\n",
       "      <td>2018-01-02</td>\n",
       "      <td>2018-01-15</td>\n",
       "    </tr>\n",
       "    <tr>\n",
       "      <th>2610</th>\n",
       "      <td>22722XL ( 158-170 )</td>\n",
       "      <td>1</td>\n",
       "      <td>2018-01-30</td>\n",
       "      <td>2018-01-15</td>\n",
       "    </tr>\n",
       "    <tr>\n",
       "      <th>2611</th>\n",
       "      <td>22739140</td>\n",
       "      <td>1</td>\n",
       "      <td>2018-01-02</td>\n",
       "      <td>2018-01-15</td>\n",
       "    </tr>\n",
       "    <tr>\n",
       "      <th>2612</th>\n",
       "      <td>22739152</td>\n",
       "      <td>1</td>\n",
       "      <td>2018-01-02</td>\n",
       "      <td>2018-01-15</td>\n",
       "    </tr>\n",
       "    <tr>\n",
       "      <th>2613</th>\n",
       "      <td>227582XL</td>\n",
       "      <td>1</td>\n",
       "      <td>2018-01-03</td>\n",
       "      <td>2018-01-15</td>\n",
       "    </tr>\n",
       "    <tr>\n",
       "      <th>2614</th>\n",
       "      <td>22758L</td>\n",
       "      <td>1</td>\n",
       "      <td>2018-01-04</td>\n",
       "      <td>2018-01-15</td>\n",
       "    </tr>\n",
       "    <tr>\n",
       "      <th>2615</th>\n",
       "      <td>22758S</td>\n",
       "      <td>18</td>\n",
       "      <td>2018-01-14</td>\n",
       "      <td>2018-01-09</td>\n",
       "    </tr>\n",
       "    <tr>\n",
       "      <th>2616</th>\n",
       "      <td>22758XL</td>\n",
       "      <td>2</td>\n",
       "      <td>2018-01-02</td>\n",
       "      <td>2018-01-01</td>\n",
       "    </tr>\n",
       "    <tr>\n",
       "      <th>2617</th>\n",
       "      <td>22760M</td>\n",
       "      <td>24</td>\n",
       "      <td>2018-01-31</td>\n",
       "      <td>2018-01-15</td>\n",
       "    </tr>\n",
       "    <tr>\n",
       "      <th>2618</th>\n",
       "      <td>22760S</td>\n",
       "      <td>2</td>\n",
       "      <td>2018-01-09</td>\n",
       "      <td>2018-01-15</td>\n",
       "    </tr>\n",
       "    <tr>\n",
       "      <th>2619</th>\n",
       "      <td>22779164</td>\n",
       "      <td>1</td>\n",
       "      <td>2018-01-01</td>\n",
       "      <td>2018-01-15</td>\n",
       "    </tr>\n",
       "    <tr>\n",
       "      <th>2620</th>\n",
       "      <td>2280343 1/3</td>\n",
       "      <td>1</td>\n",
       "      <td>2018-01-14</td>\n",
       "      <td>2018-01-15</td>\n",
       "    </tr>\n",
       "    <tr>\n",
       "      <th>2621</th>\n",
       "      <td>2280344</td>\n",
       "      <td>2</td>\n",
       "      <td>2018-01-24</td>\n",
       "      <td>2018-01-15</td>\n",
       "    </tr>\n",
       "    <tr>\n",
       "      <th>2622</th>\n",
       "      <td>22813M</td>\n",
       "      <td>1</td>\n",
       "      <td>2018-01-17</td>\n",
       "      <td>2018-01-15</td>\n",
       "    </tr>\n",
       "    <tr>\n",
       "      <th>2623</th>\n",
       "      <td>22822M</td>\n",
       "      <td>1</td>\n",
       "      <td>2018-01-09</td>\n",
       "      <td>2018-01-15</td>\n",
       "    </tr>\n",
       "    <tr>\n",
       "      <th>2624</th>\n",
       "      <td>22823L</td>\n",
       "      <td>1</td>\n",
       "      <td>2018-01-12</td>\n",
       "      <td>2018-01-15</td>\n",
       "    </tr>\n",
       "    <tr>\n",
       "      <th>2625</th>\n",
       "      <td>22823M</td>\n",
       "      <td>2</td>\n",
       "      <td>2018-01-17</td>\n",
       "      <td>2018-01-15</td>\n",
       "    </tr>\n",
       "    <tr>\n",
       "      <th>2626</th>\n",
       "      <td>22823XL</td>\n",
       "      <td>1</td>\n",
       "      <td>2018-01-29</td>\n",
       "      <td>2018-01-15</td>\n",
       "    </tr>\n",
       "    <tr>\n",
       "      <th>2627</th>\n",
       "      <td>228422XL</td>\n",
       "      <td>11</td>\n",
       "      <td>2018-01-18</td>\n",
       "      <td>2018-01-15</td>\n",
       "    </tr>\n",
       "    <tr>\n",
       "      <th>2628</th>\n",
       "      <td>22842L</td>\n",
       "      <td>220</td>\n",
       "      <td>2018-01-28</td>\n",
       "      <td>2018-01-15</td>\n",
       "    </tr>\n",
       "    <tr>\n",
       "      <th>2629</th>\n",
       "      <td>22842M</td>\n",
       "      <td>28</td>\n",
       "      <td>2018-01-13</td>\n",
       "      <td>2018-01-20</td>\n",
       "    </tr>\n",
       "    <tr>\n",
       "      <th>2630</th>\n",
       "      <td>22842S</td>\n",
       "      <td>18</td>\n",
       "      <td>2018-01-31</td>\n",
       "      <td>2018-01-15</td>\n",
       "    </tr>\n",
       "    <tr>\n",
       "      <th>2631</th>\n",
       "      <td>22842XL</td>\n",
       "      <td>10</td>\n",
       "      <td>2018-01-08</td>\n",
       "      <td>2018-01-15</td>\n",
       "    </tr>\n",
       "    <tr>\n",
       "      <th>2632</th>\n",
       "      <td>22842XS</td>\n",
       "      <td>4</td>\n",
       "      <td>2018-01-29</td>\n",
       "      <td>2018-01-15</td>\n",
       "    </tr>\n",
       "    <tr>\n",
       "      <th>2633</th>\n",
       "      <td>2286943</td>\n",
       "      <td>3</td>\n",
       "      <td>2018-01-31</td>\n",
       "      <td>2018-01-15</td>\n",
       "    </tr>\n",
       "    <tr>\n",
       "      <th>2634</th>\n",
       "      <td>2286944</td>\n",
       "      <td>2</td>\n",
       "      <td>2018-01-31</td>\n",
       "      <td>2018-01-15</td>\n",
       "    </tr>\n",
       "    <tr>\n",
       "      <th>2635</th>\n",
       "      <td>2286945</td>\n",
       "      <td>2</td>\n",
       "      <td>2018-01-25</td>\n",
       "      <td>2018-01-15</td>\n",
       "    </tr>\n",
       "    <tr>\n",
       "      <th>2636</th>\n",
       "      <td>22872M ( 140-152 )</td>\n",
       "      <td>4</td>\n",
       "      <td>2018-01-25</td>\n",
       "      <td>2018-01-15</td>\n",
       "    </tr>\n",
       "  </tbody>\n",
       "</table>\n",
       "<p>2637 rows × 4 columns</p>\n",
       "</div>"
      ],
      "text/plain": [
       "                      key stock real_sold_out_day predicted_sold_out_day\n",
       "0                  10063L     1        2018-01-12             2018-01-15\n",
       "1                  10063M     8        2018-01-26             2018-01-15\n",
       "2                 10063XL     1        2018-01-03             2018-01-15\n",
       "3        100652 ( 37-39 )    20        2018-01-24             2018-01-15\n",
       "4        100654 ( 43-45 )     3        2018-01-18             2018-01-15\n",
       "5        10073L ( 40/42 )     9        2018-01-04             2018-01-15\n",
       "6       10073XL ( 44/46 )     1        2018-01-01             2018-01-15\n",
       "7                  10084M     3        2018-01-30             2018-01-15\n",
       "8             1011944 2/3     2        2018-01-26             2018-01-15\n",
       "9             1011945 1/3     3        2018-01-31             2018-01-15\n",
       "10                 10125L     3        2018-01-03             2018-01-15\n",
       "11                 10125M     2        2018-01-07             2018-01-15\n",
       "12                 10125S     6        2018-01-22             2018-01-15\n",
       "13                10125XL     1        2018-01-07             2018-01-15\n",
       "14                 10157L     1        2018-01-31             2018-01-15\n",
       "15                 10157M     1        2018-01-01             2018-01-15\n",
       "16                 10158L     2        2018-01-19             2018-01-15\n",
       "17                 10158M     8        2018-01-17             2018-01-15\n",
       "18     10164L ( 152-158 )     1        2018-01-05             2018-01-15\n",
       "19     10164M ( 140-152 )     4        2018-01-07             2018-01-15\n",
       "20    10164XL ( 158-170 )     6        2018-01-28             2018-01-15\n",
       "21                 10167M     2        2018-01-31             2018-01-15\n",
       "22                 10167S     1        2018-01-21             2018-01-15\n",
       "23       101693 ( 40-42 )     5        2018-01-16             2018-01-15\n",
       "24       101694 ( 43-45 )    15        2018-01-18             2018-01-15\n",
       "25       101695 ( 46-48 )     8        2018-01-30             2018-01-15\n",
       "26       10170L ( 42-46 )    12        2018-01-18             2018-01-12\n",
       "27       10170M ( 38-42 )     1        2018-01-06             2018-01-15\n",
       "28       10197L ( 42-46 )     8        2018-01-03             2018-01-05\n",
       "29       10197M ( 38-42 )    15        2018-01-12             2018-01-15\n",
       "...                   ...   ...               ...                    ...\n",
       "2607               22717M     4        2018-01-06             2018-01-04\n",
       "2608               22717S     1        2018-01-01             2018-01-15\n",
       "2609              22717XL     1        2018-01-02             2018-01-15\n",
       "2610  22722XL ( 158-170 )     1        2018-01-30             2018-01-15\n",
       "2611             22739140     1        2018-01-02             2018-01-15\n",
       "2612             22739152     1        2018-01-02             2018-01-15\n",
       "2613             227582XL     1        2018-01-03             2018-01-15\n",
       "2614               22758L     1        2018-01-04             2018-01-15\n",
       "2615               22758S    18        2018-01-14             2018-01-09\n",
       "2616              22758XL     2        2018-01-02             2018-01-01\n",
       "2617               22760M    24        2018-01-31             2018-01-15\n",
       "2618               22760S     2        2018-01-09             2018-01-15\n",
       "2619             22779164     1        2018-01-01             2018-01-15\n",
       "2620          2280343 1/3     1        2018-01-14             2018-01-15\n",
       "2621              2280344     2        2018-01-24             2018-01-15\n",
       "2622               22813M     1        2018-01-17             2018-01-15\n",
       "2623               22822M     1        2018-01-09             2018-01-15\n",
       "2624               22823L     1        2018-01-12             2018-01-15\n",
       "2625               22823M     2        2018-01-17             2018-01-15\n",
       "2626              22823XL     1        2018-01-29             2018-01-15\n",
       "2627             228422XL    11        2018-01-18             2018-01-15\n",
       "2628               22842L   220        2018-01-28             2018-01-15\n",
       "2629               22842M    28        2018-01-13             2018-01-20\n",
       "2630               22842S    18        2018-01-31             2018-01-15\n",
       "2631              22842XL    10        2018-01-08             2018-01-15\n",
       "2632              22842XS     4        2018-01-29             2018-01-15\n",
       "2633              2286943     3        2018-01-31             2018-01-15\n",
       "2634              2286944     2        2018-01-31             2018-01-15\n",
       "2635              2286945     2        2018-01-25             2018-01-15\n",
       "2636   22872M ( 140-152 )     4        2018-01-25             2018-01-15\n",
       "\n",
       "[2637 rows x 4 columns]"
      ]
     },
     "execution_count": 83,
     "metadata": {},
     "output_type": "execute_result"
    }
   ],
   "source": [
    "# Visualize the result in dataframe\n",
    "\n",
    "result = np.append(test, pred_date, axis=1)\n",
    "result_column =['key','stock','real_sold_out_day','predicted_sold_out_day']\n",
    "prediction_result = pd.DataFrame(result, columns=result_column)\n",
    "prediction_result"
   ]
  },
  {
   "cell_type": "markdown",
   "metadata": {},
   "source": [
    "### 3. Test_1.csv"
   ]
  },
  {
   "cell_type": "code",
   "execution_count": 84,
   "metadata": {
    "collapsed": true
   },
   "outputs": [],
   "source": [
    "# Load the test data\n",
    "test_0 = pd.read_csv('/Users/effylu/Downloads/test_1.csv')\n",
    "\n",
    "# Add 'key' for test data by merging 'pid' and 'size'\n",
    "# Select useful attributes\n",
    "test_0[\"key\"] = test_0[\"pid\"].map(int).map(str) + test_0[\"size\"]\n",
    "test_0_big = test_0.loc[test_0['key'].isin(row_name)]\n",
    "subtest_0_big = test_0_big[['key','stock','sold_out_date']]\n",
    "test = np.asarray(subtest_0_big)"
   ]
  },
  {
   "cell_type": "code",
   "execution_count": 85,
   "metadata": {
    "collapsed": true
   },
   "outputs": [],
   "source": [
    "# Define arrays for storing the predicted day and date\n",
    "\n",
    "pred_day = np.zeros((len(test),1), dtype=int)\n",
    "pred_date = np.asarray(test_0_big[['sold_out_date']])\n",
    "\n",
    "for i in range(len(test)):\n",
    "    \n",
    "    # 'key' is the key for each test item\n",
    "    key = test[i,0]\n",
    "    # Find the index of the item in predictions sharing the same key\n",
    "    index = 0\n",
    "    \n",
    "    # Match the items in 'test' with the items in 'pred_agg'\n",
    "    # Retern the index of the item in the 'pred_agg'\n",
    "    for j in range(len(row_name)):\n",
    "        if row_name[j] == key:\n",
    "            index = j\n",
    "            break\n",
    "    \n",
    "    # Match\n",
    "    if test[i,1] < pred_agg[index,0]:\n",
    "        pred_day[i,0] = 1\n",
    "        pred_date[i,0] = column_name[0]\n",
    "        continue\n",
    "    if test[i,1] > pred_agg[index,30]:\n",
    "        pred_day[i,0] = 15\n",
    "        pred_date[i,0] = column_name[14]\n",
    "        continue\n",
    "    for k in range(len(pred_agg[0])):\n",
    "        if pred_agg[index,k] - test[i,1] >=0:\n",
    "            pred_day[i,0] = k+1\n",
    "            pred_date[i,0] = column_name[k]\n",
    "            break"
   ]
  },
  {
   "cell_type": "code",
   "execution_count": 86,
   "metadata": {},
   "outputs": [
    {
     "name": "stdout",
     "output_type": "stream",
     "text": [
      "142.55525244620065\n"
     ]
    }
   ],
   "source": [
    "# Error calculation\n",
    "\n",
    "day = [i[-2:] for i in test[:,2].tolist()]\n",
    "real_day = np.reshape(np.asarray(list(map(int,day))), (len(test),1))\n",
    "error = sqrt(np.sum(np.abs(np.subtract(pred_day, real_day))))\n",
    "print(error)"
   ]
  },
  {
   "cell_type": "markdown",
   "metadata": {},
   "source": [
    "### 4. Test_2.csv"
   ]
  },
  {
   "cell_type": "code",
   "execution_count": 87,
   "metadata": {
    "collapsed": true
   },
   "outputs": [],
   "source": [
    "# Load the test data\n",
    "test_0 = pd.read_csv('/Users/effylu/Downloads/test_2.csv')\n",
    "\n",
    "# Add 'key' for test data by merging 'pid' and 'size'\n",
    "# Select useful attributes\n",
    "test_0[\"key\"] = test_0[\"pid\"].map(int).map(str) + test_0[\"size\"]\n",
    "test_0_big = test_0.loc[test_0['key'].isin(row_name)]\n",
    "subtest_0_big = test_0_big[['key','stock','sold_out_date']]\n",
    "test = np.asarray(subtest_0_big)"
   ]
  },
  {
   "cell_type": "code",
   "execution_count": 88,
   "metadata": {
    "collapsed": true
   },
   "outputs": [],
   "source": [
    "# Define arrays for storing the predicted day and date\n",
    "\n",
    "pred_day = np.zeros((len(test),1), dtype=int)\n",
    "pred_date = np.asarray(test_0_big[['sold_out_date']])\n",
    "\n",
    "for i in range(len(test)):\n",
    "    \n",
    "    # 'key' is the key for each test item\n",
    "    key = test[i,0]\n",
    "    # Find the index of the item in predictions sharing the same key\n",
    "    index = 0\n",
    "    \n",
    "    # Match the items in 'test' with the items in 'pred_agg'\n",
    "    # Retern the index of the item in the 'pred_agg'\n",
    "    for j in range(len(row_name)):\n",
    "        if row_name[j] == key:\n",
    "            index = j\n",
    "            break\n",
    "    \n",
    "    # Match\n",
    "    if test[i,1] < pred_agg[index,0]:\n",
    "        pred_day[i,0] = 1\n",
    "        pred_date[i,0] = column_name[0]\n",
    "        continue\n",
    "    if test[i,1] > pred_agg[index,30]:\n",
    "        pred_day[i,0] = 15\n",
    "        pred_date[i,0] = column_name[14]\n",
    "        continue\n",
    "    for k in range(len(pred_agg[0])):\n",
    "        if pred_agg[index,k] - test[i,1] >=0:\n",
    "            pred_day[i,0] = k+1\n",
    "            pred_date[i,0] = column_name[k]\n",
    "            break"
   ]
  },
  {
   "cell_type": "code",
   "execution_count": 89,
   "metadata": {},
   "outputs": [
    {
     "name": "stdout",
     "output_type": "stream",
     "text": [
      "143.24803663575986\n"
     ]
    }
   ],
   "source": [
    "# Error calculation\n",
    "\n",
    "day = [i[-2:] for i in test[:,2].tolist()]\n",
    "real_day = np.reshape(np.asarray(list(map(int,day))), (len(test),1))\n",
    "error = sqrt(np.sum(np.abs(np.subtract(pred_day, real_day))))\n",
    "print(error)"
   ]
  },
  {
   "cell_type": "markdown",
   "metadata": {},
   "source": [
    "### 5. Test_3.csv"
   ]
  },
  {
   "cell_type": "code",
   "execution_count": 90,
   "metadata": {
    "collapsed": true
   },
   "outputs": [],
   "source": [
    "# Load the test data\n",
    "test_0 = pd.read_csv('/Users/effylu/Downloads/test_3.csv')\n",
    "\n",
    "# Add 'key' for test data by merging 'pid' and 'size'\n",
    "# Select useful attributes\n",
    "test_0[\"key\"] = test_0[\"pid\"].map(int).map(str) + test_0[\"size\"]\n",
    "test_0_big = test_0.loc[test_0['key'].isin(row_name)]\n",
    "subtest_0_big = test_0_big[['key','stock','sold_out_date']]\n",
    "test = np.asarray(subtest_0_big)"
   ]
  },
  {
   "cell_type": "code",
   "execution_count": 91,
   "metadata": {
    "collapsed": true
   },
   "outputs": [],
   "source": [
    "# Define arrays for storing the predicted day and date\n",
    "\n",
    "pred_day = np.zeros((len(test),1), dtype=int)\n",
    "pred_date = np.asarray(test_0_big[['sold_out_date']])\n",
    "\n",
    "for i in range(len(test)):\n",
    "    \n",
    "    # 'key' is the key for each test item\n",
    "    key = test[i,0]\n",
    "    # Find the index of the item in predictions sharing the same key\n",
    "    index = 0\n",
    "    \n",
    "    # Match the items in 'test' with the items in 'pred_agg'\n",
    "    # Retern the index of the item in the 'pred_agg'\n",
    "    for j in range(len(row_name)):\n",
    "        if row_name[j] == key:\n",
    "            index = j\n",
    "            break\n",
    "    \n",
    "    # Match\n",
    "    if test[i,1] < pred_agg[index,0]:\n",
    "        pred_day[i,0] = 1\n",
    "        pred_date[i,0] = column_name[0]\n",
    "        continue\n",
    "    if test[i,1] > pred_agg[index,30]:\n",
    "        pred_day[i,0] = 15\n",
    "        pred_date[i,0] = column_name[14]\n",
    "        continue\n",
    "    for k in range(len(pred_agg[0])):\n",
    "        if pred_agg[index,k] - test[i,1] >=0:\n",
    "            pred_day[i,0] = k+1\n",
    "            pred_date[i,0] = column_name[k]\n",
    "            break"
   ]
  },
  {
   "cell_type": "code",
   "execution_count": 92,
   "metadata": {},
   "outputs": [
    {
     "name": "stdout",
     "output_type": "stream",
     "text": [
      "143.07340773183535\n"
     ]
    }
   ],
   "source": [
    "# Error calculation\n",
    "\n",
    "day = [i[-2:] for i in test[:,2].tolist()]\n",
    "real_day = np.reshape(np.asarray(list(map(int,day))), (len(test),1))\n",
    "error = sqrt(np.sum(np.abs(np.subtract(pred_day, real_day))))\n",
    "print(error)"
   ]
  },
  {
   "cell_type": "markdown",
   "metadata": {},
   "source": [
    "### 6. Test_4.csv"
   ]
  },
  {
   "cell_type": "code",
   "execution_count": 93,
   "metadata": {
    "collapsed": true
   },
   "outputs": [],
   "source": [
    "# Load the test data\n",
    "test_0 = pd.read_csv('/Users/effylu/Downloads/test_4.csv')\n",
    "\n",
    "# Add 'key' for test data by merging 'pid' and 'size'\n",
    "# Select useful attributes\n",
    "test_0[\"key\"] = test_0[\"pid\"].map(int).map(str) + test_0[\"size\"]\n",
    "test_0_big = test_0.loc[test_0['key'].isin(row_name)]\n",
    "subtest_0_big = test_0_big[['key','stock','sold_out_date']]\n",
    "test = np.asarray(subtest_0_big)"
   ]
  },
  {
   "cell_type": "code",
   "execution_count": 94,
   "metadata": {
    "collapsed": true
   },
   "outputs": [],
   "source": [
    "# Define arrays for storing the predicted day and date\n",
    "\n",
    "pred_day = np.zeros((len(test),1), dtype=int)\n",
    "pred_date = np.asarray(test_0_big[['sold_out_date']])\n",
    "\n",
    "for i in range(len(test)):\n",
    "    \n",
    "    # 'key' is the key for each test item\n",
    "    key = test[i,0]\n",
    "    # Find the index of the item in predictions sharing the same key\n",
    "    index = 0\n",
    "    \n",
    "    # Match the items in 'test' with the items in 'pred_agg'\n",
    "    # Retern the index of the item in the 'pred_agg'\n",
    "    for j in range(len(row_name)):\n",
    "        if row_name[j] == key:\n",
    "            index = j\n",
    "            break\n",
    "    \n",
    "    # Match\n",
    "    if test[i,1] < pred_agg[index,0]:\n",
    "        pred_day[i,0] = 1\n",
    "        pred_date[i,0] = column_name[0]\n",
    "        continue\n",
    "    if test[i,1] > pred_agg[index,30]:\n",
    "        pred_day[i,0] = 15\n",
    "        pred_date[i,0] = column_name[14]\n",
    "        continue\n",
    "    for k in range(len(pred_agg[0])):\n",
    "        if pred_agg[index,k] - test[i,1] >=0:\n",
    "            pred_day[i,0] = k+1\n",
    "            pred_date[i,0] = column_name[k]\n",
    "            break"
   ]
  },
  {
   "cell_type": "code",
   "execution_count": 95,
   "metadata": {},
   "outputs": [
    {
     "name": "stdout",
     "output_type": "stream",
     "text": [
      "142.13725760686393\n"
     ]
    }
   ],
   "source": [
    "# Error calculation\n",
    "\n",
    "day = [i[-2:] for i in test[:,2].tolist()]\n",
    "real_day = np.reshape(np.asarray(list(map(int,day))), (len(test),1))\n",
    "error = sqrt(np.sum(np.abs(np.subtract(pred_day, real_day))))\n",
    "print(error)"
   ]
  },
  {
   "cell_type": "code",
   "execution_count": null,
   "metadata": {
    "collapsed": true
   },
   "outputs": [],
   "source": []
  }
 ],
 "metadata": {
  "kernelspec": {
   "display_name": "Python 3",
   "language": "python",
   "name": "python3"
  },
  "language_info": {
   "codemirror_mode": {
    "name": "ipython",
    "version": 3
   },
   "file_extension": ".py",
   "mimetype": "text/x-python",
   "name": "python",
   "nbconvert_exporter": "python",
   "pygments_lexer": "ipython3",
   "version": "3.6.4"
  }
 },
 "nbformat": 4,
 "nbformat_minor": 2
}
