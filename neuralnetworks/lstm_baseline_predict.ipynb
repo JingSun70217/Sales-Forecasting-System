{
 "cells": [
  {
   "cell_type": "code",
   "execution_count": 5,
   "metadata": {
    "collapsed": true
   },
   "outputs": [],
   "source": [
    "import pandas as pd\n",
    "import numpy as np\n",
    "import os\n",
    "from keras.models import load_model"
   ]
  },
  {
   "cell_type": "markdown",
   "metadata": {},
   "source": [
    "# Import model and test data"
   ]
  },
  {
   "cell_type": "code",
   "execution_count": 6,
   "metadata": {},
   "outputs": [
    {
     "data": {
      "text/plain": [
       "'C:\\\\Users\\\\iamlcc\\\\datamining2'"
      ]
     },
     "execution_count": 6,
     "metadata": {},
     "output_type": "execute_result"
    }
   ],
   "source": [
    "os.path.abspath('.') # This is your reference file path from where files will be accessed/output"
   ]
  },
  {
   "cell_type": "code",
   "execution_count": 8,
   "metadata": {},
   "outputs": [
    {
     "name": "stderr",
     "output_type": "stream",
     "text": [
      "C:\\Users\\iamlcc\\datamining2\\venv\\lib\\site-packages\\numpy\\lib\\arraysetops.py:472: FutureWarning: elementwise comparison failed; returning scalar instead, but in the future will perform elementwise comparison\n  mask |= (ar1 == a)\n"
     ]
    }
   ],
   "source": [
    "# Import saved model\n",
    "model = load_model('neuralnetworks/rnn-lstm-best_v1.h5')\n",
    "\n",
    "# Import datasets\n",
    "data_directory = 'data/clean'\n",
    "X = pd.read_csv('{}/nn_X.csv'.format(data_directory), index_col=0)\n",
    "Y = pd.read_csv('{}/nn_Y.csv'.format(data_directory), index_col=0)\n",
    "\n",
    "# Drop columns\n",
    "keys_dates = pd.DataFrame(X['key']).join(X['date']) # Store for future lookups\n",
    "drop_x_cols = ['key', 'pid_x', 'size_x', 'color', 'brand', 'rrp', 'date', 'day_of_week',\n",
    "               'mainCategory', 'category', 'subCategory', 'releaseDate']\n",
    "drop_y_cols = ['key', 'date']\n",
    "X = X.drop(drop_x_cols, axis=1)\n",
    "Y = Y.drop(drop_y_cols, axis=1)\n",
    "\n",
    "# Convert to numpy to reshape for input\n",
    "X = X.as_matrix()\n",
    "Y = Y.as_matrix()"
   ]
  },
  {
   "cell_type": "code",
   "execution_count": 46,
   "metadata": {
    "collapsed": false
   },
   "outputs": [
    {
     "name": "stdout",
     "output_type": "stream",
     "text": [
      "(1577352, 67)\n(1577352, 1)\n"
     ]
    }
   ],
   "source": [
    "print(X.shape)\n",
    "print(Y.shape)"
   ]
  },
  {
   "cell_type": "code",
   "execution_count": 47,
   "metadata": {},
   "outputs": [
    {
     "name": "stdout",
     "output_type": "stream",
     "text": [
      "12824\n"
     ]
    }
   ],
   "source": [
    "# Loop through test dataset and store predictions in dictionary\n",
    "for i in range(0, X.shape[0]//123):\n",
    "    X_sample = X[i*123+31:i*123+123] # Pass the last 92 days\n",
    "    X_sample = X_sample[np.newaxis, :, :]\n",
    "    X_pred = model.predict(X_sample)[0][-31:].flatten() # Take last 31 predictions\n",
    "    X_key = keys_dates['key'].iloc[i*123]\n",
    "    results[X_key] = X_pred\n",
    "print(len(results))"
   ]
  },
  {
   "cell_type": "markdown",
   "metadata": {},
   "source": [
    "# Dump predictions to directory"
   ]
  },
  {
   "cell_type": "code",
   "execution_count": 49,
   "metadata": {},
   "outputs": [],
   "source": [
    "results_df = pd.DataFrame(results)\n",
    "results_df.to_csv('lstm_baseline_pred.csv', index=False)"
   ]
  },
  {
   "cell_type": "code",
   "execution_count": null,
   "metadata": {},
   "outputs": [],
   "source": []
  }
 ],
 "metadata": {
  "kernelspec": {
   "display_name": "Python 2",
   "language": "python",
   "name": "python2"
  },
  "language_info": {
   "codemirror_mode": {
    "name": "ipython",
    "version": 2
   },
   "file_extension": ".py",
   "mimetype": "text/x-python",
   "name": "python",
   "nbconvert_exporter": "python",
   "pygments_lexer": "ipython2",
   "version": "2.7.6"
  }
 },
 "nbformat": 4,
 "nbformat_minor": 0
}
