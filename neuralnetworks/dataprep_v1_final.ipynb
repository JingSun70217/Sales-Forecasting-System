{
 "cells": [
  {
   "cell_type": "markdown",
   "metadata": {},
   "source": [
    "This notebook produces the final dataset for predicting February results. The results will be for the actual DMC submission."
   ]
  },
  {
   "cell_type": "code",
   "execution_count": 2,
   "metadata": {
    "collapsed": true
   },
   "outputs": [],
   "source": [
    "import pandas as pd\n",
    "import os\n",
    "import numpy as np\n",
    "import pickle\n",
    "\n",
    "from measures import wrangling"
   ]
  },
  {
   "cell_type": "markdown",
   "metadata": {},
   "source": [
    "# Import dataset and flatten for neural network input"
   ]
  },
  {
   "cell_type": "code",
   "execution_count": 3,
   "metadata": {
    "collapsed": true
   },
   "outputs": [],
   "source": [
    "dataset = pd.read_csv('./data/clean/data_v0.1.csv', header=0)"
   ]
  },
  {
   "cell_type": "code",
   "execution_count": 4,
   "metadata": {
    "collapsed": true
   },
   "outputs": [],
   "source": [
    "cols = pd.DataFrame([dataset.columns.tolist()])\n",
    "cols.to_csv('./data/clean/data_v0.1_columns.csv')"
   ]
  },
  {
   "cell_type": "markdown",
   "metadata": {},
   "source": [
    "February price columns no longer removed; we need them to make predictions"
   ]
  },
  {
   "cell_type": "code",
   "execution_count": 9,
   "metadata": {},
   "outputs": [
    {
     "name": "stdout",
     "output_type": "stream",
     "text": [
      "Index(['key', 'pid_x', 'size_x', 'color', 'brand', 'rrp', 'mainCategory',\n       'category', 'subCategory', 'stock',\n       ...\n       '2018-01-22_sales', '2018-01-23_sales', '2018-01-24_sales',\n       '2018-01-25_sales', '2018-01-26_sales', '2018-01-27_sales',\n       '2018-01-28_sales', '2018-01-29_sales', '2018-01-30_sales',\n       '2018-01-31_sales'],\n      dtype='object', length=285)\nIndex(['key', 'pid_x', 'size_x', 'color', 'brand', 'rrp', 'mainCategory',\n       'category', 'subCategory', 'stock', 'releaseDate', '2017-10-01_price',\n       '2017-10-02_price', '2017-10-03_price'],\n      dtype='object')\nIndex(['2018-02-01_price', '2018-02-02_price', '2018-02-03_price',\n       '2018-02-04_price', '2018-02-05_price', '2018-02-06_price',\n       '2018-02-07_price', '2018-02-08_price', '2018-02-09_price',\n       '2018-02-10_price', '2018-02-11_price', '2018-02-12_price',\n       '2018-02-13_price', '2018-02-14_price', '2018-02-15_price',\n       '2018-02-16_price', '2018-02-17_price', '2018-02-18_price',\n       '2018-02-19_price', '2018-02-20_price', '2018-02-21_price',\n       '2018-02-22_price', '2018-02-23_price', '2018-02-24_price',\n       '2018-02-25_price', '2018-02-26_price', '2018-02-27_price',\n       '2018-02-28_price'],\n      dtype='object')\n"
     ]
    }
   ],
   "source": [
    "# Drop February price-columns\n",
    "# dataset = wrangling.remove_price_cols(dataset, '2018-02-01', '2018-02-28')\n",
    "print(dataset.columns)\n",
    "print(dataset.columns[134:134+28]) # February price columns"
   ]
  },
  {
   "cell_type": "code",
   "execution_count": 26,
   "metadata": {},
   "outputs": [],
   "source": [
    "# Separate Y labels from X variables\n",
    "Y_dataset = wrangling.sales_cols(dataset, '2017-10-01', '2018-01-31') \n",
    "X_dataset = wrangling.remove_sales_cols(dataset, '2017-10-01', '2018-01-31')"
   ]
  },
  {
   "cell_type": "markdown",
   "metadata": {},
   "source": [
    "Dataset no longer split to big/small clusters"
   ]
  },
  {
   "cell_type": "code",
   "execution_count": 23,
   "metadata": {},
   "outputs": [],
   "source": [
    "# Y_dataset['total_sales'] = Y_dataset.iloc[:,1:93].sum(axis=1) # [92] = 2017-12-31\n",
    "# Y_dataset['cluster'] = np.where(Y_dataset['total_sales'] >= 13, 'big', 'small')\n",
    "# len(Y_dataset[Y_dataset['cluster'] == 'big']) # Should be 2,907 rows\n",
    "# Y_dataset.to_csv('./data/clean/data_v0.2_sales.csv', index=False)"
   ]
  },
  {
   "cell_type": "code",
   "execution_count": 27,
   "metadata": {},
   "outputs": [
    {
     "name": "stdout",
     "output_type": "stream",
     "text": [
      "Index(['key', 'pid_x', 'size_x', 'color', 'brand', 'rrp', 'mainCategory',\n       'category', 'subCategory', 'releaseDate',\n       ...\n       '2018-02-19_price', '2018-02-20_price', '2018-02-21_price',\n       '2018-02-22_price', '2018-02-23_price', '2018-02-24_price',\n       '2018-02-25_price', '2018-02-26_price', '2018-02-27_price',\n       '2018-02-28_price'],\n      dtype='object', length=161)\n"
     ]
    }
   ],
   "source": [
    "X_dataset = X_dataset.drop('stock', axis=1)\n",
    "print(X_dataset.columns)"
   ]
  },
  {
   "cell_type": "markdown",
   "metadata": {},
   "source": [
    "Without February data, we have 12,824x123 = 1,577,352 rows when dataset is flattened. \n",
    "With February data, we expect 12,824x(123+28) = 1,936,424 rows when dataset is flattened"
   ]
  },
  {
   "cell_type": "code",
   "execution_count": 29,
   "metadata": {},
   "outputs": [
    {
     "name": "stdout",
     "output_type": "stream",
     "text": [
      "(1936424, 12)\n            key  pid_x size_x color   brand     rrp  mainCategory  category  \\\n1936419  22881S  22881      S  grau  adidas  139.63             1         7   \n1936420  22881S  22881      S  grau  adidas  139.63             1         7   \n1936421  22881S  22881      S  grau  adidas  139.63             1         7   \n1936422  22881S  22881      S  grau  adidas  139.63             1         7   \n1936423  22881S  22881      S  grau  adidas  139.63             1         7   \n\n         subCategory releaseDate              date   price  \n1936419         31.0  2017-10-01  2018-02-24_price  104.72  \n1936420         31.0  2017-10-01  2018-02-25_price  104.72  \n1936421         31.0  2017-10-01  2018-02-26_price  104.72  \n1936422         31.0  2017-10-01  2018-02-27_price  104.72  \n1936423         31.0  2017-10-01  2018-02-28_price  104.72  \n"
     ]
    }
   ],
   "source": [
    "# Flatten X so that each row is 1 day\n",
    "cols = ['key', 'pid_x', 'size_x', 'color', 'brand', 'rrp', 'mainCategory', 'category', 'subCategory', 'releaseDate']\n",
    "X_flat = pd.melt(X_dataset, id_vars=cols, var_name='date', value_name='price')\n",
    "X_flat = X_flat.sort_values(['key', 'date']).reset_index(drop=True)\n",
    "print(X_flat.shape) # Should be 1,936,424 rows\n",
    "print(X_flat.tail()) # Quick check of the result"
   ]
  },
  {
   "cell_type": "code",
   "execution_count": 30,
   "metadata": {},
   "outputs": [
    {
     "name": "stdout",
     "output_type": "stream",
     "text": [
      "Index(['2018-01-30_sales', '2018-01-31_sales', '2018-02-01_sales',\n       '2018-02-02_sales', '2018-02-03_sales', '2018-02-04_sales',\n       '2018-02-05_sales', '2018-02-06_sales', '2018-02-07_sales',\n       '2018-02-08_sales', '2018-02-09_sales', '2018-02-10_sales',\n       '2018-02-11_sales', '2018-02-12_sales', '2018-02-13_sales',\n       '2018-02-14_sales', '2018-02-15_sales', '2018-02-16_sales',\n       '2018-02-17_sales', '2018-02-18_sales', '2018-02-19_sales',\n       '2018-02-20_sales', '2018-02-21_sales', '2018-02-22_sales',\n       '2018-02-23_sales', '2018-02-24_sales', '2018-02-25_sales',\n       '2018-02-26_sales', '2018-02-27_sales', '2018-02-28_sales'],\n      dtype='object')\n            key  2017-10-01_sales  2017-10-02_sales  2017-10-03_sales  \\\n12819  228782XL               0.0               0.0               0.0   \n12820    22878L               0.0               0.0               0.0   \n12821    22878M               0.0               0.0               0.0   \n12822   22878XL               0.0               0.0               0.0   \n12823    22881S               0.0               0.0               0.0   \n\n       2017-10-04_sales  2017-10-05_sales  2017-10-06_sales  2017-10-07_sales  \\\n12819               0.0               0.0               0.0               0.0   \n12820               0.0               0.0               0.0               0.0   \n12821               0.0               0.0               0.0               0.0   \n12822               0.0               0.0               0.0               0.0   \n12823               0.0               0.0               0.0               0.0   \n\n       2017-10-08_sales  2017-10-09_sales        ...         2018-02-19_sales  \\\n12819               0.0               0.0        ...                      NaN   \n12820               0.0               0.0        ...                      NaN   \n12821               0.0               0.0        ...                      NaN   \n12822               0.0               0.0        ...                      NaN   \n12823               0.0               0.0        ...                      NaN   \n\n       2018-02-20_sales  2018-02-21_sales  2018-02-22_sales  2018-02-23_sales  \\\n12819               NaN               NaN               NaN               NaN   \n12820               NaN               NaN               NaN               NaN   \n12821               NaN               NaN               NaN               NaN   \n12822               NaN               NaN               NaN               NaN   \n12823               NaN               NaN               NaN               NaN   \n\n       2018-02-24_sales  2018-02-25_sales  2018-02-26_sales  2018-02-27_sales  \\\n12819               NaN               NaN               NaN               NaN   \n12820               NaN               NaN               NaN               NaN   \n12821               NaN               NaN               NaN               NaN   \n12822               NaN               NaN               NaN               NaN   \n12823               NaN               NaN               NaN               NaN   \n\n       2018-02-28_sales  \n12819               NaN  \n12820               NaN  \n12821               NaN  \n12822               NaN  \n12823               NaN  \n\n[5 rows x 152 columns]\n"
     ]
    }
   ],
   "source": [
    "# Create February columns for Y containing NA values\n",
    "for day in range(1, 29):\n",
    "    if day < 10:\n",
    "        col_name = '2018-02-0{}_sales'.format(str(day))\n",
    "    else:\n",
    "        col_name = '2018-02-{}_sales'.format(str(day))\n",
    "    Y_dataset[col_name] = np.nan # Because we don't have true Y (sales) values for February\n",
    "print(Y_dataset.columns[-30:]) # Quick check\n",
    "print(Y_dataset.tail())"
   ]
  },
  {
   "cell_type": "code",
   "execution_count": 31,
   "metadata": {},
   "outputs": [
    {
     "name": "stdout",
     "output_type": "stream",
     "text": [
      "(1936424, 3)\n            key              date  sales\n1936419  22881S  2018-02-24_sales    NaN\n1936420  22881S  2018-02-25_sales    NaN\n1936421  22881S  2018-02-26_sales    NaN\n1936422  22881S  2018-02-27_sales    NaN\n1936423  22881S  2018-02-28_sales    NaN\n"
     ]
    }
   ],
   "source": [
    "# Flatten Y similarly, so that the rows of Y correspond to that of X\n",
    "Y_flat = pd.melt(Y_dataset, id_vars='key', var_name='date', value_name='sales')\n",
    "Y_flat = Y_flat.sort_values(['key', 'date']).reset_index(drop=True)\n",
    "print(Y_flat.shape) # Should have also 1,936,424 rows\n",
    "print(Y_flat.tail()) "
   ]
  },
  {
   "cell_type": "markdown",
   "metadata": {},
   "source": [
    "# Cleaning data"
   ]
  },
  {
   "cell_type": "code",
   "execution_count": 33,
   "metadata": {
    "collapsed": true
   },
   "outputs": [],
   "source": [
    "# Clean 'date' columns to keep only YYYY-MM-DD part\n",
    "X_flat['date'] = X_flat['date'].str[0:10]\n",
    "Y_flat['date'] = Y_flat['date'].str[0:10]"
   ]
  },
  {
   "cell_type": "code",
   "execution_count": 34,
   "metadata": {
    "collapsed": true
   },
   "outputs": [],
   "source": [
    "X_flat['subCategory'] = X_flat['subCategory'].fillna(0) # Fill blank sub-category with 0\n",
    "X_flat['size_x'] = X_flat['size_x'].fillna('NA') # Fill blank sizes with 'NA' string\n",
    "X_flat['price'] = X_flat['price'].fillna(method='bfill') # Fill blank prices with earliest given price"
   ]
  },
  {
   "cell_type": "markdown",
   "metadata": {},
   "source": [
    "# Feature engineering"
   ]
  },
  {
   "cell_type": "code",
   "execution_count": 35,
   "metadata": {},
   "outputs": [
    {
     "name": "stdout",
     "output_type": "stream",
     "text": [
      "                   key  pid_x          size_x  color brand    rrp  \\\n0  10000XL ( 158-170 )  10000  XL ( 158-170 )  gruen  Nike  25.33   \n1  10000XL ( 158-170 )  10000  XL ( 158-170 )  gruen  Nike  25.33   \n2  10000XL ( 158-170 )  10000  XL ( 158-170 )  gruen  Nike  25.33   \n3  10000XL ( 158-170 )  10000  XL ( 158-170 )  gruen  Nike  25.33   \n4  10000XL ( 158-170 )  10000  XL ( 158-170 )  gruen  Nike  25.33   \n\n   mainCategory  category  subCategory releaseDate        date  price  \n0             1         7         25.0  2017-10-01  2017-10-01  18.99  \n1             1         7         25.0  2017-10-01  2017-10-02  18.99  \n2             1         7         25.0  2017-10-01  2017-10-03  18.99  \n3             1         7         25.0  2017-10-01  2017-10-04  18.99  \n4             1         7         25.0  2017-10-01  2017-10-05  18.99  \n"
     ]
    }
   ],
   "source": [
    "print(X_flat.head())"
   ]
  },
  {
   "cell_type": "code",
   "execution_count": 36,
   "metadata": {},
   "outputs": [],
   "source": [
    "# Add last N day's sales, up to 10 days\n",
    "X_flat['last_1_day_sales'] = 0\n",
    "X_flat['last_2_day_sales'] = 0\n",
    "X_flat['last_3_day_sales'] = 0\n",
    "X_flat['last_4_day_sales'] = 0\n",
    "X_flat['last_5_day_sales'] = 0\n",
    "X_flat['last_6_day_sales'] = 0\n",
    "X_flat['last_7_day_sales'] = 0\n",
    "X_flat['last_8_day_sales'] = 0\n",
    "X_flat['last_9_day_sales'] = 0\n",
    "X_flat['last_10_day_sales'] = 0\n",
    "X_flat['last_11_day_sales'] = 0\n",
    "X_flat['last_12_day_sales'] = 0\n",
    "X_flat['last_13_day_sales'] = 0\n",
    "X_flat['last_14_day_sales'] = 0\n",
    "X_flat['last_15_day_sales'] = 0\n",
    "X_flat['last_16_day_sales'] = 0\n",
    "X_flat['last_17_day_sales'] = 0\n",
    "X_flat['last_18_day_sales'] = 0\n",
    "X_flat['last_19_day_sales'] = 0\n",
    "X_flat['last_20_day_sales'] = 0\n",
    "X_flat['last_21_day_sales'] = 0\n",
    "X_flat['last_22_day_sales'] = 0\n",
    "X_flat['last_23_day_sales'] = 0\n",
    "X_flat['last_24_day_sales'] = 0\n",
    "X_flat['last_25_day_sales'] = 0\n",
    "X_flat['last_26_day_sales'] = 0\n",
    "X_flat['last_27_day_sales'] = 0\n",
    "X_flat['last_28_day_sales'] = 0"
   ]
  },
  {
   "cell_type": "code",
   "execution_count": 37,
   "metadata": {},
   "outputs": [
    {
     "name": "stderr",
     "output_type": "stream",
     "text": [
      "C:\\Anaconda3\\lib\\site-packages\\pandas\\core\\indexing.py:179: SettingWithCopyWarning: \nA value is trying to be set on a copy of a slice from a DataFrame\n\nSee the caveats in the documentation: http://pandas.pydata.org/pandas-docs/stable/indexing.html#indexing-view-versus-copy\n  self._setitem_with_indexer(indexer, value)\n"
     ]
    },
    {
     "name": "stdout",
     "output_type": "stream",
     "text": [
      "0 products finished\n"
     ]
    },
    {
     "name": "stdout",
     "output_type": "stream",
     "text": [
      "128 products finished\n"
     ]
    },
    {
     "name": "stdout",
     "output_type": "stream",
     "text": [
      "256 products finished\n"
     ]
    },
    {
     "name": "stdout",
     "output_type": "stream",
     "text": [
      "384 products finished\n"
     ]
    },
    {
     "name": "stdout",
     "output_type": "stream",
     "text": [
      "512 products finished\n"
     ]
    },
    {
     "name": "stdout",
     "output_type": "stream",
     "text": [
      "640 products finished\n"
     ]
    },
    {
     "name": "stdout",
     "output_type": "stream",
     "text": [
      "768 products finished\n"
     ]
    },
    {
     "name": "stdout",
     "output_type": "stream",
     "text": [
      "896 products finished\n"
     ]
    },
    {
     "name": "stdout",
     "output_type": "stream",
     "text": [
      "1024 products finished\n"
     ]
    },
    {
     "name": "stdout",
     "output_type": "stream",
     "text": [
      "1152 products finished\n"
     ]
    },
    {
     "name": "stdout",
     "output_type": "stream",
     "text": [
      "1280 products finished\n"
     ]
    },
    {
     "name": "stdout",
     "output_type": "stream",
     "text": [
      "1408 products finished\n"
     ]
    },
    {
     "name": "stdout",
     "output_type": "stream",
     "text": [
      "1536 products finished\n"
     ]
    },
    {
     "name": "stdout",
     "output_type": "stream",
     "text": [
      "1664 products finished\n"
     ]
    },
    {
     "name": "stdout",
     "output_type": "stream",
     "text": [
      "1792 products finished\n"
     ]
    },
    {
     "name": "stdout",
     "output_type": "stream",
     "text": [
      "1920 products finished\n"
     ]
    },
    {
     "name": "stdout",
     "output_type": "stream",
     "text": [
      "2048 products finished\n"
     ]
    },
    {
     "name": "stdout",
     "output_type": "stream",
     "text": [
      "2176 products finished\n"
     ]
    },
    {
     "name": "stdout",
     "output_type": "stream",
     "text": [
      "2304 products finished\n"
     ]
    },
    {
     "name": "stdout",
     "output_type": "stream",
     "text": [
      "2432 products finished\n"
     ]
    },
    {
     "name": "stdout",
     "output_type": "stream",
     "text": [
      "2560 products finished\n"
     ]
    },
    {
     "name": "stdout",
     "output_type": "stream",
     "text": [
      "2688 products finished\n"
     ]
    },
    {
     "name": "stdout",
     "output_type": "stream",
     "text": [
      "2816 products finished\n"
     ]
    },
    {
     "name": "stdout",
     "output_type": "stream",
     "text": [
      "2944 products finished\n"
     ]
    },
    {
     "name": "stdout",
     "output_type": "stream",
     "text": [
      "3072 products finished\n"
     ]
    },
    {
     "name": "stdout",
     "output_type": "stream",
     "text": [
      "3200 products finished\n"
     ]
    },
    {
     "name": "stdout",
     "output_type": "stream",
     "text": [
      "3328 products finished\n"
     ]
    },
    {
     "name": "stdout",
     "output_type": "stream",
     "text": [
      "3456 products finished\n"
     ]
    },
    {
     "name": "stdout",
     "output_type": "stream",
     "text": [
      "3584 products finished\n"
     ]
    },
    {
     "name": "stdout",
     "output_type": "stream",
     "text": [
      "3712 products finished\n"
     ]
    },
    {
     "name": "stdout",
     "output_type": "stream",
     "text": [
      "3840 products finished\n"
     ]
    },
    {
     "name": "stdout",
     "output_type": "stream",
     "text": [
      "3968 products finished\n"
     ]
    },
    {
     "name": "stdout",
     "output_type": "stream",
     "text": [
      "4096 products finished\n"
     ]
    },
    {
     "name": "stdout",
     "output_type": "stream",
     "text": [
      "4224 products finished\n"
     ]
    },
    {
     "name": "stdout",
     "output_type": "stream",
     "text": [
      "4352 products finished\n"
     ]
    },
    {
     "name": "stdout",
     "output_type": "stream",
     "text": [
      "4480 products finished\n"
     ]
    },
    {
     "name": "stdout",
     "output_type": "stream",
     "text": [
      "4608 products finished\n"
     ]
    },
    {
     "name": "stdout",
     "output_type": "stream",
     "text": [
      "4736 products finished\n"
     ]
    },
    {
     "name": "stdout",
     "output_type": "stream",
     "text": [
      "4864 products finished\n"
     ]
    },
    {
     "name": "stdout",
     "output_type": "stream",
     "text": [
      "4992 products finished\n"
     ]
    },
    {
     "name": "stdout",
     "output_type": "stream",
     "text": [
      "5120 products finished\n"
     ]
    },
    {
     "name": "stdout",
     "output_type": "stream",
     "text": [
      "5248 products finished\n"
     ]
    },
    {
     "name": "stdout",
     "output_type": "stream",
     "text": [
      "5376 products finished\n"
     ]
    },
    {
     "name": "stdout",
     "output_type": "stream",
     "text": [
      "5504 products finished\n"
     ]
    },
    {
     "name": "stdout",
     "output_type": "stream",
     "text": [
      "5632 products finished\n"
     ]
    },
    {
     "name": "stdout",
     "output_type": "stream",
     "text": [
      "5760 products finished\n"
     ]
    },
    {
     "name": "stdout",
     "output_type": "stream",
     "text": [
      "5888 products finished\n"
     ]
    },
    {
     "name": "stdout",
     "output_type": "stream",
     "text": [
      "6016 products finished\n"
     ]
    },
    {
     "name": "stdout",
     "output_type": "stream",
     "text": [
      "6144 products finished\n"
     ]
    },
    {
     "name": "stdout",
     "output_type": "stream",
     "text": [
      "6272 products finished\n"
     ]
    },
    {
     "name": "stdout",
     "output_type": "stream",
     "text": [
      "6400 products finished\n"
     ]
    },
    {
     "name": "stdout",
     "output_type": "stream",
     "text": [
      "6528 products finished\n"
     ]
    },
    {
     "name": "stdout",
     "output_type": "stream",
     "text": [
      "6656 products finished\n"
     ]
    },
    {
     "name": "stdout",
     "output_type": "stream",
     "text": [
      "6784 products finished\n"
     ]
    },
    {
     "name": "stdout",
     "output_type": "stream",
     "text": [
      "6912 products finished\n"
     ]
    },
    {
     "name": "stdout",
     "output_type": "stream",
     "text": [
      "7040 products finished\n"
     ]
    },
    {
     "name": "stdout",
     "output_type": "stream",
     "text": [
      "7168 products finished\n"
     ]
    },
    {
     "name": "stdout",
     "output_type": "stream",
     "text": [
      "7296 products finished\n"
     ]
    },
    {
     "name": "stdout",
     "output_type": "stream",
     "text": [
      "7424 products finished\n"
     ]
    },
    {
     "name": "stdout",
     "output_type": "stream",
     "text": [
      "7552 products finished\n"
     ]
    },
    {
     "name": "stdout",
     "output_type": "stream",
     "text": [
      "7680 products finished\n"
     ]
    },
    {
     "name": "stdout",
     "output_type": "stream",
     "text": [
      "7808 products finished\n"
     ]
    },
    {
     "name": "stdout",
     "output_type": "stream",
     "text": [
      "7936 products finished\n"
     ]
    },
    {
     "name": "stdout",
     "output_type": "stream",
     "text": [
      "8064 products finished\n"
     ]
    },
    {
     "name": "stdout",
     "output_type": "stream",
     "text": [
      "8192 products finished\n"
     ]
    },
    {
     "name": "stdout",
     "output_type": "stream",
     "text": [
      "8320 products finished\n"
     ]
    },
    {
     "name": "stdout",
     "output_type": "stream",
     "text": [
      "8448 products finished\n"
     ]
    },
    {
     "name": "stdout",
     "output_type": "stream",
     "text": [
      "8576 products finished\n"
     ]
    },
    {
     "name": "stdout",
     "output_type": "stream",
     "text": [
      "8704 products finished\n"
     ]
    },
    {
     "name": "stdout",
     "output_type": "stream",
     "text": [
      "8832 products finished\n"
     ]
    },
    {
     "name": "stdout",
     "output_type": "stream",
     "text": [
      "8960 products finished\n"
     ]
    },
    {
     "name": "stdout",
     "output_type": "stream",
     "text": [
      "9088 products finished\n"
     ]
    },
    {
     "name": "stdout",
     "output_type": "stream",
     "text": [
      "9216 products finished\n"
     ]
    },
    {
     "name": "stdout",
     "output_type": "stream",
     "text": [
      "9344 products finished\n"
     ]
    },
    {
     "name": "stdout",
     "output_type": "stream",
     "text": [
      "9472 products finished\n"
     ]
    },
    {
     "name": "stdout",
     "output_type": "stream",
     "text": [
      "9600 products finished\n"
     ]
    },
    {
     "name": "stdout",
     "output_type": "stream",
     "text": [
      "9728 products finished\n"
     ]
    },
    {
     "name": "stdout",
     "output_type": "stream",
     "text": [
      "9856 products finished\n"
     ]
    },
    {
     "name": "stdout",
     "output_type": "stream",
     "text": [
      "9984 products finished\n"
     ]
    },
    {
     "name": "stdout",
     "output_type": "stream",
     "text": [
      "10112 products finished\n"
     ]
    },
    {
     "name": "stdout",
     "output_type": "stream",
     "text": [
      "10240 products finished\n"
     ]
    },
    {
     "name": "stdout",
     "output_type": "stream",
     "text": [
      "10368 products finished\n"
     ]
    },
    {
     "name": "stdout",
     "output_type": "stream",
     "text": [
      "10496 products finished\n"
     ]
    },
    {
     "name": "stdout",
     "output_type": "stream",
     "text": [
      "10624 products finished\n"
     ]
    },
    {
     "name": "stdout",
     "output_type": "stream",
     "text": [
      "10752 products finished\n"
     ]
    },
    {
     "name": "stdout",
     "output_type": "stream",
     "text": [
      "10880 products finished\n"
     ]
    },
    {
     "name": "stdout",
     "output_type": "stream",
     "text": [
      "11008 products finished\n"
     ]
    },
    {
     "name": "stdout",
     "output_type": "stream",
     "text": [
      "11136 products finished\n"
     ]
    },
    {
     "name": "stdout",
     "output_type": "stream",
     "text": [
      "11264 products finished\n"
     ]
    },
    {
     "name": "stdout",
     "output_type": "stream",
     "text": [
      "11392 products finished\n"
     ]
    },
    {
     "name": "stdout",
     "output_type": "stream",
     "text": [
      "11520 products finished\n"
     ]
    },
    {
     "name": "stdout",
     "output_type": "stream",
     "text": [
      "11648 products finished\n"
     ]
    },
    {
     "name": "stdout",
     "output_type": "stream",
     "text": [
      "11776 products finished\n"
     ]
    },
    {
     "name": "stdout",
     "output_type": "stream",
     "text": [
      "11904 products finished\n"
     ]
    },
    {
     "name": "stdout",
     "output_type": "stream",
     "text": [
      "12032 products finished\n"
     ]
    },
    {
     "name": "stdout",
     "output_type": "stream",
     "text": [
      "12160 products finished\n"
     ]
    },
    {
     "name": "stdout",
     "output_type": "stream",
     "text": [
      "12288 products finished\n"
     ]
    },
    {
     "name": "stdout",
     "output_type": "stream",
     "text": [
      "12416 products finished\n"
     ]
    },
    {
     "name": "stdout",
     "output_type": "stream",
     "text": [
      "12544 products finished\n"
     ]
    },
    {
     "name": "stdout",
     "output_type": "stream",
     "text": [
      "12672 products finished\n"
     ]
    },
    {
     "name": "stdout",
     "output_type": "stream",
     "text": [
      "12800 products finished\n"
     ]
    }
   ],
   "source": [
    "for i in range(12824):\n",
    "    X_flat['last_1_day_sales'].iloc[i*151+1:i*151+151] = Y_flat['sales'].iloc[i*151:i*151+150].as_matrix()\n",
    "    X_flat['last_2_day_sales'].iloc[i*151+2:i*151+151] = Y_flat['sales'].iloc[i*151:i*151+149].as_matrix()\n",
    "    X_flat['last_3_day_sales'].iloc[i*151+3:i*151+151] = Y_flat['sales'].iloc[i*151:i*151+148].as_matrix()\n",
    "    X_flat['last_4_day_sales'].iloc[i*151+4:i*151+151] = Y_flat['sales'].iloc[i*151:i*151+147].as_matrix()\n",
    "    X_flat['last_5_day_sales'].iloc[i*151+5:i*151+151] = Y_flat['sales'].iloc[i*151:i*151+146].as_matrix()\n",
    "    X_flat['last_6_day_sales'].iloc[i*151+6:i*151+151] = Y_flat['sales'].iloc[i*151:i*151+145].as_matrix()\n",
    "    X_flat['last_7_day_sales'].iloc[i*151+7:i*151+151] = Y_flat['sales'].iloc[i*151:i*151+144].as_matrix()\n",
    "    X_flat['last_8_day_sales'].iloc[i*151+8:i*151+151] = Y_flat['sales'].iloc[i*151:i*151+143].as_matrix()\n",
    "    X_flat['last_9_day_sales'].iloc[i*151+9:i*151+151] = Y_flat['sales'].iloc[i*151:i*151+142].as_matrix()\n",
    "    X_flat['last_10_day_sales'].iloc[i*151+10:i*151+151] = Y_flat['sales'].iloc[i*151:i*151+141].as_matrix()\n",
    "    X_flat['last_11_day_sales'].iloc[i*151+11:i*151+151] = Y_flat['sales'].iloc[i*151:i*151+140].as_matrix()\n",
    "    X_flat['last_12_day_sales'].iloc[i*151+12:i*151+151] = Y_flat['sales'].iloc[i*151:i*151+139].as_matrix()\n",
    "    X_flat['last_13_day_sales'].iloc[i*151+13:i*151+151] = Y_flat['sales'].iloc[i*151:i*151+138].as_matrix()\n",
    "    X_flat['last_14_day_sales'].iloc[i*151+14:i*151+151] = Y_flat['sales'].iloc[i*151:i*151+137].as_matrix()\n",
    "    X_flat['last_15_day_sales'].iloc[i*151+15:i*151+151] = Y_flat['sales'].iloc[i*151:i*151+136].as_matrix()\n",
    "    X_flat['last_16_day_sales'].iloc[i*151+16:i*151+151] = Y_flat['sales'].iloc[i*151:i*151+135].as_matrix()\n",
    "    X_flat['last_17_day_sales'].iloc[i*151+17:i*151+151] = Y_flat['sales'].iloc[i*151:i*151+134].as_matrix()\n",
    "    X_flat['last_18_day_sales'].iloc[i*151+18:i*151+151] = Y_flat['sales'].iloc[i*151:i*151+133].as_matrix()\n",
    "    X_flat['last_19_day_sales'].iloc[i*151+19:i*151+151] = Y_flat['sales'].iloc[i*151:i*151+132].as_matrix()\n",
    "    X_flat['last_20_day_sales'].iloc[i*151+20:i*151+151] = Y_flat['sales'].iloc[i*151:i*151+131].as_matrix()\n",
    "    X_flat['last_21_day_sales'].iloc[i*151+21:i*151+151] = Y_flat['sales'].iloc[i*151:i*151+130].as_matrix()\n",
    "    X_flat['last_22_day_sales'].iloc[i*151+22:i*151+151] = Y_flat['sales'].iloc[i*151:i*151+129].as_matrix()\n",
    "    X_flat['last_23_day_sales'].iloc[i*151+23:i*151+151] = Y_flat['sales'].iloc[i*151:i*151+128].as_matrix()\n",
    "    X_flat['last_24_day_sales'].iloc[i*151+24:i*151+151] = Y_flat['sales'].iloc[i*151:i*151+127].as_matrix()\n",
    "    X_flat['last_25_day_sales'].iloc[i*151+25:i*151+151] = Y_flat['sales'].iloc[i*151:i*151+126].as_matrix()\n",
    "    X_flat['last_26_day_sales'].iloc[i*151+26:i*151+151] = Y_flat['sales'].iloc[i*151:i*151+125].as_matrix()\n",
    "    X_flat['last_27_day_sales'].iloc[i*151+27:i*151+151] = Y_flat['sales'].iloc[i*151:i*151+124].as_matrix()\n",
    "    X_flat['last_28_day_sales'].iloc[i*151+28:i*151+151] = Y_flat['sales'].iloc[i*151:i*151+123].as_matrix()\n",
    "    \n",
    "    if i%128 == 0:\n",
    "        print('{} products finished'.format(str(i)))"
   ]
  },
  {
   "cell_type": "code",
   "execution_count": 40,
   "metadata": {},
   "outputs": [
    {
     "name": "stdout",
     "output_type": "stream",
     "text": [
      "           key  pid_x size_x    color   brand    rrp  mainCategory  category  \\\n456322  12985L  12985      L  schwarz  adidas  48.19             1         7   \n456323  12985L  12985      L  schwarz  adidas  48.19             1         7   \n456324  12985L  12985      L  schwarz  adidas  48.19             1         7   \n456325  12985L  12985      L  schwarz  adidas  48.19             1         7   \n456326  12985L  12985      L  schwarz  adidas  48.19             1         7   \n456327  12985L  12985      L  schwarz  adidas  48.19             1         7   \n456328  12985L  12985      L  schwarz  adidas  48.19             1         7   \n456329  12985L  12985      L  schwarz  adidas  48.19             1         7   \n456330  12985L  12985      L  schwarz  adidas  48.19             1         7   \n456331  12985L  12985      L  schwarz  adidas  48.19             1         7   \n456332  12985L  12985      L  schwarz  adidas  48.19             1         7   \n456333  12985L  12985      L  schwarz  adidas  48.19             1         7   \n456334  12985L  12985      L  schwarz  adidas  48.19             1         7   \n456335  12985L  12985      L  schwarz  adidas  48.19             1         7   \n456336  12985L  12985      L  schwarz  adidas  48.19             1         7   \n456337  12985L  12985      L  schwarz  adidas  48.19             1         7   \n456338  12985L  12985      L  schwarz  adidas  48.19             1         7   \n456339  12985L  12985      L  schwarz  adidas  48.19             1         7   \n456340  12985L  12985      L  schwarz  adidas  48.19             1         7   \n456341  12985L  12985      L  schwarz  adidas  48.19             1         7   \n456342  12985L  12985      L  schwarz  adidas  48.19             1         7   \n456343  12985L  12985      L  schwarz  adidas  48.19             1         7   \n456344  12985L  12985      L  schwarz  adidas  48.19             1         7   \n456345  12985L  12985      L  schwarz  adidas  48.19             1         7   \n456346  12985L  12985      L  schwarz  adidas  48.19             1         7   \n456347  12985L  12985      L  schwarz  adidas  48.19             1         7   \n456348  12985L  12985      L  schwarz  adidas  48.19             1         7   \n456349  12985L  12985      L  schwarz  adidas  48.19             1         7   \n456350  12985L  12985      L  schwarz  adidas  48.19             1         7   \n456351  12985L  12985      L  schwarz  adidas  48.19             1         7   \n...        ...    ...    ...      ...     ...    ...           ...       ...   \n456443  12985L  12985      L  schwarz  adidas  48.19             1         7   \n456444  12985L  12985      L  schwarz  adidas  48.19             1         7   \n456445  12985L  12985      L  schwarz  adidas  48.19             1         7   \n456446  12985L  12985      L  schwarz  adidas  48.19             1         7   \n456447  12985L  12985      L  schwarz  adidas  48.19             1         7   \n456448  12985L  12985      L  schwarz  adidas  48.19             1         7   \n456449  12985L  12985      L  schwarz  adidas  48.19             1         7   \n456450  12985L  12985      L  schwarz  adidas  48.19             1         7   \n456451  12985L  12985      L  schwarz  adidas  48.19             1         7   \n456452  12985L  12985      L  schwarz  adidas  48.19             1         7   \n456453  12985L  12985      L  schwarz  adidas  48.19             1         7   \n456454  12985L  12985      L  schwarz  adidas  48.19             1         7   \n456455  12985L  12985      L  schwarz  adidas  48.19             1         7   \n456456  12985L  12985      L  schwarz  adidas  48.19             1         7   \n456457  12985L  12985      L  schwarz  adidas  48.19             1         7   \n456458  12985L  12985      L  schwarz  adidas  48.19             1         7   \n456459  12985L  12985      L  schwarz  adidas  48.19             1         7   \n456460  12985L  12985      L  schwarz  adidas  48.19             1         7   \n456461  12985L  12985      L  schwarz  adidas  48.19             1         7   \n456462  12985L  12985      L  schwarz  adidas  48.19             1         7   \n456463  12985L  12985      L  schwarz  adidas  48.19             1         7   \n456464  12985L  12985      L  schwarz  adidas  48.19             1         7   \n456465  12985L  12985      L  schwarz  adidas  48.19             1         7   \n456466  12985L  12985      L  schwarz  adidas  48.19             1         7   \n456467  12985L  12985      L  schwarz  adidas  48.19             1         7   \n456468  12985L  12985      L  schwarz  adidas  48.19             1         7   \n456469  12985L  12985      L  schwarz  adidas  48.19             1         7   \n456470  12985L  12985      L  schwarz  adidas  48.19             1         7   \n456471  12985L  12985      L  schwarz  adidas  48.19             1         7   \n456472  12985L  12985      L  schwarz  adidas  48.19             1         7   \n\n        subCategory releaseDate        ...         last_19_day_sales  \\\n456322         16.0  2017-10-01        ...                       0.0   \n456323         16.0  2017-10-01        ...                       0.0   \n456324         16.0  2017-10-01        ...                       0.0   \n456325         16.0  2017-10-01        ...                       0.0   \n456326         16.0  2017-10-01        ...                       0.0   \n456327         16.0  2017-10-01        ...                       0.0   \n456328         16.0  2017-10-01        ...                       0.0   \n456329         16.0  2017-10-01        ...                       0.0   \n456330         16.0  2017-10-01        ...                       0.0   \n456331         16.0  2017-10-01        ...                       0.0   \n456332         16.0  2017-10-01        ...                       0.0   \n456333         16.0  2017-10-01        ...                       0.0   \n456334         16.0  2017-10-01        ...                       0.0   \n456335         16.0  2017-10-01        ...                       0.0   \n456336         16.0  2017-10-01        ...                       0.0   \n456337         16.0  2017-10-01        ...                       0.0   \n456338         16.0  2017-10-01        ...                       0.0   \n456339         16.0  2017-10-01        ...                       0.0   \n456340         16.0  2017-10-01        ...                       0.0   \n456341         16.0  2017-10-01        ...                      26.0   \n456342         16.0  2017-10-01        ...                      20.0   \n456343         16.0  2017-10-01        ...                      71.0   \n456344         16.0  2017-10-01        ...                      37.0   \n456345         16.0  2017-10-01        ...                      22.0   \n456346         16.0  2017-10-01        ...                      13.0   \n456347         16.0  2017-10-01        ...                      14.0   \n456348         16.0  2017-10-01        ...                      28.0   \n456349         16.0  2017-10-01        ...                      20.0   \n456350         16.0  2017-10-01        ...                      20.0   \n456351         16.0  2017-10-01        ...                      32.0   \n...             ...         ...        ...                       ...   \n456443         16.0  2017-10-01        ...                      45.0   \n456444         16.0  2017-10-01        ...                      29.0   \n456445         16.0  2017-10-01        ...                      25.0   \n456446         16.0  2017-10-01        ...                      25.0   \n456447         16.0  2017-10-01        ...                      37.0   \n456448         16.0  2017-10-01        ...                      32.0   \n456449         16.0  2017-10-01        ...                      28.0   \n456450         16.0  2017-10-01        ...                      35.0   \n456451         16.0  2017-10-01        ...                      26.0   \n456452         16.0  2017-10-01        ...                      26.0   \n456453         16.0  2017-10-01        ...                      24.0   \n456454         16.0  2017-10-01        ...                      58.0   \n456455         16.0  2017-10-01        ...                      60.0   \n456456         16.0  2017-10-01        ...                      49.0   \n456457         16.0  2017-10-01        ...                      35.0   \n456458         16.0  2017-10-01        ...                      18.0   \n456459         16.0  2017-10-01        ...                      19.0   \n456460         16.0  2017-10-01        ...                      27.0   \n456461         16.0  2017-10-01        ...                      30.0   \n456462         16.0  2017-10-01        ...                      47.0   \n456463         16.0  2017-10-01        ...                      82.0   \n456464         16.0  2017-10-01        ...                       NaN   \n456465         16.0  2017-10-01        ...                       NaN   \n456466         16.0  2017-10-01        ...                       NaN   \n456467         16.0  2017-10-01        ...                       NaN   \n456468         16.0  2017-10-01        ...                       NaN   \n456469         16.0  2017-10-01        ...                       NaN   \n456470         16.0  2017-10-01        ...                       NaN   \n456471         16.0  2017-10-01        ...                       NaN   \n456472         16.0  2017-10-01        ...                       NaN   \n\n        last_20_day_sales  last_21_day_sales  last_22_day_sales  \\\n456322                0.0                0.0                0.0   \n456323                0.0                0.0                0.0   \n456324                0.0                0.0                0.0   \n456325                0.0                0.0                0.0   \n456326                0.0                0.0                0.0   \n456327                0.0                0.0                0.0   \n456328                0.0                0.0                0.0   \n456329                0.0                0.0                0.0   \n456330                0.0                0.0                0.0   \n456331                0.0                0.0                0.0   \n456332                0.0                0.0                0.0   \n456333                0.0                0.0                0.0   \n456334                0.0                0.0                0.0   \n456335                0.0                0.0                0.0   \n456336                0.0                0.0                0.0   \n456337                0.0                0.0                0.0   \n456338                0.0                0.0                0.0   \n456339                0.0                0.0                0.0   \n456340                0.0                0.0                0.0   \n456341                0.0                0.0                0.0   \n456342               26.0                0.0                0.0   \n456343               20.0               26.0                0.0   \n456344               71.0               20.0               26.0   \n456345               37.0               71.0               20.0   \n456346               22.0               37.0               71.0   \n456347               13.0               22.0               37.0   \n456348               14.0               13.0               22.0   \n456349               28.0               14.0               13.0   \n456350               20.0               28.0               14.0   \n456351               20.0               20.0               28.0   \n...                   ...                ...                ...   \n456443               26.0               31.0               31.0   \n456444               45.0               26.0               31.0   \n456445               29.0               45.0               26.0   \n456446               25.0               29.0               45.0   \n456447               25.0               25.0               29.0   \n456448               37.0               25.0               25.0   \n456449               32.0               37.0               25.0   \n456450               28.0               32.0               37.0   \n456451               35.0               28.0               32.0   \n456452               26.0               35.0               28.0   \n456453               26.0               26.0               35.0   \n456454               24.0               26.0               26.0   \n456455               58.0               24.0               26.0   \n456456               60.0               58.0               24.0   \n456457               49.0               60.0               58.0   \n456458               35.0               49.0               60.0   \n456459               18.0               35.0               49.0   \n456460               19.0               18.0               35.0   \n456461               27.0               19.0               18.0   \n456462               30.0               27.0               19.0   \n456463               47.0               30.0               27.0   \n456464               82.0               47.0               30.0   \n456465                NaN               82.0               47.0   \n456466                NaN                NaN               82.0   \n456467                NaN                NaN                NaN   \n456468                NaN                NaN                NaN   \n456469                NaN                NaN                NaN   \n456470                NaN                NaN                NaN   \n456471                NaN                NaN                NaN   \n456472                NaN                NaN                NaN   \n\n        last_23_day_sales  last_24_day_sales  last_25_day_sales  \\\n456322                0.0                0.0                0.0   \n456323                0.0                0.0                0.0   \n456324                0.0                0.0                0.0   \n456325                0.0                0.0                0.0   \n456326                0.0                0.0                0.0   \n456327                0.0                0.0                0.0   \n456328                0.0                0.0                0.0   \n456329                0.0                0.0                0.0   \n456330                0.0                0.0                0.0   \n456331                0.0                0.0                0.0   \n456332                0.0                0.0                0.0   \n456333                0.0                0.0                0.0   \n456334                0.0                0.0                0.0   \n456335                0.0                0.0                0.0   \n456336                0.0                0.0                0.0   \n456337                0.0                0.0                0.0   \n456338                0.0                0.0                0.0   \n456339                0.0                0.0                0.0   \n456340                0.0                0.0                0.0   \n456341                0.0                0.0                0.0   \n456342                0.0                0.0                0.0   \n456343                0.0                0.0                0.0   \n456344                0.0                0.0                0.0   \n456345               26.0                0.0                0.0   \n456346               20.0               26.0                0.0   \n456347               71.0               20.0               26.0   \n456348               37.0               71.0               20.0   \n456349               22.0               37.0               71.0   \n456350               13.0               22.0               37.0   \n456351               14.0               13.0               22.0   \n...                   ...                ...                ...   \n456443               37.0               31.0               12.0   \n456444               31.0               37.0               31.0   \n456445               31.0               31.0               37.0   \n456446               26.0               31.0               31.0   \n456447               45.0               26.0               31.0   \n456448               29.0               45.0               26.0   \n456449               25.0               29.0               45.0   \n456450               25.0               25.0               29.0   \n456451               37.0               25.0               25.0   \n456452               32.0               37.0               25.0   \n456453               28.0               32.0               37.0   \n456454               35.0               28.0               32.0   \n456455               26.0               35.0               28.0   \n456456               26.0               26.0               35.0   \n456457               24.0               26.0               26.0   \n456458               58.0               24.0               26.0   \n456459               60.0               58.0               24.0   \n456460               49.0               60.0               58.0   \n456461               35.0               49.0               60.0   \n456462               18.0               35.0               49.0   \n456463               19.0               18.0               35.0   \n456464               27.0               19.0               18.0   \n456465               30.0               27.0               19.0   \n456466               47.0               30.0               27.0   \n456467               82.0               47.0               30.0   \n456468                NaN               82.0               47.0   \n456469                NaN                NaN               82.0   \n456470                NaN                NaN                NaN   \n456471                NaN                NaN                NaN   \n456472                NaN                NaN                NaN   \n\n        last_26_day_sales  last_27_day_sales  last_28_day_sales  \n456322                0.0                0.0                0.0  \n456323                0.0                0.0                0.0  \n456324                0.0                0.0                0.0  \n456325                0.0                0.0                0.0  \n456326                0.0                0.0                0.0  \n456327                0.0                0.0                0.0  \n456328                0.0                0.0                0.0  \n456329                0.0                0.0                0.0  \n456330                0.0                0.0                0.0  \n456331                0.0                0.0                0.0  \n456332                0.0                0.0                0.0  \n456333                0.0                0.0                0.0  \n456334                0.0                0.0                0.0  \n456335                0.0                0.0                0.0  \n456336                0.0                0.0                0.0  \n456337                0.0                0.0                0.0  \n456338                0.0                0.0                0.0  \n456339                0.0                0.0                0.0  \n456340                0.0                0.0                0.0  \n456341                0.0                0.0                0.0  \n456342                0.0                0.0                0.0  \n456343                0.0                0.0                0.0  \n456344                0.0                0.0                0.0  \n456345                0.0                0.0                0.0  \n456346                0.0                0.0                0.0  \n456347                0.0                0.0                0.0  \n456348               26.0                0.0                0.0  \n456349               20.0               26.0                0.0  \n456350               71.0               20.0               26.0  \n456351               37.0               71.0               20.0  \n...                   ...                ...                ...  \n456443               19.0               26.0               24.0  \n456444               12.0               19.0               26.0  \n456445               31.0               12.0               19.0  \n456446               37.0               31.0               12.0  \n456447               31.0               37.0               31.0  \n456448               31.0               31.0               37.0  \n456449               26.0               31.0               31.0  \n456450               45.0               26.0               31.0  \n456451               29.0               45.0               26.0  \n456452               25.0               29.0               45.0  \n456453               25.0               25.0               29.0  \n456454               37.0               25.0               25.0  \n456455               32.0               37.0               25.0  \n456456               28.0               32.0               37.0  \n456457               35.0               28.0               32.0  \n456458               26.0               35.0               28.0  \n456459               26.0               26.0               35.0  \n456460               24.0               26.0               26.0  \n456461               58.0               24.0               26.0  \n456462               60.0               58.0               24.0  \n456463               49.0               60.0               58.0  \n456464               35.0               49.0               60.0  \n456465               18.0               35.0               49.0  \n456466               19.0               18.0               35.0  \n456467               27.0               19.0               18.0  \n456468               30.0               27.0               19.0  \n456469               47.0               30.0               27.0  \n456470               82.0               47.0               30.0  \n456471                NaN               82.0               47.0  \n456472                NaN                NaN               82.0  \n\n[151 rows x 40 columns]\n"
     ]
    }
   ],
   "source": [
    "# Check 1 result if implementation above is correct\n",
    "product = 3022\n",
    "print(X_flat.iloc[product*151:product*151+151]) # Check values for sampled product\n",
    "X_flat.iloc[product*151:product*151+151].to_csv('./data/clean/flat_sample_{}.csv'.format(str(product)))"
   ]
  },
  {
   "cell_type": "code",
   "execution_count": 41,
   "metadata": {
    "collapsed": true
   },
   "outputs": [],
   "source": [
    "def is_eleventh(row):\n",
    "    if row['date'][-2:] == '11':\n",
    "        return 1\n",
    "    else: \n",
    "        return 0\n",
    "\n",
    "X_flat['is_eleventh'] = X_flat.apply(is_eleventh, axis=1)"
   ]
  },
  {
   "cell_type": "code",
   "execution_count": 42,
   "metadata": {
    "collapsed": true
   },
   "outputs": [],
   "source": [
    "def is_crazy_day(row):\n",
    "    if row['date'] == '2017-11-24': # Black Friday\n",
    "        return 1\n",
    "    return 0\n",
    "\n",
    "X_flat['is_crazy_day'] = X_flat.apply(is_crazy_day, axis=1)"
   ]
  },
  {
   "cell_type": "code",
   "execution_count": 43,
   "metadata": {
    "collapsed": true
   },
   "outputs": [],
   "source": [
    "# One-hot encoding days of week\n",
    "X_flat['day_of_week'] = pd.to_datetime(X_flat['date']).dt.weekday_name"
   ]
  },
  {
   "cell_type": "code",
   "execution_count": 44,
   "metadata": {
    "collapsed": true
   },
   "outputs": [],
   "source": [
    "days = pd.get_dummies(X_flat['day_of_week'], prefix='day')\n",
    "X_flat = X_flat.join(days)"
   ]
  },
  {
   "cell_type": "code",
   "execution_count": 45,
   "metadata": {
    "collapsed": true
   },
   "outputs": [],
   "source": [
    "X_flat['days_since_release'] = (pd.to_datetime(X_flat['date']) - pd.to_datetime(X_flat['releaseDate'])).dt.days"
   ]
  },
  {
   "cell_type": "code",
   "execution_count": 46,
   "metadata": {
    "collapsed": true
   },
   "outputs": [],
   "source": [
    "X_flat['price_diff'] = X_flat['price'] - X_flat['rrp']"
   ]
  },
  {
   "cell_type": "code",
   "execution_count": 47,
   "metadata": {
    "collapsed": true
   },
   "outputs": [],
   "source": [
    "# One-hot encoding everything else except sub-category (too many of them)\n",
    "colors = pd.get_dummies(X_flat['color'], prefix='color')\n",
    "brands = pd.get_dummies(X_flat['brand'], prefix='brand')\n",
    "main_cats = pd.get_dummies(X_flat['mainCategory'], prefix='maincat')\n",
    "cats = pd.get_dummies(X_flat['category'], prefix='cat')\n",
    "sub_cats = pd.get_dummies(X_flat['subCategory'], prefix='subcat')\n",
    "\n",
    "X_flat = X_flat.join(colors)\n",
    "X_flat = X_flat.join(brands)\n",
    "X_flat = X_flat.join(main_cats)\n",
    "X_flat = X_flat.join(cats)"
   ]
  },
  {
   "cell_type": "code",
   "execution_count": 48,
   "metadata": {
    "collapsed": true
   },
   "outputs": [],
   "source": [
    "def marketing_activity(row):\n",
    "    marketingactivities = ['2017-10-11','2017-10-16','2017-11-04','2017-11-11','2017-11-23','2017-11-24', \n",
    "                           '2017-11-25','2017-11-27','2017-12-03','2017-12-27','2017-12-28','2017-12-31', \n",
    "                           '2018-01-14','2018-01-22','2018-01-23','2018-01-30','2018-02-06','2018-02-07', \n",
    "                           '2018-02-20','2018-02-22','2018-02-23']\n",
    "    if row['date'] in marketingactivities:\n",
    "        return 1\n",
    "    else:\n",
    "        return 0\n",
    "    \n",
    "X_flat['marketing_activity'] = X_flat.apply(marketing_activity, axis=1)"
   ]
  },
  {
   "cell_type": "code",
   "execution_count": 49,
   "metadata": {},
   "outputs": [
    {
     "data": {
      "text/plain": [
       "Index(['key', 'pid_x', 'size_x', 'color', 'brand', 'rrp', 'mainCategory',\n       'category', 'subCategory', 'releaseDate',\n       ...\n       'cat_7', 'cat_10', 'cat_16', 'cat_18', 'cat_24', 'cat_30', 'cat_33',\n       'cat_36', 'cat_37', 'marketing_activity'],\n      dtype='object', length=108)"
      ]
     },
     "execution_count": 49,
     "metadata": {},
     "output_type": "execute_result"
    }
   ],
   "source": [
    "X_flat.columns"
   ]
  },
  {
   "cell_type": "markdown",
   "metadata": {},
   "source": [
    "# Dump data files to directory"
   ]
  },
  {
   "cell_type": "code",
   "execution_count": 50,
   "metadata": {},
   "outputs": [],
   "source": [
    "# Dump to pickle\n",
    "pickle.dump(X_flat, open('./data/clean/X_flat_final.pkl', 'wb'))\n",
    "pickle.dump(Y_flat, open('./data/clean/Y_flat_final.pkl', 'wb'))\n",
    "# Read the file later by: X_flat = pickle.load(open('path/to/X_flat.pkl', \"rb\"))"
   ]
  },
  {
   "cell_type": "code",
   "execution_count": null,
   "metadata": {},
   "outputs": [],
   "source": []
  }
 ],
 "metadata": {
  "kernelspec": {
   "display_name": "Python 3",
   "language": "python",
   "name": "python3"
  },
  "language_info": {
   "codemirror_mode": {
    "name": "ipython",
    "version": 3
   },
   "file_extension": ".py",
   "mimetype": "text/x-python",
   "name": "python",
   "nbconvert_exporter": "python",
   "pygments_lexer": "ipython3",
   "version": "3.6.4"
  }
 },
 "nbformat": 4,
 "nbformat_minor": 1
}
