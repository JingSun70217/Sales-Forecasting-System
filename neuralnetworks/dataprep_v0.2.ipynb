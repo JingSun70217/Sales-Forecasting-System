{
 "cells": [
  {
   "cell_type": "code",
   "execution_count": 1,
   "metadata": {
    "collapsed": true
   },
   "outputs": [],
   "source": [
    "import pandas as pd\n",
    "import os\n",
    "import pickle\n",
    "\n",
    "from measures import wrangling"
   ]
  },
  {
   "cell_type": "markdown",
   "metadata": {},
   "source": [
    "# Import dataset and flatten for neural network input"
   ]
  },
  {
   "cell_type": "code",
   "execution_count": 2,
   "metadata": {
    "collapsed": true
   },
   "outputs": [],
   "source": [
    "dataset = pd.read_csv('./data/clean/data_v0.1.csv', header=0)"
   ]
  },
  {
   "cell_type": "code",
   "execution_count": 3,
   "metadata": {
    "collapsed": true
   },
   "outputs": [],
   "source": [
    "cols = pd.DataFrame([dataset.columns.tolist()])\n",
    "cols.to_csv('./data/clean/data_v0.1_columns.csv')"
   ]
  },
  {
   "cell_type": "code",
   "execution_count": 4,
   "metadata": {},
   "outputs": [
    {
     "name": "stdout",
     "output_type": "stream",
     "text": [
      "Index(['key', 'pid_x', 'size_x', 'color', 'brand', 'rrp', 'mainCategory',\n       'category', 'subCategory', 'stock',\n       ...\n       '2018-01-22_sales', '2018-01-23_sales', '2018-01-24_sales',\n       '2018-01-25_sales', '2018-01-26_sales', '2018-01-27_sales',\n       '2018-01-28_sales', '2018-01-29_sales', '2018-01-30_sales',\n       '2018-01-31_sales'],\n      dtype='object', length=257)\n"
     ]
    }
   ],
   "source": [
    "# Drop February price-columns\n",
    "dataset = wrangling.remove_price_cols(dataset, '2018-02-01', '2018-02-28')\n",
    "print(dataset.columns)"
   ]
  },
  {
   "cell_type": "code",
   "execution_count": 5,
   "metadata": {},
   "outputs": [],
   "source": [
    "# Separate Y labels from X variables\n",
    "Y_dataset = wrangling.sales_cols(dataset, '2017-10-01', '2018-01-31') \n",
    "X_dataset = wrangling.remove_sales_cols(dataset, '2017-10-01', '2018-01-31')"
   ]
  },
  {
   "cell_type": "code",
   "execution_count": 6,
   "metadata": {},
   "outputs": [
    {
     "name": "stdout",
     "output_type": "stream",
     "text": [
      "Index(['key', 'pid_x', 'size_x', 'color', 'brand', 'rrp', 'mainCategory',\n       'category', 'subCategory', 'releaseDate',\n       ...\n       '2018-01-22_price', '2018-01-23_price', '2018-01-24_price',\n       '2018-01-25_price', '2018-01-26_price', '2018-01-27_price',\n       '2018-01-28_price', '2018-01-29_price', '2018-01-30_price',\n       '2018-01-31_price'],\n      dtype='object', length=133)\n"
     ]
    }
   ],
   "source": [
    "X_dataset = X_dataset.drop('stock', axis=1)\n",
    "print(X_dataset.columns)"
   ]
  },
  {
   "cell_type": "code",
   "execution_count": 7,
   "metadata": {},
   "outputs": [
    {
     "name": "stdout",
     "output_type": "stream",
     "text": [
      "(1577352, 12)\n            key  pid_x size_x color   brand     rrp  mainCategory  category  \\\n1577347  22881S  22881      S  grau  adidas  139.63             1         7   \n1577348  22881S  22881      S  grau  adidas  139.63             1         7   \n1577349  22881S  22881      S  grau  adidas  139.63             1         7   \n1577350  22881S  22881      S  grau  adidas  139.63             1         7   \n1577351  22881S  22881      S  grau  adidas  139.63             1         7   \n\n         subCategory releaseDate              date   price  \n1577347         31.0  2017-10-01  2018-01-27_price  104.72  \n1577348         31.0  2017-10-01  2018-01-28_price  104.72  \n1577349         31.0  2017-10-01  2018-01-29_price  104.72  \n1577350         31.0  2017-10-01  2018-01-30_price  104.72  \n1577351         31.0  2017-10-01  2018-01-31_price  104.72  \n"
     ]
    }
   ],
   "source": [
    "# Flatten X so that each row is 1 day; we expect 12,824*123 = 1,577,352 rows as result\n",
    "cols = ['key', 'pid_x', 'size_x', 'color', 'brand', 'rrp', 'mainCategory', 'category', 'subCategory', 'releaseDate']\n",
    "X_flat = pd.melt(X_dataset, id_vars=cols, var_name='date', value_name='price')\n",
    "X_flat = X_flat.sort_values(['key', 'date']).reset_index(drop=True)\n",
    "print(X_flat.shape)\n",
    "print(X_flat.tail()) # Quick check of the result"
   ]
  },
  {
   "cell_type": "code",
   "execution_count": 8,
   "metadata": {},
   "outputs": [
    {
     "name": "stdout",
     "output_type": "stream",
     "text": [
      "(1577352, 3)\n            key              date  sales\n1577347  22881S  2018-01-27_sales    0.0\n1577348  22881S  2018-01-28_sales    0.0\n1577349  22881S  2018-01-29_sales    0.0\n1577350  22881S  2018-01-30_sales    1.0\n1577351  22881S  2018-01-31_sales    1.0\n"
     ]
    }
   ],
   "source": [
    "# Flatten Y similarly, so that the rows of Y correspond to that of X\n",
    "Y_flat = pd.melt(Y_dataset, id_vars='key', var_name='date', value_name='sales')\n",
    "Y_flat = Y_flat.sort_values(['key', 'date']).reset_index(drop=True)\n",
    "print(Y_flat.shape)\n",
    "print(Y_flat.tail())"
   ]
  },
  {
   "cell_type": "markdown",
   "metadata": {},
   "source": [
    "# Cleaning data"
   ]
  },
  {
   "cell_type": "code",
   "execution_count": 9,
   "metadata": {
    "collapsed": true
   },
   "outputs": [],
   "source": [
    "# Clean 'date' columns to keep only YYYY-MM-DD part\n",
    "X_flat['date'] = X_flat['date'].str[0:10]\n",
    "Y_flat['date'] = Y_flat['date'].str[0:10]"
   ]
  },
  {
   "cell_type": "code",
   "execution_count": 10,
   "metadata": {
    "collapsed": true
   },
   "outputs": [],
   "source": [
    "X_flat['subCategory'] = X_flat['subCategory'].fillna(0) # Fill blank sub-category with 0\n",
    "X_flat['size_x'] = X_flat['size_x'].fillna('NA') # Fill blank sizes with 'NA' string\n",
    "X_flat['price'] = X_flat['price'].fillna(method='bfill') # Fill blank prices with earliest given price"
   ]
  },
  {
   "cell_type": "markdown",
   "metadata": {},
   "source": [
    "# Feature engineering"
   ]
  },
  {
   "cell_type": "code",
   "execution_count": 11,
   "metadata": {},
   "outputs": [
    {
     "name": "stdout",
     "output_type": "stream",
     "text": [
      "                   key  pid_x          size_x  color brand    rrp  \\\n0  10000XL ( 158-170 )  10000  XL ( 158-170 )  gruen  Nike  25.33   \n1  10000XL ( 158-170 )  10000  XL ( 158-170 )  gruen  Nike  25.33   \n2  10000XL ( 158-170 )  10000  XL ( 158-170 )  gruen  Nike  25.33   \n3  10000XL ( 158-170 )  10000  XL ( 158-170 )  gruen  Nike  25.33   \n4  10000XL ( 158-170 )  10000  XL ( 158-170 )  gruen  Nike  25.33   \n\n   mainCategory  category  subCategory releaseDate        date  price  \n0             1         7         25.0  2017-10-01  2017-10-01  18.99  \n1             1         7         25.0  2017-10-01  2017-10-02  18.99  \n2             1         7         25.0  2017-10-01  2017-10-03  18.99  \n3             1         7         25.0  2017-10-01  2017-10-04  18.99  \n4             1         7         25.0  2017-10-01  2017-10-05  18.99  \n"
     ]
    }
   ],
   "source": [
    "print(X_flat.head())"
   ]
  },
  {
   "cell_type": "code",
   "execution_count": 12,
   "metadata": {},
   "outputs": [],
   "source": [
    "# Add last N day's sales, up to 30 days\n",
    "X_flat['last_1_day_sales'] = 0\n",
    "X_flat['last_2_day_sales'] = 0\n",
    "X_flat['last_3_day_sales'] = 0\n",
    "X_flat['last_4_day_sales'] = 0\n",
    "X_flat['last_5_day_sales'] = 0\n",
    "X_flat['last_6_day_sales'] = 0\n",
    "X_flat['last_7_day_sales'] = 0\n",
    "X_flat['last_8_day_sales'] = 0\n",
    "X_flat['last_9_day_sales'] = 0\n",
    "X_flat['last_10_day_sales'] = 0\n",
    "X_flat['last_11_day_sales'] = 0\n",
    "X_flat['last_12_day_sales'] = 0\n",
    "X_flat['last_13_day_sales'] = 0\n",
    "X_flat['last_14_day_sales'] = 0\n",
    "X_flat['last_15_day_sales'] = 0\n",
    "X_flat['last_16_day_sales'] = 0\n",
    "X_flat['last_17_day_sales'] = 0\n",
    "X_flat['last_18_day_sales'] = 0\n",
    "X_flat['last_19_day_sales'] = 0\n",
    "X_flat['last_20_day_sales'] = 0\n",
    "X_flat['last_21_day_sales'] = 0\n",
    "X_flat['last_22_day_sales'] = 0\n",
    "X_flat['last_23_day_sales'] = 0\n",
    "X_flat['last_24_day_sales'] = 0\n",
    "X_flat['last_25_day_sales'] = 0\n",
    "X_flat['last_26_day_sales'] = 0\n",
    "X_flat['last_27_day_sales'] = 0\n",
    "X_flat['last_28_day_sales'] = 0"
   ]
  },
  {
   "cell_type": "code",
   "execution_count": 14,
   "metadata": {},
   "outputs": [
    {
     "name": "stderr",
     "output_type": "stream",
     "text": [
      "C:\\Users\\iamlcc\\datamining2\\venv\\lib\\site-packages\\pandas\\core\\indexing.py:194: SettingWithCopyWarning: \nA value is trying to be set on a copy of a slice from a DataFrame\n\nSee the caveats in the documentation: http://pandas.pydata.org/pandas-docs/stable/indexing.html#indexing-view-versus-copy\n  self._setitem_with_indexer(indexer, value)\n"
     ]
    },
    {
     "name": "stdout",
     "output_type": "stream",
     "text": [
      "0 products finished\n"
     ]
    },
    {
     "name": "stdout",
     "output_type": "stream",
     "text": [
      "128 products finished\n"
     ]
    },
    {
     "name": "stdout",
     "output_type": "stream",
     "text": [
      "256 products finished\n"
     ]
    },
    {
     "name": "stdout",
     "output_type": "stream",
     "text": [
      "384 products finished\n"
     ]
    },
    {
     "name": "stdout",
     "output_type": "stream",
     "text": [
      "512 products finished\n"
     ]
    },
    {
     "name": "stdout",
     "output_type": "stream",
     "text": [
      "640 products finished\n"
     ]
    },
    {
     "name": "stdout",
     "output_type": "stream",
     "text": [
      "768 products finished\n"
     ]
    },
    {
     "name": "stdout",
     "output_type": "stream",
     "text": [
      "896 products finished\n"
     ]
    },
    {
     "name": "stdout",
     "output_type": "stream",
     "text": [
      "1024 products finished\n"
     ]
    },
    {
     "name": "stdout",
     "output_type": "stream",
     "text": [
      "1152 products finished\n"
     ]
    },
    {
     "name": "stdout",
     "output_type": "stream",
     "text": [
      "1280 products finished\n"
     ]
    },
    {
     "name": "stdout",
     "output_type": "stream",
     "text": [
      "1408 products finished\n"
     ]
    },
    {
     "name": "stdout",
     "output_type": "stream",
     "text": [
      "1536 products finished\n"
     ]
    },
    {
     "name": "stdout",
     "output_type": "stream",
     "text": [
      "1664 products finished\n"
     ]
    },
    {
     "name": "stdout",
     "output_type": "stream",
     "text": [
      "1792 products finished\n"
     ]
    },
    {
     "name": "stdout",
     "output_type": "stream",
     "text": [
      "1920 products finished\n"
     ]
    },
    {
     "name": "stdout",
     "output_type": "stream",
     "text": [
      "2048 products finished\n"
     ]
    },
    {
     "name": "stdout",
     "output_type": "stream",
     "text": [
      "2176 products finished\n"
     ]
    },
    {
     "name": "stdout",
     "output_type": "stream",
     "text": [
      "2304 products finished\n"
     ]
    },
    {
     "name": "stdout",
     "output_type": "stream",
     "text": [
      "2432 products finished\n"
     ]
    },
    {
     "name": "stdout",
     "output_type": "stream",
     "text": [
      "2560 products finished\n"
     ]
    },
    {
     "name": "stdout",
     "output_type": "stream",
     "text": [
      "2688 products finished\n"
     ]
    },
    {
     "name": "stdout",
     "output_type": "stream",
     "text": [
      "2816 products finished\n"
     ]
    },
    {
     "name": "stdout",
     "output_type": "stream",
     "text": [
      "2944 products finished\n"
     ]
    },
    {
     "name": "stdout",
     "output_type": "stream",
     "text": [
      "3072 products finished\n"
     ]
    },
    {
     "name": "stdout",
     "output_type": "stream",
     "text": [
      "3200 products finished\n"
     ]
    },
    {
     "name": "stdout",
     "output_type": "stream",
     "text": [
      "3328 products finished\n"
     ]
    },
    {
     "name": "stdout",
     "output_type": "stream",
     "text": [
      "3456 products finished\n"
     ]
    },
    {
     "name": "stdout",
     "output_type": "stream",
     "text": [
      "3584 products finished\n"
     ]
    },
    {
     "name": "stdout",
     "output_type": "stream",
     "text": [
      "3712 products finished\n"
     ]
    },
    {
     "name": "stdout",
     "output_type": "stream",
     "text": [
      "3840 products finished\n"
     ]
    },
    {
     "name": "stdout",
     "output_type": "stream",
     "text": [
      "3968 products finished\n"
     ]
    },
    {
     "name": "stdout",
     "output_type": "stream",
     "text": [
      "4096 products finished\n"
     ]
    },
    {
     "name": "stdout",
     "output_type": "stream",
     "text": [
      "4224 products finished\n"
     ]
    },
    {
     "name": "stdout",
     "output_type": "stream",
     "text": [
      "4352 products finished\n"
     ]
    },
    {
     "name": "stdout",
     "output_type": "stream",
     "text": [
      "4480 products finished\n"
     ]
    },
    {
     "name": "stdout",
     "output_type": "stream",
     "text": [
      "4608 products finished\n"
     ]
    },
    {
     "name": "stdout",
     "output_type": "stream",
     "text": [
      "4736 products finished\n"
     ]
    },
    {
     "name": "stdout",
     "output_type": "stream",
     "text": [
      "4864 products finished\n"
     ]
    },
    {
     "name": "stdout",
     "output_type": "stream",
     "text": [
      "4992 products finished\n"
     ]
    },
    {
     "name": "stdout",
     "output_type": "stream",
     "text": [
      "5120 products finished\n"
     ]
    },
    {
     "name": "stdout",
     "output_type": "stream",
     "text": [
      "5248 products finished\n"
     ]
    },
    {
     "name": "stdout",
     "output_type": "stream",
     "text": [
      "5376 products finished\n"
     ]
    },
    {
     "name": "stdout",
     "output_type": "stream",
     "text": [
      "5504 products finished\n"
     ]
    },
    {
     "name": "stdout",
     "output_type": "stream",
     "text": [
      "5632 products finished\n"
     ]
    },
    {
     "name": "stdout",
     "output_type": "stream",
     "text": [
      "5760 products finished\n"
     ]
    },
    {
     "name": "stdout",
     "output_type": "stream",
     "text": [
      "5888 products finished\n"
     ]
    },
    {
     "name": "stdout",
     "output_type": "stream",
     "text": [
      "6016 products finished\n"
     ]
    },
    {
     "name": "stdout",
     "output_type": "stream",
     "text": [
      "6144 products finished\n"
     ]
    },
    {
     "name": "stdout",
     "output_type": "stream",
     "text": [
      "6272 products finished\n"
     ]
    },
    {
     "name": "stdout",
     "output_type": "stream",
     "text": [
      "6400 products finished\n"
     ]
    },
    {
     "name": "stdout",
     "output_type": "stream",
     "text": [
      "6528 products finished\n"
     ]
    },
    {
     "name": "stdout",
     "output_type": "stream",
     "text": [
      "6656 products finished\n"
     ]
    },
    {
     "name": "stdout",
     "output_type": "stream",
     "text": [
      "6784 products finished\n"
     ]
    },
    {
     "name": "stdout",
     "output_type": "stream",
     "text": [
      "6912 products finished\n"
     ]
    },
    {
     "name": "stdout",
     "output_type": "stream",
     "text": [
      "7040 products finished\n"
     ]
    },
    {
     "name": "stdout",
     "output_type": "stream",
     "text": [
      "7168 products finished\n"
     ]
    },
    {
     "name": "stdout",
     "output_type": "stream",
     "text": [
      "7296 products finished\n"
     ]
    },
    {
     "name": "stdout",
     "output_type": "stream",
     "text": [
      "7424 products finished\n"
     ]
    },
    {
     "name": "stdout",
     "output_type": "stream",
     "text": [
      "7552 products finished\n"
     ]
    },
    {
     "name": "stdout",
     "output_type": "stream",
     "text": [
      "7680 products finished\n"
     ]
    },
    {
     "name": "stdout",
     "output_type": "stream",
     "text": [
      "7808 products finished\n"
     ]
    },
    {
     "name": "stdout",
     "output_type": "stream",
     "text": [
      "7936 products finished\n"
     ]
    },
    {
     "name": "stdout",
     "output_type": "stream",
     "text": [
      "8064 products finished\n"
     ]
    },
    {
     "name": "stdout",
     "output_type": "stream",
     "text": [
      "8192 products finished\n"
     ]
    },
    {
     "name": "stdout",
     "output_type": "stream",
     "text": [
      "8320 products finished\n"
     ]
    },
    {
     "name": "stdout",
     "output_type": "stream",
     "text": [
      "8448 products finished\n"
     ]
    },
    {
     "name": "stdout",
     "output_type": "stream",
     "text": [
      "8576 products finished\n"
     ]
    },
    {
     "name": "stdout",
     "output_type": "stream",
     "text": [
      "8704 products finished\n"
     ]
    },
    {
     "name": "stdout",
     "output_type": "stream",
     "text": [
      "8832 products finished\n"
     ]
    },
    {
     "name": "stdout",
     "output_type": "stream",
     "text": [
      "8960 products finished\n"
     ]
    },
    {
     "name": "stdout",
     "output_type": "stream",
     "text": [
      "9088 products finished\n"
     ]
    },
    {
     "name": "stdout",
     "output_type": "stream",
     "text": [
      "9216 products finished\n"
     ]
    },
    {
     "name": "stdout",
     "output_type": "stream",
     "text": [
      "9344 products finished\n"
     ]
    },
    {
     "name": "stdout",
     "output_type": "stream",
     "text": [
      "9472 products finished\n"
     ]
    },
    {
     "name": "stdout",
     "output_type": "stream",
     "text": [
      "9600 products finished\n"
     ]
    },
    {
     "name": "stdout",
     "output_type": "stream",
     "text": [
      "9728 products finished\n"
     ]
    },
    {
     "name": "stdout",
     "output_type": "stream",
     "text": [
      "9856 products finished\n"
     ]
    },
    {
     "name": "stdout",
     "output_type": "stream",
     "text": [
      "9984 products finished\n"
     ]
    },
    {
     "name": "stdout",
     "output_type": "stream",
     "text": [
      "10112 products finished\n"
     ]
    },
    {
     "name": "stdout",
     "output_type": "stream",
     "text": [
      "10240 products finished\n"
     ]
    },
    {
     "name": "stdout",
     "output_type": "stream",
     "text": [
      "10368 products finished\n"
     ]
    },
    {
     "name": "stdout",
     "output_type": "stream",
     "text": [
      "10496 products finished\n"
     ]
    },
    {
     "name": "stdout",
     "output_type": "stream",
     "text": [
      "10624 products finished\n"
     ]
    },
    {
     "name": "stdout",
     "output_type": "stream",
     "text": [
      "10752 products finished\n"
     ]
    },
    {
     "name": "stdout",
     "output_type": "stream",
     "text": [
      "10880 products finished\n"
     ]
    },
    {
     "name": "stdout",
     "output_type": "stream",
     "text": [
      "11008 products finished\n"
     ]
    },
    {
     "name": "stdout",
     "output_type": "stream",
     "text": [
      "11136 products finished\n"
     ]
    },
    {
     "name": "stdout",
     "output_type": "stream",
     "text": [
      "11264 products finished\n"
     ]
    },
    {
     "name": "stdout",
     "output_type": "stream",
     "text": [
      "11392 products finished\n"
     ]
    },
    {
     "name": "stdout",
     "output_type": "stream",
     "text": [
      "11520 products finished\n"
     ]
    },
    {
     "name": "stdout",
     "output_type": "stream",
     "text": [
      "11648 products finished\n"
     ]
    },
    {
     "name": "stdout",
     "output_type": "stream",
     "text": [
      "11776 products finished\n"
     ]
    },
    {
     "name": "stdout",
     "output_type": "stream",
     "text": [
      "11904 products finished\n"
     ]
    },
    {
     "name": "stdout",
     "output_type": "stream",
     "text": [
      "12032 products finished\n"
     ]
    },
    {
     "name": "stdout",
     "output_type": "stream",
     "text": [
      "12160 products finished\n"
     ]
    },
    {
     "name": "stdout",
     "output_type": "stream",
     "text": [
      "12288 products finished\n"
     ]
    },
    {
     "name": "stdout",
     "output_type": "stream",
     "text": [
      "12416 products finished\n"
     ]
    },
    {
     "name": "stdout",
     "output_type": "stream",
     "text": [
      "12544 products finished\n"
     ]
    },
    {
     "name": "stdout",
     "output_type": "stream",
     "text": [
      "12672 products finished\n"
     ]
    },
    {
     "name": "stdout",
     "output_type": "stream",
     "text": [
      "12800 products finished\n"
     ]
    }
   ],
   "source": [
    "for i in range(12824):\n",
    "    X_flat['last_1_day_sales'].iloc[i*123+1:i*123+123] = Y_flat['sales'].iloc[i*123:i*123+122].as_matrix()\n",
    "    X_flat['last_2_day_sales'].iloc[i*123+2:i*123+123] = Y_flat['sales'].iloc[i*123:i*123+121].as_matrix()\n",
    "    X_flat['last_3_day_sales'].iloc[i*123+3:i*123+123] = Y_flat['sales'].iloc[i*123:i*123+120].as_matrix()\n",
    "    X_flat['last_4_day_sales'].iloc[i*123+4:i*123+123] = Y_flat['sales'].iloc[i*123:i*123+119].as_matrix()\n",
    "    X_flat['last_5_day_sales'].iloc[i*123+5:i*123+123] = Y_flat['sales'].iloc[i*123:i*123+118].as_matrix()\n",
    "    X_flat['last_6_day_sales'].iloc[i*123+6:i*123+123] = Y_flat['sales'].iloc[i*123:i*123+117].as_matrix()\n",
    "    X_flat['last_7_day_sales'].iloc[i*123+7:i*123+123] = Y_flat['sales'].iloc[i*123:i*123+116].as_matrix()\n",
    "    X_flat['last_8_day_sales'].iloc[i*123+8:i*123+123] = Y_flat['sales'].iloc[i*123:i*123+115].as_matrix()\n",
    "    X_flat['last_9_day_sales'].iloc[i*123+9:i*123+123] = Y_flat['sales'].iloc[i*123:i*123+114].as_matrix()\n",
    "    X_flat['last_10_day_sales'].iloc[i*123+10:i*123+123] = Y_flat['sales'].iloc[i*123:i*123+113].as_matrix()\n",
    "    X_flat['last_11_day_sales'].iloc[i*123+11:i*123+123] = Y_flat['sales'].iloc[i*123:i*123+112].as_matrix()\n",
    "    X_flat['last_12_day_sales'].iloc[i*123+12:i*123+123] = Y_flat['sales'].iloc[i*123:i*123+111].as_matrix()\n",
    "    X_flat['last_13_day_sales'].iloc[i*123+13:i*123+123] = Y_flat['sales'].iloc[i*123:i*123+110].as_matrix()\n",
    "    X_flat['last_14_day_sales'].iloc[i*123+14:i*123+123] = Y_flat['sales'].iloc[i*123:i*123+109].as_matrix()\n",
    "    X_flat['last_15_day_sales'].iloc[i*123+15:i*123+123] = Y_flat['sales'].iloc[i*123:i*123+108].as_matrix()\n",
    "    X_flat['last_16_day_sales'].iloc[i*123+16:i*123+123] = Y_flat['sales'].iloc[i*123:i*123+107].as_matrix()\n",
    "    X_flat['last_17_day_sales'].iloc[i*123+17:i*123+123] = Y_flat['sales'].iloc[i*123:i*123+106].as_matrix()\n",
    "    X_flat['last_18_day_sales'].iloc[i*123+18:i*123+123] = Y_flat['sales'].iloc[i*123:i*123+105].as_matrix()\n",
    "    X_flat['last_19_day_sales'].iloc[i*123+19:i*123+123] = Y_flat['sales'].iloc[i*123:i*123+104].as_matrix()\n",
    "    X_flat['last_20_day_sales'].iloc[i*123+20:i*123+123] = Y_flat['sales'].iloc[i*123:i*123+103].as_matrix()\n",
    "    X_flat['last_21_day_sales'].iloc[i*123+21:i*123+123] = Y_flat['sales'].iloc[i*123:i*123+102].as_matrix()\n",
    "    X_flat['last_22_day_sales'].iloc[i*123+22:i*123+123] = Y_flat['sales'].iloc[i*123:i*123+101].as_matrix()\n",
    "    X_flat['last_23_day_sales'].iloc[i*123+23:i*123+123] = Y_flat['sales'].iloc[i*123:i*123+100].as_matrix()\n",
    "    X_flat['last_24_day_sales'].iloc[i*123+24:i*123+123] = Y_flat['sales'].iloc[i*123:i*123+99].as_matrix()\n",
    "    X_flat['last_25_day_sales'].iloc[i*123+25:i*123+123] = Y_flat['sales'].iloc[i*123:i*123+98].as_matrix()\n",
    "    X_flat['last_26_day_sales'].iloc[i*123+26:i*123+123] = Y_flat['sales'].iloc[i*123:i*123+97].as_matrix()\n",
    "    X_flat['last_27_day_sales'].iloc[i*123+27:i*123+123] = Y_flat['sales'].iloc[i*123:i*123+96].as_matrix()\n",
    "    X_flat['last_28_day_sales'].iloc[i*123+28:i*123+123] = Y_flat['sales'].iloc[i*123:i*123+95].as_matrix()\n",
    "    if i%128 == 0:\n",
    "        print('{} products finished'.format(str(i)))"
   ]
  },
  {
   "cell_type": "code",
   "execution_count": 16,
   "metadata": {
    "collapsed": true
   },
   "outputs": [],
   "source": [
    "def is_eleventh(row):\n",
    "    if row['date'][-2:] == '11':\n",
    "        return 1\n",
    "    else: \n",
    "        return 0\n",
    "\n",
    "X_flat['is_eleventh'] = X_flat.apply(is_eleventh, axis=1)"
   ]
  },
  {
   "cell_type": "code",
   "execution_count": 18,
   "metadata": {
    "collapsed": true
   },
   "outputs": [],
   "source": [
    "def is_crazy_day(row):\n",
    "    if row['date'] == '2017-11-24': # Black Friday\n",
    "        return 1\n",
    "    return 0\n",
    "\n",
    "X_flat['is_crazy_day'] = X_flat.apply(is_crazy_day, axis=1)"
   ]
  },
  {
   "cell_type": "code",
   "execution_count": 20,
   "metadata": {
    "collapsed": true
   },
   "outputs": [],
   "source": [
    "# One-hot encoding days of week\n",
    "X_flat['day_of_week'] = pd.to_datetime(X_flat['date']).dt.weekday_name"
   ]
  },
  {
   "cell_type": "code",
   "execution_count": 22,
   "metadata": {
    "collapsed": true
   },
   "outputs": [
    {
     "ename": "ValueError",
     "evalue": "columns overlap but no suffix specified: Index(['day_Friday', 'day_Monday', 'day_Saturday', 'day_Sunday',\n       'day_Thursday', 'day_Tuesday', 'day_Wednesday'],\n      dtype='object')",
     "traceback": [
      "\u001b[1;31m---------------------------------------------------------------------------\u001b[0m",
      "\u001b[1;31mValueError\u001b[0m                                Traceback (most recent call last)",
      "\u001b[1;32m<ipython-input-22-087dabd09ea8>\u001b[0m in \u001b[0;36m<module>\u001b[1;34m()\u001b[0m\n\u001b[0;32m      1\u001b[0m \u001b[0mdays\u001b[0m \u001b[1;33m=\u001b[0m \u001b[0mpd\u001b[0m\u001b[1;33m.\u001b[0m\u001b[0mget_dummies\u001b[0m\u001b[1;33m(\u001b[0m\u001b[0mX_flat\u001b[0m\u001b[1;33m[\u001b[0m\u001b[1;34m'day_of_week'\u001b[0m\u001b[1;33m]\u001b[0m\u001b[1;33m,\u001b[0m \u001b[0mprefix\u001b[0m\u001b[1;33m=\u001b[0m\u001b[1;34m'day'\u001b[0m\u001b[1;33m)\u001b[0m\u001b[1;33m\u001b[0m\u001b[0m\n\u001b[1;32m----> 2\u001b[1;33m \u001b[0mX_flat\u001b[0m \u001b[1;33m=\u001b[0m \u001b[0mX_flat\u001b[0m\u001b[1;33m.\u001b[0m\u001b[0mjoin\u001b[0m\u001b[1;33m(\u001b[0m\u001b[0mdays\u001b[0m\u001b[1;33m)\u001b[0m\u001b[1;33m\u001b[0m\u001b[0m\n\u001b[0m",
      "\u001b[1;32m~\\datamining2\\venv\\lib\\site-packages\\pandas\\core\\frame.py\u001b[0m in \u001b[0;36mjoin\u001b[1;34m(self, other, on, how, lsuffix, rsuffix, sort)\u001b[0m\n\u001b[0;32m   5314\u001b[0m         \u001b[1;31m# For SparseDataFrame's benefit\u001b[0m\u001b[1;33m\u001b[0m\u001b[1;33m\u001b[0m\u001b[0m\n\u001b[0;32m   5315\u001b[0m         return self._join_compat(other, on=on, how=how, lsuffix=lsuffix,\n\u001b[1;32m-> 5316\u001b[1;33m                                  rsuffix=rsuffix, sort=sort)\n\u001b[0m\u001b[0;32m   5317\u001b[0m \u001b[1;33m\u001b[0m\u001b[0m\n\u001b[0;32m   5318\u001b[0m     def _join_compat(self, other, on=None, how='left', lsuffix='', rsuffix='',\n",
      "\u001b[1;32m~\\datamining2\\venv\\lib\\site-packages\\pandas\\core\\frame.py\u001b[0m in \u001b[0;36m_join_compat\u001b[1;34m(self, other, on, how, lsuffix, rsuffix, sort)\u001b[0m\n\u001b[0;32m   5329\u001b[0m             return merge(self, other, left_on=on, how=how,\n\u001b[0;32m   5330\u001b[0m                          \u001b[0mleft_index\u001b[0m\u001b[1;33m=\u001b[0m\u001b[0mon\u001b[0m \u001b[1;32mis\u001b[0m \u001b[1;32mNone\u001b[0m\u001b[1;33m,\u001b[0m \u001b[0mright_index\u001b[0m\u001b[1;33m=\u001b[0m\u001b[1;32mTrue\u001b[0m\u001b[1;33m,\u001b[0m\u001b[1;33m\u001b[0m\u001b[0m\n\u001b[1;32m-> 5331\u001b[1;33m                          suffixes=(lsuffix, rsuffix), sort=sort)\n\u001b[0m\u001b[0;32m   5332\u001b[0m         \u001b[1;32melse\u001b[0m\u001b[1;33m:\u001b[0m\u001b[1;33m\u001b[0m\u001b[0m\n\u001b[0;32m   5333\u001b[0m             \u001b[1;32mif\u001b[0m \u001b[0mon\u001b[0m \u001b[1;32mis\u001b[0m \u001b[1;32mnot\u001b[0m \u001b[1;32mNone\u001b[0m\u001b[1;33m:\u001b[0m\u001b[1;33m\u001b[0m\u001b[0m\n",
      "\u001b[1;32m~\\datamining2\\venv\\lib\\site-packages\\pandas\\core\\reshape\\merge.py\u001b[0m in \u001b[0;36mmerge\u001b[1;34m(left, right, how, on, left_on, right_on, left_index, right_index, sort, suffixes, copy, indicator, validate)\u001b[0m\n\u001b[0;32m     56\u001b[0m                          \u001b[0mcopy\u001b[0m\u001b[1;33m=\u001b[0m\u001b[0mcopy\u001b[0m\u001b[1;33m,\u001b[0m \u001b[0mindicator\u001b[0m\u001b[1;33m=\u001b[0m\u001b[0mindicator\u001b[0m\u001b[1;33m,\u001b[0m\u001b[1;33m\u001b[0m\u001b[0m\n\u001b[0;32m     57\u001b[0m                          validate=validate)\n\u001b[1;32m---> 58\u001b[1;33m     \u001b[1;32mreturn\u001b[0m \u001b[0mop\u001b[0m\u001b[1;33m.\u001b[0m\u001b[0mget_result\u001b[0m\u001b[1;33m(\u001b[0m\u001b[1;33m)\u001b[0m\u001b[1;33m\u001b[0m\u001b[0m\n\u001b[0m\u001b[0;32m     59\u001b[0m \u001b[1;33m\u001b[0m\u001b[0m\n\u001b[0;32m     60\u001b[0m \u001b[1;33m\u001b[0m\u001b[0m\n",
      "\u001b[1;32m~\\datamining2\\venv\\lib\\site-packages\\pandas\\core\\reshape\\merge.py\u001b[0m in \u001b[0;36mget_result\u001b[1;34m(self)\u001b[0m\n\u001b[0;32m    586\u001b[0m \u001b[1;33m\u001b[0m\u001b[0m\n\u001b[0;32m    587\u001b[0m         llabels, rlabels = items_overlap_with_suffix(ldata.items, lsuf,\n\u001b[1;32m--> 588\u001b[1;33m                                                      rdata.items, rsuf)\n\u001b[0m\u001b[0;32m    589\u001b[0m \u001b[1;33m\u001b[0m\u001b[0m\n\u001b[0;32m    590\u001b[0m         \u001b[0mlindexers\u001b[0m \u001b[1;33m=\u001b[0m \u001b[1;33m{\u001b[0m\u001b[1;36m1\u001b[0m\u001b[1;33m:\u001b[0m \u001b[0mleft_indexer\u001b[0m\u001b[1;33m}\u001b[0m \u001b[1;32mif\u001b[0m \u001b[0mleft_indexer\u001b[0m \u001b[1;32mis\u001b[0m \u001b[1;32mnot\u001b[0m \u001b[1;32mNone\u001b[0m \u001b[1;32melse\u001b[0m \u001b[1;33m{\u001b[0m\u001b[1;33m}\u001b[0m\u001b[1;33m\u001b[0m\u001b[0m\n",
      "\u001b[1;32m~\\datamining2\\venv\\lib\\site-packages\\pandas\\core\\internals.py\u001b[0m in \u001b[0;36mitems_overlap_with_suffix\u001b[1;34m(left, lsuffix, right, rsuffix)\u001b[0m\n\u001b[0;32m   5024\u001b[0m         \u001b[1;32mif\u001b[0m \u001b[1;32mnot\u001b[0m \u001b[0mlsuffix\u001b[0m \u001b[1;32mand\u001b[0m \u001b[1;32mnot\u001b[0m \u001b[0mrsuffix\u001b[0m\u001b[1;33m:\u001b[0m\u001b[1;33m\u001b[0m\u001b[0m\n\u001b[0;32m   5025\u001b[0m             raise ValueError('columns overlap but no suffix specified: %s' %\n\u001b[1;32m-> 5026\u001b[1;33m                              to_rename)\n\u001b[0m\u001b[0;32m   5027\u001b[0m \u001b[1;33m\u001b[0m\u001b[0m\n\u001b[0;32m   5028\u001b[0m         \u001b[1;32mdef\u001b[0m \u001b[0mlrenamer\u001b[0m\u001b[1;33m(\u001b[0m\u001b[0mx\u001b[0m\u001b[1;33m)\u001b[0m\u001b[1;33m:\u001b[0m\u001b[1;33m\u001b[0m\u001b[0m\n",
      "\u001b[1;31mValueError\u001b[0m: columns overlap but no suffix specified: Index(['day_Friday', 'day_Monday', 'day_Saturday', 'day_Sunday',\n       'day_Thursday', 'day_Tuesday', 'day_Wednesday'],\n      dtype='object')"
     ],
     "output_type": "error"
    }
   ],
   "source": [
    "days = pd.get_dummies(X_flat['day_of_week'], prefix='day')\n",
    "X_flat = X_flat.join(days)"
   ]
  },
  {
   "cell_type": "code",
   "execution_count": 24,
   "metadata": {
    "collapsed": true
   },
   "outputs": [],
   "source": [
    "X_flat['days_since_release'] = (pd.to_datetime(X_flat['date']) - pd.to_datetime(X_flat['releaseDate'])).dt.days"
   ]
  },
  {
   "cell_type": "code",
   "execution_count": 25,
   "metadata": {
    "collapsed": true
   },
   "outputs": [],
   "source": [
    "X_flat['price_diff'] = X_flat['price'] - X_flat['rrp']"
   ]
  },
  {
   "cell_type": "code",
   "execution_count": 26,
   "metadata": {
    "collapsed": true
   },
   "outputs": [],
   "source": [
    "# One-hot encoding everything else except sub-category (too many of them)\n",
    "colors = pd.get_dummies(X_flat['color'], prefix='color')\n",
    "brands = pd.get_dummies(X_flat['brand'], prefix='brand')\n",
    "main_cats = pd.get_dummies(X_flat['mainCategory'], prefix='maincat')\n",
    "cats = pd.get_dummies(X_flat['category'], prefix='cat')\n",
    "sub_cats = pd.get_dummies(X_flat['subCategory'], prefix='subcat')\n",
    "\n",
    "X_flat = X_flat.join(colors)\n",
    "X_flat = X_flat.join(brands)\n",
    "X_flat = X_flat.join(main_cats)\n",
    "X_flat = X_flat.join(cats)"
   ]
  },
  {
   "cell_type": "code",
   "execution_count": 28,
   "metadata": {
    "collapsed": true
   },
   "outputs": [],
   "source": [
    "def marketing_activity(row):\n",
    "    marketingactivities = ['2017-10-11','2017-10-16','2017-11-04','2017-11-11','2017-11-23','2017-11-24', \n",
    "                           '2017-11-25','2017-11-27','2017-12-03','2017-12-27','2017-12-28','2017-12-31', \n",
    "                           '2018-01-14','2018-01-22','2018-01-23','2018-01-30','2018-02-06','2018-02-07', \n",
    "                           '2018-02-20','2018-02-22','2018-02-23']\n",
    "    if row['date'] in marketingactivities:\n",
    "        return 1\n",
    "    else:\n",
    "        return 0\n",
    "    \n",
    "X_flat['marketing_activity'] = X_flat.apply(marketing_activity, axis=1)"
   ]
  },
  {
   "cell_type": "code",
   "execution_count": 30,
   "metadata": {},
   "outputs": [
    {
     "data": {
      "text/plain": [
       "Index(['key', 'pid_x', 'size_x', 'color', 'brand', 'rrp', 'mainCategory',\n       'category', 'subCategory', 'releaseDate',\n       ...\n       'cat_7', 'cat_10', 'cat_16', 'cat_18', 'cat_24', 'cat_30', 'cat_33',\n       'cat_36', 'cat_37', 'marketing_activity'],\n      dtype='object', length=108)"
      ]
     },
     "execution_count": 30,
     "metadata": {},
     "output_type": "execute_result"
    }
   ],
   "source": [
    "X_flat.columns"
   ]
  },
  {
   "cell_type": "markdown",
   "metadata": {},
   "source": [
    "# Dump data files to directory"
   ]
  },
  {
   "cell_type": "code",
   "execution_count": 31,
   "metadata": {},
   "outputs": [],
   "source": [
    "# Dump to pickle\n",
    "pickle.dump(X_flat, open('./data/clean/X_flat.pkl', 'wb'))\n",
    "pickle.dump(Y_flat, open('./data/clean/Y_flat.pkl', 'wb'))\n",
    "# Read the file later by: X_flat = pickle.load(open('path/to/X_flat.pkl', \"rb\"))"
   ]
  },
  {
   "cell_type": "code",
   "execution_count": null,
   "metadata": {},
   "outputs": [],
   "source": []
  }
 ],
 "metadata": {
  "kernelspec": {
   "display_name": "Python 3",
   "language": "python",
   "name": "python3"
  },
  "language_info": {
   "codemirror_mode": {
    "name": "ipython",
    "version": 3
   },
   "file_extension": ".py",
   "mimetype": "text/x-python",
   "name": "python",
   "nbconvert_exporter": "python",
   "pygments_lexer": "ipython3",
   "version": "3.6.4"
  }
 },
 "nbformat": 4,
 "nbformat_minor": 1
}
