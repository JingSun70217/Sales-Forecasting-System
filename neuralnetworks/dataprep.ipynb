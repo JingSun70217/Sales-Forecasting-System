{
 "cells": [
  {
   "cell_type": "code",
   "execution_count": 1,
   "metadata": {
    "collapsed": true
   },
   "outputs": [],
   "source": [
    "import pandas as pd\n",
    "import os\n",
    "from measures import wrangling"
   ]
  },
  {
   "cell_type": "markdown",
   "metadata": {},
   "source": [
    "# Import dataset and prepare data for neural network input"
   ]
  },
  {
   "cell_type": "code",
   "execution_count": 2,
   "metadata": {},
   "outputs": [],
   "source": [
    "dataset = pd.read_csv('./data/clean/data_v0.1.csv', header=0)"
   ]
  },
  {
   "cell_type": "code",
   "execution_count": 3,
   "metadata": {},
   "outputs": [
    {
     "name": "stdout",
     "output_type": "stream",
     "text": [
      "Index(['key', 'pid_x', 'size_x', 'color', 'brand', 'rrp', 'mainCategory',\n       'category', 'subCategory', 'stock',\n       ...\n       '2018-01-22_sales', '2018-01-23_sales', '2018-01-24_sales',\n       '2018-01-25_sales', '2018-01-26_sales', '2018-01-27_sales',\n       '2018-01-28_sales', '2018-01-29_sales', '2018-01-30_sales',\n       '2018-01-31_sales'],\n      dtype='object', length=285)\n"
     ]
    }
   ],
   "source": [
    "print(dataset.columns)"
   ]
  },
  {
   "cell_type": "code",
   "execution_count": 4,
   "metadata": {
    "collapsed": false
   },
   "outputs": [
    {
     "name": "stdout",
     "output_type": "stream",
     "text": [
      "Index(['key', 'pid_x', 'size_x', 'color', 'brand', 'rrp', 'mainCategory',\n       'category', 'subCategory', 'stock',\n       ...\n       '2018-01-22_sales', '2018-01-23_sales', '2018-01-24_sales',\n       '2018-01-25_sales', '2018-01-26_sales', '2018-01-27_sales',\n       '2018-01-28_sales', '2018-01-29_sales', '2018-01-30_sales',\n       '2018-01-31_sales'],\n      dtype='object', length=257)\n"
     ]
    }
   ],
   "source": [
    "# Drop February price-columns\n",
    "dataset = wrangling.remove_price_cols(dataset, '2018-02-01', '2018-02-28')\n",
    "print(dataset.columns)"
   ]
  },
  {
   "cell_type": "code",
   "execution_count": 12,
   "metadata": {
    "collapsed": false
   },
   "outputs": [],
   "source": [
    "# Separate Y labels from X variables\n",
    "Y_train = wrangling.sales_cols(dataset, '2017-10-01', '2017-12-31')\n",
    "Y_test = wrangling.sales_cols(dataset, '2018-01-01', '2018-01-31')\n",
    "X_dataset = wrangling.remove_sales_cols(dataset, '2017-10-01', '2018-01-31')"
   ]
  },
  {
   "cell_type": "code",
   "execution_count": 13,
   "metadata": {},
   "outputs": [],
   "source": [
    "# Drop more unnecessary columns from X\n",
    "X_dataset = X_dataset.drop(['pid_x', 'size_x', 'stock'], axis=1)"
   ]
  },
  {
   "cell_type": "code",
   "execution_count": 14,
   "metadata": {},
   "outputs": [
    {
     "name": "stdout",
     "output_type": "stream",
     "text": [
      "(1577352, 10)\n            key color   brand     rrp  mainCategory  category  subCategory  \\\n1577347  22881S  grau  adidas  139.63             1         7         31.0   \n1577348  22881S  grau  adidas  139.63             1         7         31.0   \n1577349  22881S  grau  adidas  139.63             1         7         31.0   \n1577350  22881S  grau  adidas  139.63             1         7         31.0   \n1577351  22881S  grau  adidas  139.63             1         7         31.0   \n\n        releaseDate              date   price  \n1577347  2017-10-01  2018-01-27_price  104.72  \n1577348  2017-10-01  2018-01-28_price  104.72  \n1577349  2017-10-01  2018-01-29_price  104.72  \n1577350  2017-10-01  2018-01-30_price  104.72  \n1577351  2017-10-01  2018-01-31_price  104.72  \n"
     ]
    }
   ],
   "source": [
    "# Flatten X so that each row is 1 day; we expect 12,824*123 = 1,577,352 rows as result\n",
    "cols = ['key', 'color', 'brand', 'rrp', 'mainCategory', 'category', 'subCategory', 'releaseDate']\n",
    "X_flat = pd.melt(X_dataset, id_vars=cols, var_name='date', value_name='price')\n",
    "X_flat = X_flat.sort_values(['key', 'date']).reset_index(drop=True)\n",
    "print(X_flat.shape)\n",
    "print(X_flat.tail()) # Quick check of the result"
   ]
  },
  {
   "cell_type": "code",
   "execution_count": 15,
   "metadata": {},
   "outputs": [],
   "source": [
    "# Flatten Y similarly, so that the rows of Y correspond to that of X\n",
    "Y_train = pd.melt(Y_train, id_vars='key', var_name='date', value_name='sales')\n",
    "Y_test = pd.melt(Y_test, id_vars='key', var_name='date', value_name='sales')\n",
    "Y_train = Y_train.sort_values(['key', 'date']).reset_index(drop=True)\n",
    "Y_test = Y_test.sort_values(['key', 'date']).reset_index(drop=True)"
   ]
  },
  {
   "cell_type": "code",
   "execution_count": 16,
   "metadata": {},
   "outputs": [
    {
     "name": "stdout",
     "output_type": "stream",
     "text": [
      "(397544, 10)\n(397544, 3)\n"
     ]
    }
   ],
   "source": [
    "# Separate X to training and test data; test data should have 12,824*31 = 397,544 rows\n",
    "X_train = X_flat.loc[X_flat['date'].str.startswith('2017')].reset_index(drop=True)\n",
    "X_test = X_flat.loc[X_flat['date'].str.startswith('2018')].reset_index(drop=True)\n",
    "print(X_test.shape)\n",
    "print(Y_test.shape)"
   ]
  },
  {
   "cell_type": "code",
   "execution_count": 19,
   "metadata": {},
   "outputs": [
    {
     "name": "stdout",
     "output_type": "stream",
     "text": [
      "                   key        date  sales\n0  10000XL ( 158-170 )  2018-01-01    0.0\n1  10000XL ( 158-170 )  2018-01-02    0.0\n2  10000XL ( 158-170 )  2018-01-03    0.0\n3  10000XL ( 158-170 )  2018-01-04    0.0\n4  10000XL ( 158-170 )  2018-01-05    0.0\n                   key  color brand    rrp  mainCategory  category  \\\n0  10000XL ( 158-170 )  gruen  Nike  25.33             1         7   \n1  10000XL ( 158-170 )  gruen  Nike  25.33             1         7   \n2  10000XL ( 158-170 )  gruen  Nike  25.33             1         7   \n3  10000XL ( 158-170 )  gruen  Nike  25.33             1         7   \n4  10000XL ( 158-170 )  gruen  Nike  25.33             1         7   \n\n   subCategory releaseDate        date  price  \n0         25.0  2017-10-01  2018-01-01  18.99  \n1         25.0  2017-10-01  2018-01-02  18.99  \n2         25.0  2017-10-01  2018-01-03  18.99  \n3         25.0  2017-10-01  2018-01-04  18.99  \n4         25.0  2017-10-01  2018-01-05  18.99  \n"
     ]
    }
   ],
   "source": [
    "# Clean 'date' columns to keep only YYYY-MM-DD part\n",
    "X_train['date'] = X_train['date'].str[0:10]\n",
    "X_test['date'] = X_test['date'].str[0:10]\n",
    "Y_train['date'] = Y_train['date'].str[0:10]\n",
    "Y_test['date'] = Y_test['date'].str[0:10]\n",
    "print(Y_test.head())\n",
    "print(X_test.head())"
   ]
  },
  {
   "cell_type": "code",
   "execution_count": 20,
   "metadata": {},
   "outputs": [],
   "source": [
    "# Store dataframes to csv\n",
    "out_directory = './data/clean'\n",
    "if not os.path.exists(out_directory):\n",
    "    os.makedirs(out_directory)\n",
    "\n",
    "X_train.to_csv('{}/nn_X_train.csv'.format(out_directory))\n",
    "X_test.to_csv('{}/nn_X_test.csv'.format(out_directory))\n",
    "Y_train.to_csv('{}/nn_Y_train.csv'.format(out_directory))\n",
    "Y_test.to_csv('{}/nn_Y_test.csv'.format(out_directory))"
   ]
  },
  {
   "cell_type": "code",
   "execution_count": null,
   "metadata": {},
   "outputs": [],
   "source": []
  }
 ],
 "metadata": {
  "kernelspec": {
   "display_name": "Python 2",
   "language": "python",
   "name": "python2"
  },
  "language_info": {
   "codemirror_mode": {
    "name": "ipython",
    "version": 2
   },
   "file_extension": ".py",
   "mimetype": "text/x-python",
   "name": "python",
   "nbconvert_exporter": "python",
   "pygments_lexer": "ipython2",
   "version": "2.7.6"
  }
 },
 "nbformat": 4,
 "nbformat_minor": 0
}
