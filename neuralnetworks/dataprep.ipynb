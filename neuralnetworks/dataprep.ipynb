{
 "cells": [
  {
   "cell_type": "code",
   "execution_count": 117,
   "metadata": {
    "collapsed": true
   },
   "outputs": [],
   "source": [
    "import pandas as pd\n",
    "import os\n",
    "from measures import wrangling"
   ]
  },
  {
   "cell_type": "markdown",
   "metadata": {},
   "source": [
    "# Import dataset and flatten for neural network input"
   ]
  },
  {
   "cell_type": "code",
   "execution_count": 147,
   "metadata": {},
   "outputs": [],
   "source": [
    "dataset = pd.read_csv('./data/clean/data_v0.1.csv', header=0)"
   ]
  },
  {
   "cell_type": "code",
   "execution_count": 148,
   "metadata": {},
   "outputs": [],
   "source": [
    "cols = pd.DataFrame([dataset.columns.tolist()])\n",
    "cols.to_csv('./data/clean/data_v0.1_columns.csv')"
   ]
  },
  {
   "cell_type": "code",
   "execution_count": 149,
   "metadata": {},
   "outputs": [
    {
     "name": "stdout",
     "output_type": "stream",
     "text": [
      "Index(['key', 'pid_x', 'size_x', 'color', 'brand', 'rrp', 'mainCategory',\n",
      "       'category', 'subCategory', 'stock',\n",
      "       ...\n",
      "       '2018-01-22_sales', '2018-01-23_sales', '2018-01-24_sales',\n",
      "       '2018-01-25_sales', '2018-01-26_sales', '2018-01-27_sales',\n",
      "       '2018-01-28_sales', '2018-01-29_sales', '2018-01-30_sales',\n",
      "       '2018-01-31_sales'],\n",
      "      dtype='object', length=257)\n"
     ]
    }
   ],
   "source": [
    "# Drop February price-columns\n",
    "dataset = wrangling.remove_price_cols(dataset, '2018-02-01', '2018-02-28')\n",
    "print(dataset.columns)"
   ]
  },
  {
   "cell_type": "code",
   "execution_count": 150,
   "metadata": {},
   "outputs": [],
   "source": [
    "# Separate Y labels from X variables\n",
    "Y_dataset = wrangling.sales_cols(dataset, '2017-10-01', '2018-01-31') \n",
    "X_dataset = wrangling.remove_sales_cols(dataset, '2017-10-01', '2018-01-31')"
   ]
  },
  {
   "cell_type": "code",
   "execution_count": 151,
   "metadata": {},
   "outputs": [
    {
     "name": "stdout",
     "output_type": "stream",
     "text": [
      "Index(['key', 'pid_x', 'size_x', 'color', 'brand', 'rrp', 'mainCategory',\n",
      "       'category', 'subCategory', 'releaseDate',\n",
      "       ...\n",
      "       '2018-01-22_price', '2018-01-23_price', '2018-01-24_price',\n",
      "       '2018-01-25_price', '2018-01-26_price', '2018-01-27_price',\n",
      "       '2018-01-28_price', '2018-01-29_price', '2018-01-30_price',\n",
      "       '2018-01-31_price'],\n",
      "      dtype='object', length=133)\n"
     ]
    }
   ],
   "source": [
    "X_dataset = X_dataset.drop('stock', axis=1)\n",
    "print(X_dataset.columns)"
   ]
  },
  {
   "cell_type": "code",
   "execution_count": 152,
   "metadata": {},
   "outputs": [
    {
     "name": "stdout",
     "output_type": "stream",
     "text": [
      "(1577352, 12)\n",
      "            key  pid_x size_x color   brand     rrp  mainCategory  category  \\\n",
      "1577347  22881S  22881      S  grau  adidas  139.63             1         7   \n",
      "1577348  22881S  22881      S  grau  adidas  139.63             1         7   \n",
      "1577349  22881S  22881      S  grau  adidas  139.63             1         7   \n",
      "1577350  22881S  22881      S  grau  adidas  139.63             1         7   \n",
      "1577351  22881S  22881      S  grau  adidas  139.63             1         7   \n",
      "\n",
      "         subCategory releaseDate              date   price  \n",
      "1577347         31.0  2017-10-01  2018-01-27_price  104.72  \n",
      "1577348         31.0  2017-10-01  2018-01-28_price  104.72  \n",
      "1577349         31.0  2017-10-01  2018-01-29_price  104.72  \n",
      "1577350         31.0  2017-10-01  2018-01-30_price  104.72  \n",
      "1577351         31.0  2017-10-01  2018-01-31_price  104.72  \n"
     ]
    }
   ],
   "source": [
    "# Flatten X so that each row is 1 day; we expect 12,824*123 = 1,577,352 rows as result\n",
    "cols = ['key', 'pid_x', 'size_x', 'color', 'brand', 'rrp', 'mainCategory', 'category', 'subCategory', 'releaseDate']\n",
    "X_flat = pd.melt(X_dataset, id_vars=cols, var_name='date', value_name='price')\n",
    "X_flat = X_flat.sort_values(['key', 'date']).reset_index(drop=True)\n",
    "print(X_flat.shape)\n",
    "print(X_flat.tail()) # Quick check of the result"
   ]
  },
  {
   "cell_type": "code",
   "execution_count": 154,
   "metadata": {},
   "outputs": [
    {
     "name": "stdout",
     "output_type": "stream",
     "text": [
      "(1577352, 3)\n",
      "            key              date  sales\n",
      "1577347  22881S  2018-01-27_sales    0.0\n",
      "1577348  22881S  2018-01-28_sales    0.0\n",
      "1577349  22881S  2018-01-29_sales    0.0\n",
      "1577350  22881S  2018-01-30_sales    1.0\n",
      "1577351  22881S  2018-01-31_sales    1.0\n"
     ]
    }
   ],
   "source": [
    "# Flatten Y similarly, so that the rows of Y correspond to that of X\n",
    "Y_flat = pd.melt(Y_dataset, id_vars='key', var_name='date', value_name='sales')\n",
    "Y_flat = Y_flat.sort_values(['key', 'date']).reset_index(drop=True)\n",
    "print(Y_flat.shape)\n",
    "print(Y_flat.tail())"
   ]
  },
  {
   "cell_type": "markdown",
   "metadata": {},
   "source": [
    "# Cleaning data"
   ]
  },
  {
   "cell_type": "code",
   "execution_count": 155,
   "metadata": {},
   "outputs": [],
   "source": [
    "# Clean 'date' columns to keep only YYYY-MM-DD part\n",
    "X_flat['date'] = X_flat['date'].str[0:10]\n",
    "Y_flat['date'] = Y_flat['date'].str[0:10]"
   ]
  },
  {
   "cell_type": "code",
   "execution_count": 156,
   "metadata": {},
   "outputs": [],
   "source": [
    "X_flat['subCategory'] = X_flat['subCategory'].fillna(0) # Fill blank sub-category with 0\n",
    "X_flat['size_x'] = X_flat['size_x'].fillna('NA') # Fill blank sizes with 'NA' string\n",
    "X_flat['price'] = X_flat['price'].fillna(method='bfill') # Fill blank prices with earliest given price"
   ]
  },
  {
   "cell_type": "markdown",
   "metadata": {},
   "source": [
    "# Feature engineering"
   ]
  },
  {
   "cell_type": "code",
   "execution_count": 158,
   "metadata": {},
   "outputs": [
    {
     "name": "stdout",
     "output_type": "stream",
     "text": [
      "                   key  pid_x          size_x  color brand    rrp  \\\n",
      "0  10000XL ( 158-170 )  10000  XL ( 158-170 )  gruen  Nike  25.33   \n",
      "1  10000XL ( 158-170 )  10000  XL ( 158-170 )  gruen  Nike  25.33   \n",
      "2  10000XL ( 158-170 )  10000  XL ( 158-170 )  gruen  Nike  25.33   \n",
      "3  10000XL ( 158-170 )  10000  XL ( 158-170 )  gruen  Nike  25.33   \n",
      "4  10000XL ( 158-170 )  10000  XL ( 158-170 )  gruen  Nike  25.33   \n",
      "\n",
      "   mainCategory  category  subCategory releaseDate        date  price  \n",
      "0             1         7         25.0  2017-10-01  2017-10-01  18.99  \n",
      "1             1         7         25.0  2017-10-01  2017-10-02  18.99  \n",
      "2             1         7         25.0  2017-10-01  2017-10-03  18.99  \n",
      "3             1         7         25.0  2017-10-01  2017-10-04  18.99  \n",
      "4             1         7         25.0  2017-10-01  2017-10-05  18.99  \n"
     ]
    }
   ],
   "source": [
    "print(X_flat.head())"
   ]
  },
  {
   "cell_type": "code",
   "execution_count": 159,
   "metadata": {},
   "outputs": [],
   "source": [
    "def is_eleventh(row):\n",
    "    if row['date'][-2:] == '11':\n",
    "        return 1\n",
    "    else: \n",
    "        return 0\n",
    "\n",
    "X_flat['is_eleventh'] = X_flat.apply(is_eleventh, axis=1)"
   ]
  },
  {
   "cell_type": "code",
   "execution_count": 160,
   "metadata": {},
   "outputs": [],
   "source": [
    "def is_crazy_day(row):\n",
    "    if row['date'] == '2017-11-24': # Black Friday\n",
    "        return 1\n",
    "    return 0\n",
    "\n",
    "X_flat['is_crazy_day'] = X_flat.apply(is_crazy_day, axis=1)"
   ]
  },
  {
   "cell_type": "code",
   "execution_count": 161,
   "metadata": {},
   "outputs": [],
   "source": [
    "# One-hot encoding days\n",
    "def is_day(day):\n",
    "    if row['day_of_week'] == day:\n",
    "        return 1\n",
    "    return 0\n",
    "\n",
    "X_flat['day_of_week'] = pd.to_datetime(X_flat['date']).dt.weekday_name"
   ]
  },
  {
   "cell_type": "code",
   "execution_count": 162,
   "metadata": {},
   "outputs": [],
   "source": [
    "days = pd.get_dummies(X_flat['day_of_week'], prefix='day')\n",
    "X_flat = X_flat.join(days)"
   ]
  },
  {
   "cell_type": "code",
   "execution_count": 163,
   "metadata": {},
   "outputs": [],
   "source": [
    "X_flat['days_since_release'] = (pd.to_datetime(X_flat['date']) - pd.to_datetime(X_flat['releaseDate'])).dt.days"
   ]
  },
  {
   "cell_type": "code",
   "execution_count": 164,
   "metadata": {},
   "outputs": [],
   "source": [
    "X_flat['price_diff'] = X_flat['price'] - X_flat['rrp']"
   ]
  },
  {
   "cell_type": "code",
   "execution_count": 165,
   "metadata": {},
   "outputs": [],
   "source": [
    "# One-hot encoding everything else except sub-category (too many of them)\n",
    "colors = pd.get_dummies(X_flat['color'], prefix='color')\n",
    "brands = pd.get_dummies(X_flat['brand'], prefix='brand')\n",
    "main_cats = pd.get_dummies(X_flat['mainCategory'], prefix='maincat')\n",
    "cats = pd.get_dummies(X_flat['category'], prefix='cat')\n",
    "sub_cats = pd.get_dummies(X_flat['subCategory'], prefix='subcat')\n",
    "\n",
    "X_flat = X_flat.join(colors)\n",
    "X_flat = X_flat.join(brands)\n",
    "X_flat = X_flat.join(main_cats)\n",
    "X_flat = X_flat.join(cats)"
   ]
  },
  {
   "cell_type": "code",
   "execution_count": 166,
   "metadata": {},
   "outputs": [
    {
     "data": {
      "text/plain": [
       "Index(['key', 'pid_x', 'size_x', 'color', 'brand', 'rrp', 'mainCategory',\n",
       "       'category', 'subCategory', 'releaseDate', 'date', 'price',\n",
       "       'is_eleventh', 'is_crazy_day', 'day_of_week', 'day_Friday',\n",
       "       'day_Monday', 'day_Saturday', 'day_Sunday', 'day_Thursday',\n",
       "       'day_Tuesday', 'day_Wednesday', 'days_since_release', 'price_diff',\n",
       "       'color_beige', 'color_blau', 'color_braun', 'color_gelb', 'color_gold',\n",
       "       'color_grau', 'color_gruen', 'color_khaki', 'color_lila',\n",
       "       'color_orange', 'color_pink', 'color_rosa', 'color_rot',\n",
       "       'color_schwarz', 'color_silber', 'color_tuerkis', 'color_weiss',\n",
       "       'brand_Asics', 'brand_Cinquestelle', 'brand_Converse', 'brand_Diadora',\n",
       "       'brand_Erima', 'brand_FREAM', 'brand_Hummel', 'brand_Jako',\n",
       "       'brand_Jordan', 'brand_KangaROOS', 'brand_Kempa', 'brand_Lotto',\n",
       "       'brand_Mizuno', 'brand_New Balance', 'brand_Nike', 'brand_Onitsuka',\n",
       "       'brand_PUMA', 'brand_Reebok', 'brand_Reusch', 'brand_Sells',\n",
       "       'brand_Sport2000', 'brand_Stance', 'brand_Uhlsport',\n",
       "       'brand_Under Armour', 'brand_adidas', 'maincat_1', 'maincat_9',\n",
       "       'maincat_15', 'cat_2', 'cat_7', 'cat_10', 'cat_16', 'cat_18', 'cat_24',\n",
       "       'cat_30', 'cat_33', 'cat_36', 'cat_37'],\n",
       "      dtype='object')"
      ]
     },
     "execution_count": 166,
     "metadata": {},
     "output_type": "execute_result"
    }
   ],
   "source": [
    "X_flat.columns"
   ]
  },
  {
   "cell_type": "markdown",
   "metadata": {},
   "source": [
    "# Dump data files to directory"
   ]
  },
  {
   "cell_type": "code",
   "execution_count": 167,
   "metadata": {},
   "outputs": [],
   "source": [
    "# Store dataframes to csv\n",
    "out_directory = './data/clean'\n",
    "if not os.path.exists(out_directory):\n",
    "    os.makedirs(out_directory)\n",
    "\n",
    "X_flat.to_csv('{}/nn_X.csv'.format(out_directory))\n",
    "Y_flat.to_csv('{}/nn_Y.csv'.format(out_directory))"
   ]
  },
  {
   "cell_type": "code",
   "execution_count": null,
   "metadata": {},
   "outputs": [],
   "source": []
  }
 ],
 "metadata": {
  "kernelspec": {
   "display_name": "Python 3",
   "language": "python",
   "name": "python3"
  },
  "language_info": {
   "codemirror_mode": {
    "name": "ipython",
    "version": 3
   },
   "file_extension": ".py",
   "mimetype": "text/x-python",
   "name": "python",
   "nbconvert_exporter": "python",
   "pygments_lexer": "ipython3",
   "version": "3.6.4"
  }
 },
 "nbformat": 4,
 "nbformat_minor": 1
}
